{
  "nbformat": 4,
  "nbformat_minor": 5,
  "metadata": {
    "kernelspec": {
      "display_name": "Python 3",
      "language": "python",
      "name": "python3"
    },
    "language_info": {
      "codemirror_mode": {
        "name": "ipython",
        "version": 3
      },
      "file_extension": ".py",
      "mimetype": "text/x-python",
      "name": "python",
      "nbconvert_exporter": "python",
      "pygments_lexer": "ipython3",
      "version": "3.8.5"
    },
    "colab": {
      "name": "dataset_creation.ipynb",
      "provenance": [],
      "toc_visible": true
    }
  },
  "cells": [
    {
      "cell_type": "code",
      "metadata": {
        "colab": {
          "base_uri": "https://localhost:8080/"
        },
        "id": "Mg1O89OtDswx",
        "outputId": "1004722f-74e7-427c-d8c9-2bd458818287"
      },
      "source": [
        "!python --version"
      ],
      "id": "Mg1O89OtDswx",
      "execution_count": 27,
      "outputs": [
        {
          "output_type": "stream",
          "text": [
            "Python 3.7.10\n"
          ],
          "name": "stdout"
        }
      ]
    },
    {
      "cell_type": "code",
      "metadata": {
        "colab": {
          "base_uri": "https://localhost:8080/"
        },
        "id": "5MJsVTJODswy",
        "outputId": "e3668fd0-f27f-43bc-d136-3cf2a1b8fed9"
      },
      "source": [
        "import sys\n",
        "import os\n",
        "import requests\n",
        "import subprocess\n",
        "import shutil\n",
        "from logging import getLogger, StreamHandler, INFO\n",
        "import matplotlib.pyplot as plt\n",
        "\n",
        "\n",
        "logger = getLogger(__name__)\n",
        "logger.addHandler(StreamHandler())\n",
        "logger.setLevel(INFO)\n",
        "\n",
        "\n",
        "def install(\n",
        "        chunk_size=4096,\n",
        "        file_name=\"Miniconda3-latest-Linux-x86_64.sh\",\n",
        "        url_base=\"https://repo.continuum.io/miniconda/\",\n",
        "        conda_path=os.path.expanduser(os.path.join(\"~\", \"miniconda\")),\n",
        "        rdkit_version=None,\n",
        "        add_python_path=True,\n",
        "        force=False):\n",
        "    \"\"\"install rdkit from miniconda\n",
        "    ```\n",
        "    import rdkit_installer\n",
        "    rdkit_installer.install()\n",
        "    ```\n",
        "    \"\"\"\n",
        "\n",
        "    python_path = os.path.join(\n",
        "        conda_path,\n",
        "        \"lib\",\n",
        "        \"python{0}.{1}\".format(*sys.version_info),\n",
        "        \"site-packages\",\n",
        "    )\n",
        "\n",
        "    if add_python_path and python_path not in sys.path:\n",
        "        logger.info(\"add {} to PYTHONPATH\".format(python_path))\n",
        "        sys.path.append(python_path)\n",
        "\n",
        "    if os.path.isdir(os.path.join(python_path, \"rdkit\")):\n",
        "        logger.info(\"rdkit is already installed\")\n",
        "        if not force:\n",
        "            return\n",
        "\n",
        "        logger.info(\"force re-install\")\n",
        "\n",
        "    url = url_base + file_name\n",
        "    python_version = \"{0}.{1}.{2}\".format(*sys.version_info)\n",
        "\n",
        "    logger.info(\"python version: {}\".format(python_version))\n",
        "\n",
        "    if os.path.isdir(conda_path):\n",
        "        logger.warning(\"remove current miniconda\")\n",
        "        shutil.rmtree(conda_path)\n",
        "    elif os.path.isfile(conda_path):\n",
        "        logger.warning(\"remove {}\".format(conda_path))\n",
        "        os.remove(conda_path)\n",
        "\n",
        "    logger.info('fetching installer from {}'.format(url))\n",
        "    res = requests.get(url, stream=True)\n",
        "    res.raise_for_status()\n",
        "    with open(file_name, 'wb') as f:\n",
        "        for chunk in res.iter_content(chunk_size):\n",
        "            f.write(chunk)\n",
        "    logger.info('done')\n",
        "\n",
        "    logger.info('installing miniconda to {}'.format(conda_path))\n",
        "    subprocess.check_call([\"bash\", file_name, \"-b\", \"-p\", conda_path])\n",
        "    logger.info('done')\n",
        "\n",
        "    logger.info(\"installing rdkit\")\n",
        "    subprocess.check_call([\n",
        "        os.path.join(conda_path, \"bin\", \"conda\"),\n",
        "        \"install\",\n",
        "        \"--yes\",\n",
        "        \"-c\", \"rdkit\",\n",
        "        \"python=={}\".format(python_version),\n",
        "        \"rdkit\" if rdkit_version is None else \"rdkit=={}\".format(rdkit_version)])\n",
        "    logger.info(\"done\")\n",
        "\n",
        "    import rdkit\n",
        "    logger.info(\"rdkit-{} installation finished!\".format(rdkit.__version__))\n",
        "\n",
        "\n",
        "if __name__ == \"__main__\":\n",
        "    install()"
      ],
      "id": "5MJsVTJODswy",
      "execution_count": 28,
      "outputs": [
        {
          "output_type": "stream",
          "text": [
            "rdkit is already installed\n",
            "rdkit is already installed\n"
          ],
          "name": "stderr"
        }
      ]
    },
    {
      "cell_type": "code",
      "metadata": {
        "id": "0MQaXnDWDsw0"
      },
      "source": [
        "from rdkit import Chem\n",
        "from rdkit.Chem.Draw import IPythonConsole\n",
        "from rdkit.Chem import rdchem\n",
        "from rdkit.Chem import Draw\n",
        "\n",
        "import re\n"
      ],
      "id": "0MQaXnDWDsw0",
      "execution_count": 29,
      "outputs": []
    },
    {
      "cell_type": "code",
      "metadata": {
        "colab": {
          "base_uri": "https://localhost:8080/"
        },
        "id": "2A3CeLKZDsw0",
        "outputId": "54338dfe-2a54-4a1c-aa4c-cda90a54c46e"
      },
      "source": [
        "!pip install mordred"
      ],
      "id": "2A3CeLKZDsw0",
      "execution_count": 30,
      "outputs": [
        {
          "output_type": "stream",
          "text": [
            "Requirement already satisfied: mordred in /usr/local/lib/python3.7/dist-packages (1.2.0)\n",
            "Requirement already satisfied: networkx==2.* in /usr/local/lib/python3.7/dist-packages (from mordred) (2.5.1)\n",
            "Requirement already satisfied: numpy==1.* in /usr/local/lib/python3.7/dist-packages (from mordred) (1.19.5)\n",
            "Requirement already satisfied: six==1.* in /usr/local/lib/python3.7/dist-packages (from mordred) (1.15.0)\n",
            "Requirement already satisfied: decorator<5,>=4.3 in /usr/local/lib/python3.7/dist-packages (from networkx==2.*->mordred) (4.4.2)\n"
          ],
          "name": "stdout"
        }
      ]
    },
    {
      "cell_type": "markdown",
      "metadata": {
        "id": "gbSCBnvrga1v"
      },
      "source": [
        "# feature.py code"
      ],
      "id": "gbSCBnvrga1v"
    },
    {
      "cell_type": "code",
      "metadata": {
        "id": "m_udtFUQDsw1"
      },
      "source": [
        "from rdkit import Chem\n",
        "import numpy as np\n",
        "import pandas as pd\n",
        "import pickle\n",
        "from mordred import Calculator, descriptors\n",
        "\n",
        "# Credit: http://www.dna.bio.keio.ac.jp/smiles/\n",
        "\n",
        "# xp = np\n",
        "\n",
        "#\n",
        "Chiral = {\"CHI_UNSPECIFIED\":0,  \"CHI_TETRAHEDRAL_CW\":1, \"CHI_TETRAHEDRAL_CCW\":2, \"CHI_OTHER\":3}\n",
        "Hybridization = {\"UNSPECIFIED\":0, \"S\":1, \"SP\":2, \"SP2\":3, \"SP3\":4, \"SP3D\":5, \"SP3D2\":6, \"OTHER\":7}\n",
        "\n",
        " # featurevector\n",
        "atomInfo = 21\n",
        "structInfo = 21\n",
        "lensize= atomInfo + structInfo\n",
        "\n",
        "H_Vector = [0]*atomInfo\n",
        "H_Vector[0]= 1\n",
        "\n",
        "#\n",
        "lowerReg = re.compile(r'^[a-z]+$')\n",
        "def islower(s):\n",
        "    return lowerReg.match(s) is not None\n",
        "\n",
        "#\n",
        "upperReg = re.compile(r'^[A-Z]+$')\n",
        "def isupper(s):\n",
        "    return upperReg.match(s) is not None\n",
        "\n",
        "#\n",
        "def calc_atom_feature(atom):\n",
        "    \n",
        "    if atom.GetSymbol() == 'H':   feature = [1,0,0,0,0]\n",
        "    elif atom.GetSymbol() == 'C': feature = [0,1,0,0,0]\n",
        "    elif atom.GetSymbol() == 'O': feature = [0,0,1,0,0]\n",
        "    elif atom.GetSymbol() == 'N': feature = [0,0,0,1,0]\n",
        "    else: feature = [0,0,0,0,1]\n",
        "\n",
        "    feature.append(atom.GetTotalNumHs()/8)\n",
        "    feature.append(atom.GetTotalDegree()/4)\n",
        "    feature.append(atom.GetFormalCharge()/8)\n",
        "    feature.append(atom.GetTotalValence()/8)\n",
        "    feature.append(atom.IsInRing()*1)\n",
        "    feature.append(atom.GetIsAromatic()*1)\n",
        "\n",
        "    f =  [0]*(len(Chiral)-1)\n",
        "    if Chiral.get(str(atom.GetChiralTag()), 0) != 0:\n",
        "        f[Chiral.get(str(atom.GetChiralTag()), 0)] = 1\n",
        "    feature.extend(f)\n",
        "\n",
        "    f =  [0]*(len(Hybridization)-1)\n",
        "    if Hybridization.get(str(atom.GetHybridization()), 0) != 0:\n",
        "        f[Hybridization.get(str(atom.GetHybridization()), 0)] = 1\n",
        "    feature.extend(f)\n",
        "    \n",
        "    return(feature)\n",
        "\n",
        "def calc_structure_feature(c,flag,label):\n",
        "    feature = [0]*structInfo\n",
        "\n",
        "    if c== '(' :\n",
        "        feature[0] = 1\n",
        "        flag = 0\n",
        "    elif c== ')' :\n",
        "        feature[1] = 1\n",
        "        flag = 0\n",
        "    elif c== '[' :\n",
        "        feature[2] = 1\n",
        "        flag = 0\n",
        "    elif c== ']' :\n",
        "        feature[3] = 1\n",
        "        flag = 0\n",
        "    elif c== '.' :\n",
        "        feature[4] = 1\n",
        "        flag = 0\n",
        "    elif c== ':' :\n",
        "        feature[5] = 1\n",
        "        flag = 0\n",
        "    elif c== '=' :\n",
        "        feature[6] = 1\n",
        "        flag = 0\n",
        "    elif c== '#' :\n",
        "        feature[7] = 1\n",
        "        flag = 0\n",
        "    elif c== '\\\\':\n",
        "        feature[8] = 1\n",
        "        flag = 0\n",
        "    elif c== '/' :\n",
        "        feature[9] = 1\n",
        "        flag = 0  \n",
        "    elif c== '@' :\n",
        "        feature[10] = 1\n",
        "        flag = 0\n",
        "    elif c== '+' :\n",
        "        feature[11] = 1\n",
        "        flag = 1\n",
        "    elif c== '-' :\n",
        "        feature[12] = 1\n",
        "        flag = 1\n",
        "    elif c.isdigit() == True:\n",
        "        if flag == 0:\n",
        "            if c in label:\n",
        "                feature[20] = 1\n",
        "            else:\n",
        "                label.append(c)\n",
        "                feature[19] = 1\n",
        "        else:\n",
        "            feature[int(c)-1+12] = 1\n",
        "            flag = 0\n",
        "    return(feature,flag,label)\n",
        "\n",
        "def calc_featurevector(mol, smiles, atomsize):\n",
        "    flag = 0\n",
        "    label = []\n",
        "    molfeature=[]\n",
        "    idx = 0\n",
        "    j = 0\n",
        "            \n",
        "    for c in smiles:\n",
        "        if islower(c) == True: continue\n",
        "        elif isupper(c) == True:\n",
        "            if c == 'H':\n",
        "                molfeature.extend(H_Vector)\n",
        "            else:\n",
        "                molfeature.extend(calc_atom_feature(rdchem.Mol.GetAtomWithIdx(mol, idx)))\n",
        "                idx = idx + 1\n",
        "            molfeature.extend([0]*structInfo)\n",
        "            j = j +1\n",
        "            \n",
        "        else:   \n",
        "            molfeature.extend([0]*atomInfo)\n",
        "            f,flag,label = calc_structure_feature(c,flag,label)\n",
        "            molfeature.extend(f)\n",
        "            j = j +1\n",
        "\n",
        "    #0-Padding\n",
        "    molfeature.extend([0]*(atomsize-j)*lensize)        \n",
        "    return(molfeature)\n",
        "\n",
        "\n",
        "def isomer_smiles(mol,n):\n",
        "    try: defaultSMILES = Chem.MolToSmiles(mol, kekuleSmiles=False, isomericSmiles=True, rootedAtAtom=int(n))\n",
        "    except: defaultSMILES = Chem.MolToSmiles(mol, kekuleSmiles=False, isomericSmiles=True)\n",
        "    try: isomerSMILES = Chem.MolToSmiles(mol, kekuleSmiles=True, isomericSmiles=True, rootedAtAtom=int(n))\n",
        "    except: isomerSMILES = Chem.MolToSmiles(mol, kekuleSmiles=True, isomericSmiles=True)\n",
        "    return isomerSMILES\n",
        "\n",
        "\n",
        "def mol_to_feature(mol,n,atomsize):\n",
        "    try: defaultSMILES = Chem.MolToSmiles(mol, kekuleSmiles=False, isomericSmiles=True, rootedAtAtom=int(n))\n",
        "    except: defaultSMILES = Chem.MolToSmiles(mol, kekuleSmiles=False, isomericSmiles=True)\n",
        "    try: isomerSMILES = Chem.MolToSmiles(mol, kekuleSmiles=True, isomericSmiles=True, rootedAtAtom=int(n))\n",
        "    except: isomerSMILES = Chem.MolToSmiles(mol, kekuleSmiles=True, isomericSmiles=True)\n",
        "    return calc_featurevector(Chem.MolFromSmiles(defaultSMILES), isomerSMILES, atomsize)\n",
        "\n",
        "\n",
        "def mol_to_allSMILESfeature(mol, atomsize):\n",
        "    idx, features =0,  []\n",
        "    while idx < mol.GetNumAtoms():\n",
        "        try: defaultSMILES = Chem.MolToSmiles(mol, kekuleSmiles=False, isomericSmiles=True, rootedAtAtom=int(idx))\n",
        "        except: break\n",
        "        isomerSMILES = Chem.MolToSmiles(mol, kekuleSmiles=True, isomericSmiles=True, rootedAtAtom=int(idx))\n",
        "        features.append(calc_featurevector(Chem.MolFromSmiles(defaultSMILES), isomerSMILES, atomsize))\n",
        "        idx = idx + 1\n",
        "    return(features)\n",
        "\n",
        "\n",
        "def atom_flag(smiles,atomsize):\n",
        "    flag=[]\n",
        "    j = 0\n",
        "            \n",
        "    for c in smiles:\n",
        "        if islower(c) == True: \n",
        "            if c in ['c', 'n', 's', 'o']:\n",
        "                flag.append(1)\n",
        "            else:\n",
        "                flag.append(0)\n",
        "        elif isupper(c) == True:\n",
        "            if c in ['H',]:\n",
        "                flag.append(0)\n",
        "            else:\n",
        "                flag.append(1)\n",
        "        else:   \n",
        "            flag.append(0)           \n",
        "\n",
        "    #0-Padding\n",
        "    flag.extend([0]*(atomsize-len(smiles)))        \n",
        "    return(flag)"
      ],
      "id": "m_udtFUQDsw1",
      "execution_count": 31,
      "outputs": []
    },
    {
      "cell_type": "code",
      "metadata": {
        "id": "rb0ln7B1Dsw4"
      },
      "source": [
        "from tqdm import tqdm\n",
        "from rdkit import Chem\n",
        "import numpy as np\n",
        "import pandas as pd\n",
        "import pickle\n",
        "from mordred import Calculator, descriptors"
      ],
      "id": "rb0ln7B1Dsw4",
      "execution_count": 32,
      "outputs": []
    },
    {
      "cell_type": "code",
      "metadata": {
        "colab": {
          "base_uri": "https://localhost:8080/"
        },
        "id": "U1ET_tfmDsw4",
        "outputId": "d980fb84-e08f-48cc-c279-1d7b1fdab16d"
      },
      "source": [
        "!gdown --id 1EM5skz4TfnLk3JZSt-tKKadYFoPeYty7"
      ],
      "id": "U1ET_tfmDsw4",
      "execution_count": 33,
      "outputs": [
        {
          "output_type": "stream",
          "text": [
            "Downloading...\n",
            "From: https://drive.google.com/uc?id=1EM5skz4TfnLk3JZSt-tKKadYFoPeYty7\n",
            "To: /content/SF17_ViralChEMBL_dataset.csv\n",
            "251MB [00:01, 169MB/s]\n"
          ],
          "name": "stdout"
        }
      ]
    },
    {
      "cell_type": "code",
      "metadata": {
        "scrolled": false,
        "colab": {
          "base_uri": "https://localhost:8080/"
        },
        "id": "ptFoSYOKDsw5",
        "outputId": "f8a3879e-a21f-4156-9fb1-1988d92b50ce"
      },
      "source": [
        "db = pd.read_csv('/content/SF17_ViralChEMBL_dataset.csv')"
      ],
      "id": "ptFoSYOKDsw5",
      "execution_count": 34,
      "outputs": [
        {
          "output_type": "stream",
          "text": [
            "/usr/local/lib/python3.7/dist-packages/IPython/core/interactiveshell.py:2718: DtypeWarning: Columns (2,21) have mixed types.Specify dtype option on import or set low_memory=False.\n",
            "  interactivity=interactivity, compiler=compiler, result=result)\n"
          ],
          "name": "stderr"
        }
      ]
    },
    {
      "cell_type": "code",
      "metadata": {
        "id": "qQuEMgZSDsw5"
      },
      "source": [
        "HIV1 = 2938\n",
        "HCV = 1620\n",
        "FluA = 2168"
      ],
      "id": "qQuEMgZSDsw5",
      "execution_count": 35,
      "outputs": []
    },
    {
      "cell_type": "code",
      "metadata": {
        "id": "IPHFLk_sDsw5"
      },
      "source": [
        "def process_species_data(db, species_id, name):\n",
        "    species_ds = db[(db.species_id == species_id) & (db.av_act50.notna())]\n",
        "    \n",
        "    assays_data = species_ds.groupby(['assay_chembl_id', 'molregno'])[['av_act50', 'canonical_smiles']].nunique() \n",
        "    n_assays = assays_data.shape[0]\n",
        "    n_controversial_assays = assays_data[assays_data.av_act50 > 1].shape[0]\n",
        "    \n",
        "    print(f'Percentage of controversial assays: {n_controversial_assays/n_assays * 100:.3}%')\n",
        "    \n",
        "    for (chembl_id, mol) in (assays_data[assays_data.av_act50 > 1]).index.values:\n",
        "        species_ds = species_ds[~((species_ds.assay_chembl_id == chembl_id) & (species_ds.molregno == mol))]\n",
        "        \n",
        "    species_ds.groupby('molregno').av_act50.mean().hist(bins=10)\n",
        "    plt.title(f'Inter-assays agreement on\\nanti-{name} molecule activity', fontsize=14)\n",
        "    plt.ylabel('Number of molecules', fontsize=14)\n",
        "    plt.xlabel('% of assays confirming the antiviral activity', fontsize=14)\n",
        "    plt.show()\n",
        "    \n",
        "    indices = species_ds.groupby('molregno').av_act50.mean()[species_ds.groupby('molregno').av_act50.mean() > 0.5].index.values\n",
        "    species_ds = species_ds[species_ds.molregno.isin(indices)]\n",
        "    \n",
        "    species_ds.canonical_smiles.apply(len).hist(bins=100)\n",
        "    plt.title(f'Distribution of {name}-active molecules smiles length', fontsize=14)\n",
        "    plt.ylabel('Number of molecules', fontsize=14)\n",
        "    plt.xlabel('Smiles length', fontsize=14)\n",
        "    plt.show()\n",
        "    \n",
        "    species_ds = species_ds[species_ds.canonical_smiles.apply(len) <= 250]\n",
        "        \n",
        "    return species_ds"
      ],
      "id": "IPHFLk_sDsw5",
      "execution_count": 36,
      "outputs": []
    },
    {
      "cell_type": "code",
      "metadata": {
        "scrolled": false,
        "colab": {
          "base_uri": "https://localhost:8080/",
          "height": 617
        },
        "id": "kWBxQkJGDsw6",
        "outputId": "51aac579-f94f-4923-94d5-fff811895d46"
      },
      "source": [
        "hiv1_ds = process_species_data(db, HIV1, 'HIV-1')"
      ],
      "id": "kWBxQkJGDsw6",
      "execution_count": 37,
      "outputs": [
        {
          "output_type": "stream",
          "text": [
            "Percentage of controversial assays: 0.0632%\n"
          ],
          "name": "stdout"
        },
        {
          "output_type": "display_data",
          "data": {
            "image/png": "[encoded data removed]",
            "text/plain": [
              "<Figure size 432x288 with 1 Axes>"
            ]
          },
          "metadata": {
            "tags": [],
            "needs_background": "light"
          }
        },
        {
          "output_type": "display_data",
          "data": {
            "image/png": "[encoded data removed]",
            "text/plain": [
              "<Figure size 432x288 with 1 Axes>"
            ]
          },
          "metadata": {
            "tags": [],
            "needs_background": "light"
          }
        }
      ]
    },
    {
      "cell_type": "code",
      "metadata": {
        "colab": {
          "base_uri": "https://localhost:8080/",
          "height": 617
        },
        "id": "J98-TxsuDsw6",
        "outputId": "09ca9f21-a197-4ad8-d0fd-04a8f1f699c1"
      },
      "source": [
        "hcv_ds = process_species_data(db, HCV, 'HCV')"
      ],
      "id": "J98-TxsuDsw6",
      "execution_count": 38,
      "outputs": [
        {
          "output_type": "stream",
          "text": [
            "Percentage of controversial assays: 0.0735%\n"
          ],
          "name": "stdout"
        },
        {
          "output_type": "display_data",
          "data": {
            "image/png": "[encoded data removed]",
            "text/plain": [
              "<Figure size 432x288 with 1 Axes>"
            ]
          },
          "metadata": {
            "tags": [],
            "needs_background": "light"
          }
        },
        {
          "output_type": "display_data",
          "data": {
            "image/png": "[encoded data removed]",
            "text/plain": [
              "<Figure size 432x288 with 1 Axes>"
            ]
          },
          "metadata": {
            "tags": [],
            "needs_background": "light"
          }
        }
      ]
    },
    {
      "cell_type": "code",
      "metadata": {
        "colab": {
          "base_uri": "https://localhost:8080/",
          "height": 617
        },
        "id": "np5kMOe-Dsw7",
        "outputId": "ef4ea47a-7f9a-4381-c9ba-9eae5398a76b"
      },
      "source": [
        "flua_ds = process_species_data(db, FluA, 'Influenza A')"
      ],
      "id": "np5kMOe-Dsw7",
      "execution_count": 39,
      "outputs": [
        {
          "output_type": "stream",
          "text": [
            "Percentage of controversial assays: 0.0217%\n"
          ],
          "name": "stdout"
        },
        {
          "output_type": "display_data",
          "data": {
            "image/png": "[encoded data removed]",
            "text/plain": [
              "<Figure size 432x288 with 1 Axes>"
            ]
          },
          "metadata": {
            "tags": [],
            "needs_background": "light"
          }
        },
        {
          "output_type": "display_data",
          "data": {
            "image/png": "[encoded data removed]",
            "text/plain": [
              "<Figure size 432x288 with 1 Axes>"
            ]
          },
          "metadata": {
            "tags": [],
            "needs_background": "light"
          }
        }
      ]
    },
    {
      "cell_type": "markdown",
      "metadata": {
        "id": "fmYwqhaiDsw7"
      },
      "source": [
        "# Intersections"
      ],
      "id": "fmYwqhaiDsw7"
    },
    {
      "cell_type": "code",
      "metadata": {
        "id": "aJkkevrHDsw7"
      },
      "source": [
        "import matplotlib\n",
        "from matplotlib_venn import venn3, venn3_circles, venn2, venn2_circles"
      ],
      "id": "aJkkevrHDsw7",
      "execution_count": 40,
      "outputs": []
    },
    {
      "cell_type": "code",
      "metadata": {
        "colab": {
          "base_uri": "https://localhost:8080/",
          "height": 269
        },
        "id": "Lv8HAGgdDsw7",
        "outputId": "cfda60cf-6dd4-4d75-b8a2-b3fcd27c3bd5"
      },
      "source": [
        "font = {'size'   : 12}\n",
        "matplotlib.rc('font', **font)\n",
        "plt.figure(figsize=(6,6))\n",
        "out = venn2([set(hiv1_ds.molregno.values), set(hcv_ds.molregno.values)], \n",
        "      set_labels = ('HIV-1', \n",
        "                    'HCV'),\n",
        "      set_colors = ('r', 'g'),\n",
        "      alpha=0.75)\n",
        "plt.show()"
      ],
      "id": "Lv8HAGgdDsw7",
      "execution_count": 41,
      "outputs": [
        {
          "output_type": "display_data",
          "data": {
            "image/png": "[encoded data removed]",
            "text/plain": [
              "<Figure size 432x432 with 1 Axes>"
            ]
          },
          "metadata": {
            "tags": []
          }
        }
      ]
    },
    {
      "cell_type": "code",
      "metadata": {
        "colab": {
          "base_uri": "https://localhost:8080/",
          "height": 235
        },
        "id": "jRSwVARcDsw8",
        "outputId": "6b979b44-19c3-4cf2-beb2-af77427246b8"
      },
      "source": [
        "font = {'size'   : 12}\n",
        "matplotlib.rc('font', **font)\n",
        "plt.figure(figsize=(6,6))\n",
        "out = venn2([set(hiv1_ds.molregno.values), set(flua_ds.molregno.values)], \n",
        "      set_labels = ('HIV-1', \n",
        "                    'Influenza A'),\n",
        "      set_colors = ('r', 'lightblue'),\n",
        "      alpha=0.75)\n",
        "plt.show()"
      ],
      "id": "jRSwVARcDsw8",
      "execution_count": 42,
      "outputs": [
        {
          "output_type": "display_data",
          "data": {
            "image/png": "[encoded data removed]",
            "text/plain": [
              "<Figure size 432x432 with 1 Axes>"
            ]
          },
          "metadata": {
            "tags": []
          }
        }
      ]
    },
    {
      "cell_type": "code",
      "metadata": {
        "colab": {
          "base_uri": "https://localhost:8080/",
          "height": 287
        },
        "id": "psvaQkhTDsw8",
        "outputId": "0dad0d02-14f9-452f-bc97-abd82a2cb6ee"
      },
      "source": [
        "font = {'size'   : 12}\n",
        "matplotlib.rc('font', **font)\n",
        "plt.figure(figsize=(6,6))\n",
        "out = venn2([set(hcv_ds.molregno.values), set(flua_ds.molregno.values)], \n",
        "      set_labels = ('HCV', \n",
        "                    'Influenza A'),\n",
        "      set_colors = ('g', 'lightblue'),\n",
        "      alpha=0.75)\n",
        "plt.show()"
      ],
      "id": "psvaQkhTDsw8",
      "execution_count": 43,
      "outputs": [
        {
          "output_type": "display_data",
          "data": {
            "image/png": "[encoded data removed]",
            "text/plain": [
              "<Figure size 432x432 with 1 Axes>"
            ]
          },
          "metadata": {
            "tags": []
          }
        }
      ]
    },
    {
      "cell_type": "code",
      "metadata": {
        "colab": {
          "base_uri": "https://localhost:8080/",
          "height": 357
        },
        "id": "lHfPfd4lDsw8",
        "outputId": "d25e546c-27fd-48a2-90d1-5c60aeb704da"
      },
      "source": [
        "font = {'size'   : 12}\n",
        "matplotlib.rc('font', **font)\n",
        "plt.figure(figsize=(6,6))\n",
        "out = venn3([set(hcv_ds.molregno.values), set(flua_ds.molregno.values), set(hiv1_ds.molregno.values)], \n",
        "      set_labels = ('HCV', \n",
        "                    'Influenza A',\n",
        "                    'HIV-1'),\n",
        "      set_colors = ('g', 'lightblue', 'r'),\n",
        "      alpha=0.75)\n",
        "plt.show()"
      ],
      "id": "lHfPfd4lDsw8",
      "execution_count": 44,
      "outputs": [
        {
          "output_type": "display_data",
          "data": {
            "image/png": "[encoded data removed]",
            "text/plain": [
              "<Figure size 432x432 with 1 Axes>"
            ]
          },
          "metadata": {
            "tags": []
          }
        }
      ]
    },
    {
      "cell_type": "markdown",
      "metadata": {
        "id": "kdYOc3MzDsw9"
      },
      "source": [
        "# Datasets"
      ],
      "id": "kdYOc3MzDsw9"
    },
    {
      "cell_type": "code",
      "metadata": {
        "id": "Hs3zb598EF3p"
      },
      "source": [
        "# an example of dataset creation\n",
        "# any species dataset could be used instead of hiv1_ds, hcv_ds \n",
        "hiv1_hcv = pd.concat([hiv1_ds[['canonical_smiles', 'species_id']].drop_duplicates(),\n",
        "                      hcv_ds[['canonical_smiles', 'species_id']].drop_duplicates()])"
      ],
      "id": "Hs3zb598EF3p",
      "execution_count": 45,
      "outputs": []
    },
    {
      "cell_type": "code",
      "metadata": {
        "id": "Aj2DDInwEMIT"
      },
      "source": [
        "intersec = hiv1_hcv.groupby('canonical_smiles').species_id.nunique()\n",
        "intersec = intersec[intersec > 1]"
      ],
      "id": "Aj2DDInwEMIT",
      "execution_count": 46,
      "outputs": []
    },
    {
      "cell_type": "code",
      "metadata": {
        "id": "YjLPp3zxRP07"
      },
      "source": [
        "hiv1_hcv = hiv1_hcv[~hiv1_hcv.canonical_smiles.isin(intersec.index.values)]"
      ],
      "id": "YjLPp3zxRP07",
      "execution_count": 51,
      "outputs": []
    },
    {
      "cell_type": "code",
      "metadata": {
        "colab": {
          "base_uri": "https://localhost:8080/"
        },
        "id": "j-12PIA3EQHH",
        "outputId": "dc930f46-5ed8-4774-f16c-49ca6e852fb6"
      },
      "source": [
        "!gdown --id 16S-QJGH0vWtmhB0ONF0cFyyoNmObusd8"
      ],
      "id": "j-12PIA3EQHH",
      "execution_count": 53,
      "outputs": [
        {
          "output_type": "stream",
          "text": [
            "Downloading...\n",
            "From: https://drive.google.com/uc?id=16S-QJGH0vWtmhB0ONF0cFyyoNmObusd8\n",
            "To: /content/mord_keys.csv\n",
            "\r  0% 0.00/6.21k [00:00<?, ?B/s]\r100% 6.21k/6.21k [00:00<00:00, 2.54MB/s]\n"
          ],
          "name": "stdout"
        }
      ]
    },
    {
      "cell_type": "code",
      "metadata": {
        "id": "K2dwjJNKETzz"
      },
      "source": [
        "custom_descriptors = pd.read_csv('mord_keys.csv')['mord_keys'].values.tolist()"
      ],
      "id": "K2dwjJNKETzz",
      "execution_count": 54,
      "outputs": []
    },
    {
      "cell_type": "code",
      "metadata": {
        "id": "q3g6ky_KEVT_"
      },
      "source": [
        "# !!!the following code can take a long time and a lot of memory \n",
        "# running on subset "
      ],
      "id": "q3g6ky_KEVT_",
      "execution_count": 55,
      "outputs": []
    },
    {
      "cell_type": "code",
      "metadata": {
        "id": "ikuqoh-5EYex"
      },
      "source": [
        "hiv1_hcv = hiv1_hcv.head(200) # comment this line to get a full dataset"
      ],
      "id": "ikuqoh-5EYex",
      "execution_count": 56,
      "outputs": []
    },
    {
      "cell_type": "code",
      "metadata": {
        "id": "O54QfhwIEZ6u"
      },
      "source": [
        "mols = [Chem.MolFromSmiles(i) for i in hiv1_hcv.canonical_smiles]\n",
        "calc = Calculator(descriptors, ignore_3D=True)"
      ],
      "id": "O54QfhwIEZ6u",
      "execution_count": 57,
      "outputs": []
    },
    {
      "cell_type": "code",
      "metadata": {
        "colab": {
          "base_uri": "https://localhost:8080/"
        },
        "id": "TbEahwc6EvT_",
        "outputId": "b8a2a1d6-d0aa-4b00-fc80-387bd8613689"
      },
      "source": [
        "md = calc.pandas(mols)"
      ],
      "id": "TbEahwc6EvT_",
      "execution_count": 58,
      "outputs": [
        {
          "output_type": "stream",
          "text": [
            " 18%|█▊        | 36/200 [00:29<03:09,  1.16s/it]"
          ],
          "name": "stderr"
        },
        {
          "output_type": "stream",
          "text": [
            "/usr/local/lib/python3.7/dist-packages/numpy/core/fromnumeric.py:87: RuntimeWarning: overflow encountered in reduce\n",
            "  return ufunc.reduce(obj, axis, dtype, out, **passkwargs)\n"
          ],
          "name": "stdout"
        },
        {
          "output_type": "stream",
          "text": [
            " 44%|████▍     | 88/200 [01:14<02:56,  1.58s/it]"
          ],
          "name": "stderr"
        },
        {
          "output_type": "stream",
          "text": [
            "/usr/local/lib/python3.7/dist-packages/numpy/core/fromnumeric.py:87: RuntimeWarning: overflow encountered in reduce\n",
            "  return ufunc.reduce(obj, axis, dtype, out, **passkwargs)\n"
          ],
          "name": "stdout"
        },
        {
          "output_type": "stream",
          "text": [
            "100%|██████████| 200/200 [02:32<00:00,  1.31it/s]\n"
          ],
          "name": "stderr"
        }
      ]
    },
    {
      "cell_type": "code",
      "metadata": {
        "id": "EiYFjkgVEyLc"
      },
      "source": [
        "md = md[custom_descriptors]"
      ],
      "id": "EiYFjkgVEyLc",
      "execution_count": 59,
      "outputs": []
    },
    {
      "cell_type": "code",
      "metadata": {
        "id": "5dcydJtTGFKj"
      },
      "source": [
        "iso_smiles = [isomer_smiles(mol,-1) for mol in mols]"
      ],
      "id": "5dcydJtTGFKj",
      "execution_count": 60,
      "outputs": []
    },
    {
      "cell_type": "code",
      "metadata": {
        "colab": {
          "base_uri": "https://localhost:8080/"
        },
        "id": "26x-ova2GL92",
        "outputId": "359fd0c9-3baf-4595-ee4d-99d399a985ae"
      },
      "source": [
        "MAX_LEN = max([len(x) for x in iso_smiles])\n",
        "MAX_LEN"
      ],
      "id": "26x-ova2GL92",
      "execution_count": 61,
      "outputs": [
        {
          "output_type": "execute_result",
          "data": {
            "text/plain": [
              "187"
            ]
          },
          "metadata": {
            "tags": []
          },
          "execution_count": 61
        }
      ]
    },
    {
      "cell_type": "code",
      "metadata": {
        "id": "UtUcsSwDGOBt"
      },
      "source": [
        "smile_ft = [mol_to_feature(mol,-1, MAX_LEN) for mol in mols]"
      ],
      "id": "UtUcsSwDGOBt",
      "execution_count": 62,
      "outputs": []
    },
    {
      "cell_type": "code",
      "metadata": {
        "id": "v73PkDXzGR2Y"
      },
      "source": [
        "md['smile_ft'] = smile_ft\n",
        "md['active'] = hiv1_hcv.species_id.apply(lambda x: 1 if x == HIV1 else 0).values.tolist()"
      ],
      "id": "v73PkDXzGR2Y",
      "execution_count": 63,
      "outputs": []
    },
    {
      "cell_type": "code",
      "metadata": {
        "id": "sf1xMenKGgKH"
      },
      "source": [
        "md.to_csv('hiv1_hcv_temp.csv', index=False)\n",
        "hiv1_hcv_final = pd.read_csv('hiv1_hcv_temp.csv')"
      ],
      "id": "sf1xMenKGgKH",
      "execution_count": 64,
      "outputs": []
    },
    {
      "cell_type": "code",
      "metadata": {
        "id": "X-_3rzoMGr3R"
      },
      "source": [
        "# when working with full dataset, reading hiv1_hcv_final will return you warning\n",
        "# DtypeWarning: Columns (4,5,6, ...) have mixed types. Specify dtype option on import or set low_memory=False.\n",
        "# copy all the listed columns to bad_cols list \n",
        "bad_cols = []"
      ],
      "id": "X-_3rzoMGr3R",
      "execution_count": 65,
      "outputs": []
    },
    {
      "cell_type": "code",
      "metadata": {
        "id": "7itfKFevGtj6"
      },
      "source": [
        "to_drop = set()\n",
        "for c in bad_cols:\n",
        "    col = hiv1_hcv_final.columns.values[c]\n",
        "    # col contains numbers and string - the error message\n",
        "    # taking max value will return you this error message\n",
        "    bad_val = max(hiv1_hcv_final[col].apply(str).values)\n",
        "    to_drop = to_drop.union(set(hiv1_hcv_final[hiv1_hcv_final[col] == bad_val].index.values))\n",
        "\n",
        "hiv1_hcv_final = hiv1_hcv_final.drop(to_drop, axis=0)"
      ],
      "id": "7itfKFevGtj6",
      "execution_count": 66,
      "outputs": []
    },
    {
      "cell_type": "code",
      "metadata": {
        "id": "HG1AUjtRGvI6"
      },
      "source": [
        "hiv1_hcv_final.to_csv('hiv1_hcv.csv', index=False)"
      ],
      "id": "HG1AUjtRGvI6",
      "execution_count": 67,
      "outputs": []
    }
  ]
}