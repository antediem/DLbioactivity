{
  "nbformat": 4,
  "nbformat_minor": 0,
  "metadata": {
    "colab": {
      "name": "hiv1_hcv_N_edt.ipynb",
      "provenance": [],
      "toc_visible": true,
      "machine_shape": "hm"
    },
    "kernelspec": {
      "name": "python3",
      "display_name": "Python 3"
    },
    "language_info": {
      "name": "python"
    }
  },
  "cells": [
    {
      "cell_type": "markdown",
      "metadata": {
        "id": "EQ1ag-kWKxf5"
      },
      "source": [
        "# ! rdkit+mordred"
      ]
    },
    {
      "cell_type": "code",
      "metadata": {
        "colab": {
          "base_uri": "https://localhost:8080/"
        },
        "id": "X8L5oRNsKjSC",
        "outputId": "34b63588-abfc-4bc7-ab51-768f2ba38ca6"
      },
      "source": [
        "!python --version"
      ],
      "execution_count": 1,
      "outputs": [
        {
          "output_type": "stream",
          "text": [
            "Python 3.7.10\n"
          ],
          "name": "stdout"
        }
      ]
    },
    {
      "cell_type": "code",
      "metadata": {
        "colab": {
          "base_uri": "https://localhost:8080/"
        },
        "id": "vxQWZgrzLF22",
        "outputId": "d6e232fa-1904-4a0c-f3c0-e56cfd7d1e89"
      },
      "source": [
        "import sys\n",
        "import os\n",
        "import requests\n",
        "import subprocess\n",
        "import shutil\n",
        "from logging import getLogger, StreamHandler, INFO\n",
        "import matplotlib.pyplot as plt\n",
        "\n",
        "\n",
        "logger = getLogger(__name__)\n",
        "logger.addHandler(StreamHandler())\n",
        "logger.setLevel(INFO)\n",
        "\n",
        "\n",
        "def install(\n",
        "        chunk_size=4096,\n",
        "        file_name=\"Miniconda3-latest-Linux-x86_64.sh\",\n",
        "        url_base=\"https://repo.continuum.io/miniconda/\",\n",
        "        conda_path=os.path.expanduser(os.path.join(\"~\", \"miniconda\")),\n",
        "        rdkit_version=None,\n",
        "        add_python_path=True,\n",
        "        force=False):\n",
        "    \"\"\"install rdkit from miniconda\n",
        "    ```\n",
        "    import rdkit_installer\n",
        "    rdkit_installer.install()\n",
        "    ```\n",
        "    \"\"\"\n",
        "\n",
        "    python_path = os.path.join(\n",
        "        conda_path,\n",
        "        \"lib\",\n",
        "        \"python{0}.{1}\".format(*sys.version_info),\n",
        "        \"site-packages\",\n",
        "    )\n",
        "\n",
        "    if add_python_path and python_path not in sys.path:\n",
        "        logger.info(\"add {} to PYTHONPATH\".format(python_path))\n",
        "        sys.path.append(python_path)\n",
        "\n",
        "    if os.path.isdir(os.path.join(python_path, \"rdkit\")):\n",
        "        logger.info(\"rdkit is already installed\")\n",
        "        if not force:\n",
        "            return\n",
        "\n",
        "        logger.info(\"force re-install\")\n",
        "\n",
        "    url = url_base + file_name\n",
        "    python_version = \"{0}.{1}.{2}\".format(*sys.version_info)\n",
        "\n",
        "    logger.info(\"python version: {}\".format(python_version))\n",
        "\n",
        "    if os.path.isdir(conda_path):\n",
        "        logger.warning(\"remove current miniconda\")\n",
        "        shutil.rmtree(conda_path)\n",
        "    elif os.path.isfile(conda_path):\n",
        "        logger.warning(\"remove {}\".format(conda_path))\n",
        "        os.remove(conda_path)\n",
        "\n",
        "    logger.info('fetching installer from {}'.format(url))\n",
        "    res = requests.get(url, stream=True)\n",
        "    res.raise_for_status()\n",
        "    with open(file_name, 'wb') as f:\n",
        "        for chunk in res.iter_content(chunk_size):\n",
        "            f.write(chunk)\n",
        "    logger.info('done')\n",
        "\n",
        "    logger.info('installing miniconda to {}'.format(conda_path))\n",
        "    subprocess.check_call([\"bash\", file_name, \"-b\", \"-p\", conda_path])\n",
        "    logger.info('done')\n",
        "\n",
        "    logger.info(\"installing rdkit\")\n",
        "    subprocess.check_call([\n",
        "        os.path.join(conda_path, \"bin\", \"conda\"),\n",
        "        \"install\",\n",
        "        \"--yes\",\n",
        "        \"-c\", \"rdkit\",\n",
        "        \"python=={}\".format(python_version),\n",
        "        \"rdkit\" if rdkit_version is None else \"rdkit=={}\".format(rdkit_version)])\n",
        "    logger.info(\"done\")\n",
        "\n",
        "    import rdkit\n",
        "    logger.info(\"rdkit-{} installation finished!\".format(rdkit.__version__))\n",
        "\n",
        "\n",
        "if __name__ == \"__main__\":\n",
        "    install()"
      ],
      "execution_count": 2,
      "outputs": [
        {
          "output_type": "stream",
          "text": [
            "add /root/miniconda/lib/python3.7/site-packages to PYTHONPATH\n",
            "rdkit is already installed\n"
          ],
          "name": "stderr"
        }
      ]
    },
    {
      "cell_type": "code",
      "metadata": {
        "id": "yttQcOmQLOoC"
      },
      "source": [
        "from rdkit import Chem\n",
        "from rdkit.Chem.Draw import IPythonConsole\n",
        "from rdkit.Chem import rdchem\n",
        "from rdkit.Chem import Draw\n",
        "from tqdm.notebook import tqdm\n",
        "\n",
        "import re"
      ],
      "execution_count": 3,
      "outputs": []
    },
    {
      "cell_type": "code",
      "metadata": {
        "colab": {
          "base_uri": "https://localhost:8080/",
          "height": 167
        },
        "id": "zlPmaVEILepq",
        "outputId": "97b10611-803b-4ee8-b2c7-3731b6a65225"
      },
      "source": [
        "from rdkit.Chem.Draw import IPythonConsole\n",
        "\n",
        "Chem.MolFromSmiles('c1ccccc1')"
      ],
      "execution_count": 4,
      "outputs": [
        {
          "output_type": "execute_result",
          "data": {
            "image/png": "[encoded data removed]",
            "text/plain": [
              "<rdkit.Chem.rdchem.Mol at 0x7fb6384ef030>"
            ]
          },
          "metadata": {
            "tags": []
          },
          "execution_count": 4
        }
      ]
    },
    {
      "cell_type": "code",
      "metadata": {
        "colab": {
          "base_uri": "https://localhost:8080/"
        },
        "id": "iZ653gk1LjMd",
        "outputId": "d49521dc-8b37-4d6b-e75a-40919a75e275"
      },
      "source": [
        "!pip install mordred"
      ],
      "execution_count": 5,
      "outputs": [
        {
          "output_type": "stream",
          "text": [
            "Requirement already satisfied: mordred in /usr/local/lib/python3.7/dist-packages (1.2.0)\n",
            "Requirement already satisfied: networkx==2.* in /usr/local/lib/python3.7/dist-packages (from mordred) (2.5.1)\n",
            "Requirement already satisfied: six==1.* in /usr/local/lib/python3.7/dist-packages (from mordred) (1.15.0)\n",
            "Requirement already satisfied: numpy==1.* in /usr/local/lib/python3.7/dist-packages (from mordred) (1.19.5)\n",
            "Requirement already satisfied: decorator<5,>=4.3 in /usr/local/lib/python3.7/dist-packages (from networkx==2.*->mordred) (4.4.2)\n"
          ],
          "name": "stdout"
        }
      ]
    },
    {
      "cell_type": "markdown",
      "metadata": {
        "id": "iuNK1nTILqpo"
      },
      "source": [
        "# feature.py"
      ]
    },
    {
      "cell_type": "code",
      "metadata": {
        "id": "CHDtP9ZiL2Iv"
      },
      "source": [
        "from rdkit import Chem\n",
        "import numpy as np\n",
        "import pandas as pd\n",
        "import pickle\n",
        "from mordred import Calculator, descriptors\n",
        "\n",
        "# Credit: http://www.dna.bio.keio.ac.jp/smiles/\n",
        "\n",
        "# xp = np\n",
        "\n",
        "#\n",
        "Chiral = {\"CHI_UNSPECIFIED\":0,  \"CHI_TETRAHEDRAL_CW\":1, \"CHI_TETRAHEDRAL_CCW\":2, \"CHI_OTHER\":3}\n",
        "Hybridization = {\"UNSPECIFIED\":0, \"S\":1, \"SP\":2, \"SP2\":3, \"SP3\":4, \"SP3D\":5, \"SP3D2\":6, \"OTHER\":7}\n",
        "\n",
        " # featurevector\n",
        "atomInfo = 21\n",
        "structInfo = 21\n",
        "lensize= atomInfo + structInfo\n",
        "\n",
        "H_Vector = [0]*atomInfo\n",
        "H_Vector[0]= 1\n",
        "\n",
        "#\n",
        "lowerReg = re.compile(r'^[a-z]+$')\n",
        "def islower(s):\n",
        "    return lowerReg.match(s) is not None\n",
        "\n",
        "#\n",
        "upperReg = re.compile(r'^[A-Z]+$')\n",
        "def isupper(s):\n",
        "    return upperReg.match(s) is not None\n",
        "\n",
        "#\n",
        "def calc_atom_feature(atom):\n",
        "    \n",
        "    if atom.GetSymbol() == 'H':   feature = [1,0,0,0,0]\n",
        "    elif atom.GetSymbol() == 'C': feature = [0,1,0,0,0]\n",
        "    elif atom.GetSymbol() == 'O': feature = [0,0,1,0,0]\n",
        "    elif atom.GetSymbol() == 'N': feature = [0,0,0,1,0]\n",
        "    else: feature = [0,0,0,0,1]\n",
        "\n",
        "    feature.append(atom.GetTotalNumHs()/8)\n",
        "    feature.append(atom.GetTotalDegree()/4)\n",
        "    feature.append(atom.GetFormalCharge()/8)\n",
        "    feature.append(atom.GetTotalValence()/8)\n",
        "    feature.append(atom.IsInRing()*1)\n",
        "    feature.append(atom.GetIsAromatic()*1)\n",
        "\n",
        "    f =  [0]*(len(Chiral)-1)\n",
        "    if Chiral.get(str(atom.GetChiralTag()), 0) != 0:\n",
        "        f[Chiral.get(str(atom.GetChiralTag()), 0)] = 1\n",
        "    feature.extend(f)\n",
        "\n",
        "    f =  [0]*(len(Hybridization)-1)\n",
        "    if Hybridization.get(str(atom.GetHybridization()), 0) != 0:\n",
        "        f[Hybridization.get(str(atom.GetHybridization()), 0)] = 1\n",
        "    feature.extend(f)\n",
        "    \n",
        "    return(feature)\n",
        "\n",
        "def calc_structure_feature(c,flag,label):\n",
        "    feature = [0]*structInfo\n",
        "\n",
        "    if c== '(' :\n",
        "        feature[0] = 1\n",
        "        flag = 0\n",
        "    elif c== ')' :\n",
        "        feature[1] = 1\n",
        "        flag = 0\n",
        "    elif c== '[' :\n",
        "        feature[2] = 1\n",
        "        flag = 0\n",
        "    elif c== ']' :\n",
        "        feature[3] = 1\n",
        "        flag = 0\n",
        "    elif c== '.' :\n",
        "        feature[4] = 1\n",
        "        flag = 0\n",
        "    elif c== ':' :\n",
        "        feature[5] = 1\n",
        "        flag = 0\n",
        "    elif c== '=' :\n",
        "        feature[6] = 1\n",
        "        flag = 0\n",
        "    elif c== '#' :\n",
        "        feature[7] = 1\n",
        "        flag = 0\n",
        "    elif c== '\\\\':\n",
        "        feature[8] = 1\n",
        "        flag = 0\n",
        "    elif c== '/' :\n",
        "        feature[9] = 1\n",
        "        flag = 0  \n",
        "    elif c== '@' :\n",
        "        feature[10] = 1\n",
        "        flag = 0\n",
        "    elif c== '+' :\n",
        "        feature[11] = 1\n",
        "        flag = 1\n",
        "    elif c== '-' :\n",
        "        feature[12] = 1\n",
        "        flag = 1\n",
        "    elif c.isdigit() == True:\n",
        "        if flag == 0:\n",
        "            if c in label:\n",
        "                feature[20] = 1\n",
        "            else:\n",
        "                label.append(c)\n",
        "                feature[19] = 1\n",
        "        else:\n",
        "            feature[int(c)-1+12] = 1\n",
        "            flag = 0\n",
        "    return(feature,flag,label)\n",
        "\n",
        "def calc_featurevector(mol, smiles, atomsize):\n",
        "    flag = 0\n",
        "    label = []\n",
        "    molfeature=[]\n",
        "    idx = 0\n",
        "    j = 0\n",
        "            \n",
        "    for c in smiles:\n",
        "        if islower(c) == True: continue\n",
        "        elif isupper(c) == True:\n",
        "            if c == 'H':\n",
        "                molfeature.extend(H_Vector)\n",
        "            else:\n",
        "                molfeature.extend(calc_atom_feature(rdchem.Mol.GetAtomWithIdx(mol, idx)))\n",
        "                idx = idx + 1\n",
        "            molfeature.extend([0]*structInfo)\n",
        "            j = j +1\n",
        "            \n",
        "        else:   \n",
        "            molfeature.extend([0]*atomInfo)\n",
        "            f,flag,label = calc_structure_feature(c,flag,label)\n",
        "            molfeature.extend(f)\n",
        "            j = j +1\n",
        "\n",
        "    #0-Padding\n",
        "    molfeature.extend([0]*(atomsize-j)*lensize)        \n",
        "    return(molfeature)\n",
        "\n",
        "\n",
        "def isomer_smiles(mol,n):\n",
        "    try: defaultSMILES = Chem.MolToSmiles(mol, kekuleSmiles=False, isomericSmiles=True, rootedAtAtom=int(n))\n",
        "    except: defaultSMILES = Chem.MolToSmiles(mol, kekuleSmiles=False, isomericSmiles=True)\n",
        "    try: isomerSMILES = Chem.MolToSmiles(mol, kekuleSmiles=True, isomericSmiles=True, rootedAtAtom=int(n))\n",
        "    except: isomerSMILES = Chem.MolToSmiles(mol, kekuleSmiles=True, isomericSmiles=True)\n",
        "    return isomerSMILES\n",
        "\n",
        "\n",
        "def mol_to_feature(mol,n,atomsize):\n",
        "    try: defaultSMILES = Chem.MolToSmiles(mol, kekuleSmiles=False, isomericSmiles=True, rootedAtAtom=int(n))\n",
        "    except: defaultSMILES = Chem.MolToSmiles(mol, kekuleSmiles=False, isomericSmiles=True)\n",
        "    try: isomerSMILES = Chem.MolToSmiles(mol, kekuleSmiles=True, isomericSmiles=True, rootedAtAtom=int(n))\n",
        "    except: isomerSMILES = Chem.MolToSmiles(mol, kekuleSmiles=True, isomericSmiles=True)\n",
        "    return calc_featurevector(Chem.MolFromSmiles(defaultSMILES), isomerSMILES, atomsize)\n",
        "\n",
        "\n",
        "def mol_to_allSMILESfeature(mol, atomsize):\n",
        "    idx, features =0,  []\n",
        "    while idx < mol.GetNumAtoms():\n",
        "        try: defaultSMILES = Chem.MolToSmiles(mol, kekuleSmiles=False, isomericSmiles=True, rootedAtAtom=int(idx))\n",
        "        except: break\n",
        "        isomerSMILES = Chem.MolToSmiles(mol, kekuleSmiles=True, isomericSmiles=True, rootedAtAtom=int(idx))\n",
        "        features.append(calc_featurevector(Chem.MolFromSmiles(defaultSMILES), isomerSMILES, atomsize))\n",
        "        idx = idx + 1\n",
        "    return(features)\n",
        "\n",
        "\n",
        "def atom_flag(smiles,atomsize):\n",
        "    flag=[]\n",
        "    j = 0\n",
        "            \n",
        "    for c in smiles:\n",
        "        if islower(c) == True: \n",
        "            if c in ['c', 'n', 's', 'o']:\n",
        "                flag.append(1)\n",
        "            else:\n",
        "                flag.append(0)\n",
        "        elif isupper(c) == True:\n",
        "            if c in ['H',]:\n",
        "                flag.append(0)\n",
        "            else:\n",
        "                flag.append(1)\n",
        "        else:   \n",
        "            flag.append(0)           \n",
        "\n",
        "    #0-Padding\n",
        "    flag.extend([0]*(atomsize-len(smiles)))        \n",
        "    return(flag)"
      ],
      "execution_count": 6,
      "outputs": []
    },
    {
      "cell_type": "markdown",
      "metadata": {
        "id": "YP3SagAeNcGo"
      },
      "source": [
        "# import ViralChEMBL"
      ]
    },
    {
      "cell_type": "code",
      "metadata": {
        "colab": {
          "base_uri": "https://localhost:8080/"
        },
        "id": "GPJ00EpiNiyC",
        "outputId": "d18f392b-f6e1-4174-84e9-0ec1be5667d5"
      },
      "source": [
        "#Get ViralChEMBL_dataset\n",
        "#https://drive.google.com/file/d/1elBvTVU4ofqdCtyhxj1qHH9hyZw2oYtu/view?usp=sharing\n",
        "!gdown --id \"1elBvTVU4ofqdCtyhxj1qHH9hyZw2oYtu\"\n",
        "\n",
        "!unzip -q ViralChEMBL_dataset.zip && rm ViralChEMBL_dataset.zip\n",
        "\n",
        "db = pd.read_csv('/content/ViralChEMBL_dataset.csv')"
      ],
      "execution_count": 7,
      "outputs": [
        {
          "output_type": "stream",
          "text": [
            "Downloading...\n",
            "From: https://drive.google.com/uc?id=1elBvTVU4ofqdCtyhxj1qHH9hyZw2oYtu\n",
            "To: /content/ViralChEMBL_dataset.zip\n",
            "22.0MB [00:00, 60.3MB/s]\n",
            "replace ViralChEMBL_dataset.csv? [y]es, [n]o, [A]ll, [N]one, [r]ename: y\n"
          ],
          "name": "stdout"
        },
        {
          "output_type": "stream",
          "text": [
            "/usr/local/lib/python3.7/dist-packages/IPython/core/interactiveshell.py:2718: DtypeWarning: Columns (2,21) have mixed types.Specify dtype option on import or set low_memory=False.\n",
            "  interactivity=interactivity, compiler=compiler, result=result)\n"
          ],
          "name": "stderr"
        }
      ]
    },
    {
      "cell_type": "code",
      "metadata": {
        "colab": {
          "base_uri": "https://localhost:8080/",
          "height": 1000
        },
        "id": "E6Oy3fCEN5L_",
        "outputId": "cfc7b613-784d-4f2f-9733-4136d744ecc6"
      },
      "source": [
        "db.head(10)"
      ],
      "execution_count": 8,
      "outputs": [
        {
          "output_type": "execute_result",
          "data": {
            "text/html": [
              "<div>\n",
              "<style scoped>\n",
              "    .dataframe tbody tr th:only-of-type {\n",
              "        vertical-align: middle;\n",
              "    }\n",
              "\n",
              "    .dataframe tbody tr th {\n",
              "        vertical-align: top;\n",
              "    }\n",
              "\n",
              "    .dataframe thead th {\n",
              "        text-align: right;\n",
              "    }\n",
              "</style>\n",
              "<table border=\"1\" class=\"dataframe\">\n",
              "  <thead>\n",
              "    <tr style=\"text-align: right;\">\n",
              "      <th></th>\n",
              "      <th>activity_id</th>\n",
              "      <th>standard_type</th>\n",
              "      <th>standard_relation</th>\n",
              "      <th>standard_value</th>\n",
              "      <th>standard_units</th>\n",
              "      <th>av_value</th>\n",
              "      <th>av_units</th>\n",
              "      <th>av_act50</th>\n",
              "      <th>assay_chembl_id</th>\n",
              "      <th>description</th>\n",
              "      <th>assay_type</th>\n",
              "      <th>findec_a</th>\n",
              "      <th>mapping_conf</th>\n",
              "      <th>stdstr_id</th>\n",
              "      <th>molregno</th>\n",
              "      <th>canonical_smiles</th>\n",
              "      <th>std_smiles</th>\n",
              "      <th>species_id</th>\n",
              "      <th>species_name</th>\n",
              "      <th>path_flag</th>\n",
              "      <th>genus_name</th>\n",
              "      <th>subfamily_name</th>\n",
              "      <th>family_name</th>\n",
              "      <th>order_name</th>\n",
              "    </tr>\n",
              "  </thead>\n",
              "  <tbody>\n",
              "    <tr>\n",
              "      <th>0</th>\n",
              "      <td>147811</td>\n",
              "      <td>CC50</td>\n",
              "      <td>=</td>\n",
              "      <td>1000000.0</td>\n",
              "      <td>nM</td>\n",
              "      <td>NaN</td>\n",
              "      <td>NaN</td>\n",
              "      <td>NaN</td>\n",
              "      <td>CHEMBL615126</td>\n",
              "      <td>In vitro cell cytotoxicity against 143B-LTK ce...</td>\n",
              "      <td>F</td>\n",
              "      <td>480</td>\n",
              "      <td>1</td>\n",
              "      <td>1397206</td>\n",
              "      <td>1633264</td>\n",
              "      <td>CC1=CN([C@H]2C[C@H](O[N+](=O)[O-])[C@@H](CO)O2...</td>\n",
              "      <td>CC1=CN([C@H]2C[C@H](O[N+]([O-])=O)[C@@H](CO)O2...</td>\n",
              "      <td>480.0</td>\n",
              "      <td>Human herpesvirus 1</td>\n",
              "      <td>1.0</td>\n",
              "      <td>Simplexvirus</td>\n",
              "      <td>Alphaherpesvirinae</td>\n",
              "      <td>Herpesviridae</td>\n",
              "      <td>Herpesvirales</td>\n",
              "    </tr>\n",
              "    <tr>\n",
              "      <th>1</th>\n",
              "      <td>158768</td>\n",
              "      <td>CC50</td>\n",
              "      <td>=</td>\n",
              "      <td>200000.0</td>\n",
              "      <td>nM</td>\n",
              "      <td>NaN</td>\n",
              "      <td>NaN</td>\n",
              "      <td>NaN</td>\n",
              "      <td>CHEMBL615126</td>\n",
              "      <td>In vitro cell cytotoxicity against 143B-LTK ce...</td>\n",
              "      <td>F</td>\n",
              "      <td>480</td>\n",
              "      <td>1</td>\n",
              "      <td>1397576</td>\n",
              "      <td>1633676</td>\n",
              "      <td>NC1=NC(=O)N(C=C1)[C@H]2C[C@H](O[N+](=O)[O-])[C...</td>\n",
              "      <td>NC1=NC(=O)N(C=C1)[C@H]1C[C@H](O[N+]([O-])=O)[C...</td>\n",
              "      <td>480.0</td>\n",
              "      <td>Human herpesvirus 1</td>\n",
              "      <td>1.0</td>\n",
              "      <td>Simplexvirus</td>\n",
              "      <td>Alphaherpesvirinae</td>\n",
              "      <td>Herpesviridae</td>\n",
              "      <td>Herpesvirales</td>\n",
              "    </tr>\n",
              "    <tr>\n",
              "      <th>2</th>\n",
              "      <td>161153</td>\n",
              "      <td>CC50</td>\n",
              "      <td>=</td>\n",
              "      <td>700000.0</td>\n",
              "      <td>nM</td>\n",
              "      <td>NaN</td>\n",
              "      <td>NaN</td>\n",
              "      <td>NaN</td>\n",
              "      <td>CHEMBL615126</td>\n",
              "      <td>In vitro cell cytotoxicity against 143B-LTK ce...</td>\n",
              "      <td>F</td>\n",
              "      <td>480</td>\n",
              "      <td>1</td>\n",
              "      <td>166147</td>\n",
              "      <td>556</td>\n",
              "      <td>[O-][N+](=O)O[C@H]1CO[C@@H]2[C@@H](CO[C@H]12)O...</td>\n",
              "      <td>[O-][N+](=O)O[C@@H]1CO[C@@H]2[C@H](CO[C@H]12)O...</td>\n",
              "      <td>480.0</td>\n",
              "      <td>Human herpesvirus 1</td>\n",
              "      <td>1.0</td>\n",
              "      <td>Simplexvirus</td>\n",
              "      <td>Alphaherpesvirinae</td>\n",
              "      <td>Herpesviridae</td>\n",
              "      <td>Herpesvirales</td>\n",
              "    </tr>\n",
              "    <tr>\n",
              "      <th>3</th>\n",
              "      <td>162405</td>\n",
              "      <td>CC50</td>\n",
              "      <td>=</td>\n",
              "      <td>100000.0</td>\n",
              "      <td>nM</td>\n",
              "      <td>NaN</td>\n",
              "      <td>NaN</td>\n",
              "      <td>NaN</td>\n",
              "      <td>CHEMBL615126</td>\n",
              "      <td>In vitro cell cytotoxicity against 143B-LTK ce...</td>\n",
              "      <td>F</td>\n",
              "      <td>480</td>\n",
              "      <td>1</td>\n",
              "      <td>230956</td>\n",
              "      <td>82983</td>\n",
              "      <td>OC[C@H]1O[C@H](C[C@@H]1O)N2C=C(F)C(=O)NC2=O</td>\n",
              "      <td>OC[C@H]1O[C@H](C[C@@H]1O)N1C=C(F)C(=O)NC1=O</td>\n",
              "      <td>480.0</td>\n",
              "      <td>Human herpesvirus 1</td>\n",
              "      <td>1.0</td>\n",
              "      <td>Simplexvirus</td>\n",
              "      <td>Alphaherpesvirinae</td>\n",
              "      <td>Herpesviridae</td>\n",
              "      <td>Herpesvirales</td>\n",
              "    </tr>\n",
              "    <tr>\n",
              "      <th>4</th>\n",
              "      <td>164805</td>\n",
              "      <td>CC50</td>\n",
              "      <td>=</td>\n",
              "      <td>21000.0</td>\n",
              "      <td>nM</td>\n",
              "      <td>NaN</td>\n",
              "      <td>NaN</td>\n",
              "      <td>NaN</td>\n",
              "      <td>CHEMBL615126</td>\n",
              "      <td>In vitro cell cytotoxicity against 143B-LTK ce...</td>\n",
              "      <td>F</td>\n",
              "      <td>480</td>\n",
              "      <td>1</td>\n",
              "      <td>1397165</td>\n",
              "      <td>1633207</td>\n",
              "      <td>O[C@H]1C[C@@H](O[C@@H]1CO[N+](=O)[O-])N2C=C(I)...</td>\n",
              "      <td>O[C@H]1C[C@@H](O[C@@H]1CO[N+]([O-])=O)N1C=C(I)...</td>\n",
              "      <td>480.0</td>\n",
              "      <td>Human herpesvirus 1</td>\n",
              "      <td>1.0</td>\n",
              "      <td>Simplexvirus</td>\n",
              "      <td>Alphaherpesvirinae</td>\n",
              "      <td>Herpesviridae</td>\n",
              "      <td>Herpesvirales</td>\n",
              "    </tr>\n",
              "    <tr>\n",
              "      <th>5</th>\n",
              "      <td>166047</td>\n",
              "      <td>CC50</td>\n",
              "      <td>=</td>\n",
              "      <td>74000.0</td>\n",
              "      <td>nM</td>\n",
              "      <td>NaN</td>\n",
              "      <td>NaN</td>\n",
              "      <td>NaN</td>\n",
              "      <td>CHEMBL615126</td>\n",
              "      <td>In vitro cell cytotoxicity against 143B-LTK ce...</td>\n",
              "      <td>F</td>\n",
              "      <td>480</td>\n",
              "      <td>1</td>\n",
              "      <td>1397575</td>\n",
              "      <td>1633675</td>\n",
              "      <td>OC[C@H]1O[C@H](C[C@@H]1O[N+](=O)[O-])N2C=C(F)C...</td>\n",
              "      <td>OC[C@H]1O[C@H](C[C@@H]1O[N+]([O-])=O)N1C=C(F)C...</td>\n",
              "      <td>480.0</td>\n",
              "      <td>Human herpesvirus 1</td>\n",
              "      <td>1.0</td>\n",
              "      <td>Simplexvirus</td>\n",
              "      <td>Alphaherpesvirinae</td>\n",
              "      <td>Herpesviridae</td>\n",
              "      <td>Herpesvirales</td>\n",
              "    </tr>\n",
              "    <tr>\n",
              "      <th>6</th>\n",
              "      <td>166058</td>\n",
              "      <td>CC50</td>\n",
              "      <td>=</td>\n",
              "      <td>7400000.0</td>\n",
              "      <td>nM</td>\n",
              "      <td>NaN</td>\n",
              "      <td>NaN</td>\n",
              "      <td>NaN</td>\n",
              "      <td>CHEMBL615126</td>\n",
              "      <td>In vitro cell cytotoxicity against 143B-LTK ce...</td>\n",
              "      <td>F</td>\n",
              "      <td>480</td>\n",
              "      <td>1</td>\n",
              "      <td>203297</td>\n",
              "      <td>47675</td>\n",
              "      <td>OC[C@H]1O[C@H](C[C@@H]1O)N2C=C(I)C(=O)NC2=O</td>\n",
              "      <td>OC[C@H]1O[C@H](C[C@@H]1O)N1C=C(I)C(=O)NC1=O</td>\n",
              "      <td>480.0</td>\n",
              "      <td>Human herpesvirus 1</td>\n",
              "      <td>1.0</td>\n",
              "      <td>Simplexvirus</td>\n",
              "      <td>Alphaherpesvirinae</td>\n",
              "      <td>Herpesviridae</td>\n",
              "      <td>Herpesvirales</td>\n",
              "    </tr>\n",
              "    <tr>\n",
              "      <th>7</th>\n",
              "      <td>151529</td>\n",
              "      <td>CC50</td>\n",
              "      <td>=</td>\n",
              "      <td>850000.0</td>\n",
              "      <td>nM</td>\n",
              "      <td>NaN</td>\n",
              "      <td>NaN</td>\n",
              "      <td>NaN</td>\n",
              "      <td>CHEMBL615127</td>\n",
              "      <td>In vitro cell cytotoxicity against 143B-LTK ce...</td>\n",
              "      <td>F</td>\n",
              "      <td>480</td>\n",
              "      <td>1</td>\n",
              "      <td>1397164</td>\n",
              "      <td>1633206</td>\n",
              "      <td>OC[C@H]1O[C@H](C[C@@H]1O[N+](=O)[O-])N2C=CC(=O...</td>\n",
              "      <td>OC[C@H]1O[C@H](C[C@@H]1O[N+]([O-])=O)N1C=CC(=O...</td>\n",
              "      <td>480.0</td>\n",
              "      <td>Human herpesvirus 1</td>\n",
              "      <td>1.0</td>\n",
              "      <td>Simplexvirus</td>\n",
              "      <td>Alphaherpesvirinae</td>\n",
              "      <td>Herpesviridae</td>\n",
              "      <td>Herpesvirales</td>\n",
              "    </tr>\n",
              "    <tr>\n",
              "      <th>8</th>\n",
              "      <td>158813</td>\n",
              "      <td>CC50</td>\n",
              "      <td>=</td>\n",
              "      <td>200000.0</td>\n",
              "      <td>nM</td>\n",
              "      <td>NaN</td>\n",
              "      <td>NaN</td>\n",
              "      <td>NaN</td>\n",
              "      <td>CHEMBL615127</td>\n",
              "      <td>In vitro cell cytotoxicity against 143B-LTK ce...</td>\n",
              "      <td>F</td>\n",
              "      <td>480</td>\n",
              "      <td>1</td>\n",
              "      <td>1397210</td>\n",
              "      <td>1633268</td>\n",
              "      <td>NC1=NC(=O)N(C=C1I)[C@H]2C[C@H](O[N+](=O)[O-])[...</td>\n",
              "      <td>NC1=NC(=O)N(C=C1I)[C@H]1C[C@H](O[N+]([O-])=O)[...</td>\n",
              "      <td>480.0</td>\n",
              "      <td>Human herpesvirus 1</td>\n",
              "      <td>1.0</td>\n",
              "      <td>Simplexvirus</td>\n",
              "      <td>Alphaherpesvirinae</td>\n",
              "      <td>Herpesviridae</td>\n",
              "      <td>Herpesvirales</td>\n",
              "    </tr>\n",
              "    <tr>\n",
              "      <th>9</th>\n",
              "      <td>161189</td>\n",
              "      <td>CC50</td>\n",
              "      <td>=</td>\n",
              "      <td>410000.0</td>\n",
              "      <td>nM</td>\n",
              "      <td>NaN</td>\n",
              "      <td>NaN</td>\n",
              "      <td>NaN</td>\n",
              "      <td>CHEMBL615127</td>\n",
              "      <td>In vitro cell cytotoxicity against 143B-LTK ce...</td>\n",
              "      <td>F</td>\n",
              "      <td>480</td>\n",
              "      <td>1</td>\n",
              "      <td>1397552</td>\n",
              "      <td>1633652</td>\n",
              "      <td>OC[C@H]1O[C@H](C[C@@H]1O[N+](=O)[O-])N2C=C(I)C...</td>\n",
              "      <td>OC[C@H]1O[C@H](C[C@@H]1O[N+]([O-])=O)N1C=C(I)C...</td>\n",
              "      <td>480.0</td>\n",
              "      <td>Human herpesvirus 1</td>\n",
              "      <td>1.0</td>\n",
              "      <td>Simplexvirus</td>\n",
              "      <td>Alphaherpesvirinae</td>\n",
              "      <td>Herpesviridae</td>\n",
              "      <td>Herpesvirales</td>\n",
              "    </tr>\n",
              "  </tbody>\n",
              "</table>\n",
              "</div>"
            ],
            "text/plain": [
              "   activity_id standard_type  ...    family_name     order_name\n",
              "0       147811          CC50  ...  Herpesviridae  Herpesvirales\n",
              "1       158768          CC50  ...  Herpesviridae  Herpesvirales\n",
              "2       161153          CC50  ...  Herpesviridae  Herpesvirales\n",
              "3       162405          CC50  ...  Herpesviridae  Herpesvirales\n",
              "4       164805          CC50  ...  Herpesviridae  Herpesvirales\n",
              "5       166047          CC50  ...  Herpesviridae  Herpesvirales\n",
              "6       166058          CC50  ...  Herpesviridae  Herpesvirales\n",
              "7       151529          CC50  ...  Herpesviridae  Herpesvirales\n",
              "8       158813          CC50  ...  Herpesviridae  Herpesvirales\n",
              "9       161189          CC50  ...  Herpesviridae  Herpesvirales\n",
              "\n",
              "[10 rows x 24 columns]"
            ]
          },
          "metadata": {
            "tags": []
          },
          "execution_count": 8
        }
      ]
    },
    {
      "cell_type": "code",
      "metadata": {
        "id": "6EjVTZobOJaz"
      },
      "source": [
        "id1 = 2938 #HIV1\n",
        "id2 = 1620 #HCV"
      ],
      "execution_count": 9,
      "outputs": []
    },
    {
      "cell_type": "code",
      "metadata": {
        "id": "9iavZzdTOayL"
      },
      "source": [
        "ds1 = db[(db.species_id == id1) & (db.av_act50==1)]"
      ],
      "execution_count": 10,
      "outputs": []
    },
    {
      "cell_type": "code",
      "metadata": {
        "id": "Osu5uZZ5Omp9"
      },
      "source": [
        "ds2 = db[(db.species_id == id2) & (db.av_act50==1)]"
      ],
      "execution_count": 11,
      "outputs": []
    },
    {
      "cell_type": "code",
      "metadata": {
        "id": "EBTV90nNPATe"
      },
      "source": [
        "import matplotlib\n",
        "from matplotlib_venn import venn2, venn2_circles"
      ],
      "execution_count": 12,
      "outputs": []
    },
    {
      "cell_type": "code",
      "metadata": {
        "colab": {
          "base_uri": "https://localhost:8080/",
          "height": 342
        },
        "id": "RbrdG6wDPItz",
        "outputId": "daea5ed6-88eb-43d5-a186-96300d7eb803"
      },
      "source": [
        "font = {'size'   : 12}\n",
        "matplotlib.rc('font', **font)\n",
        "plt.figure(figsize=(8,8))\n",
        "out = venn2([set(ds1.canonical_smiles.values), set(ds2.canonical_smiles.values)], \n",
        "      # set_colors=('#3E64AF', '#3EAF5D'), \n",
        "      set_labels = ('HIV-1', \n",
        "                    'HCV'),\n",
        "      alpha=0.75)\n",
        "plt.show()"
      ],
      "execution_count": 13,
      "outputs": [
        {
          "output_type": "display_data",
          "data": {
            "image/png": "[encoded data removed]",
            "text/plain": [
              "<Figure size 576x576 with 1 Axes>"
            ]
          },
          "metadata": {
            "tags": []
          }
        }
      ]
    },
    {
      "cell_type": "markdown",
      "metadata": {
        "id": "xDz5F0flPgkK"
      },
      "source": [
        "# Create a DS"
      ]
    },
    {
      "cell_type": "code",
      "metadata": {
        "id": "fglKeNkdPjb0"
      },
      "source": [
        "ds_full = pd.DataFrame()\n",
        "\n",
        "ds_full = pd.concat([ds1[['canonical_smiles', 'species_id']].drop_duplicates(),\n",
        "                      ds2[['canonical_smiles', 'species_id']].drop_duplicates()])"
      ],
      "execution_count": 14,
      "outputs": []
    },
    {
      "cell_type": "code",
      "metadata": {
        "id": "lCENED83QSuX"
      },
      "source": [
        "ds_full = ds_full.drop_duplicates(subset=['canonical_smiles'], keep=False)"
      ],
      "execution_count": 15,
      "outputs": []
    },
    {
      "cell_type": "code",
      "metadata": {
        "colab": {
          "base_uri": "https://localhost:8080/",
          "height": 221
        },
        "id": "H_V5ByPeR8lA",
        "outputId": "4fc2692c-81e0-454e-f70d-4491e1e4c0e9"
      },
      "source": [
        "smiles_list = [ds_full[ds_full['species_id']==id1][:1]['canonical_smiles'].item(), ds_full[ds_full['species_id']==id2][:1]['canonical_smiles'].item()]\n",
        "mol_list = []\n",
        "for smiles in smiles_list:\n",
        "\tmol = Chem.MolFromSmiles(smiles)\n",
        "\tmol_list.append(mol)\n",
        "\n",
        "img = Draw.MolsToGridImage(mol_list, molsPerRow=len(mol_list), useSVG=True)\n",
        "img"
      ],
      "execution_count": 16,
      "outputs": [
        {
          "output_type": "execute_result",
          "data": {
            "text/plain": [
              "<IPython.core.display.SVG object>"
            ],
            "image/svg+xml": "<svg baseProfile=\"full\" height=\"200px\" version=\"1.1\" viewBox=\"0 0 400 200\" width=\"400px\" xml:space=\"preserve\" xmlns=\"http://www.w3.org/2000/svg\" xmlns:rdkit=\"http://www.rdkit.org/xml\" xmlns:xlink=\"http://www.w3.org/1999/xlink\">\n<!-- END OF HEADER -->\n<rect height=\"200\" style=\"opacity:1.0;fill:#FFFFFF;stroke:none\" width=\"400\" x=\"0\" y=\"0\"> </rect>\n<rect height=\"200\" style=\"opacity:1.0;fill:#FFFFFF;stroke:none\" width=\"400\" x=\"0\" y=\"0\"> </rect>\n<rect height=\"200\" style=\"opacity:1.0;fill:#FFFFFF;stroke:none\" width=\"400\" x=\"0\" y=\"0\"> </rect>\n<path class=\"bond-0\" d=\"M 59.6859,56.1281 L 56.2322,63.99\" style=\"fill:none;fill-rule:evenodd;stroke:#0000FF;stroke-width:2.0px;stroke-linecap:butt;stroke-linejoin:miter;stroke-opacity:1\"/>\n<path class=\"bond-0\" d=\"M 56.2322,63.99 L 52.7785,71.852\" style=\"fill:none;fill-rule:evenodd;stroke:#000000;stroke-width:2.0px;stroke-linecap:butt;stroke-linejoin:miter;stroke-opacity:1\"/>\n<path class=\"bond-1\" d=\"M 52.5487,69.7652 L 43.7416,70.7351\" style=\"fill:none;fill-rule:evenodd;stroke:#000000;stroke-width:2.0px;stroke-linecap:butt;stroke-linejoin:miter;stroke-opacity:1\"/>\n<path class=\"bond-1\" d=\"M 43.7416,70.7351 L 34.9345,71.705\" style=\"fill:none;fill-rule:evenodd;stroke:#FF0000;stroke-width:2.0px;stroke-linecap:butt;stroke-linejoin:miter;stroke-opacity:1\"/>\n<path class=\"bond-1\" d=\"M 53.0084,73.9389 L 44.2012,74.9088\" style=\"fill:none;fill-rule:evenodd;stroke:#000000;stroke-width:2.0px;stroke-linecap:butt;stroke-linejoin:miter;stroke-opacity:1\"/>\n<path class=\"bond-1\" d=\"M 44.2012,74.9088 L 35.3941,75.8787\" style=\"fill:none;fill-rule:evenodd;stroke:#FF0000;stroke-width:2.0px;stroke-linecap:butt;stroke-linejoin:miter;stroke-opacity:1\"/>\n<path class=\"bond-2\" d=\"M 52.7785,71.852 L 65.2031,88.7755\" style=\"fill:none;fill-rule:evenodd;stroke:#000000;stroke-width:2.0px;stroke-linecap:butt;stroke-linejoin:miter;stroke-opacity:1\"/>\n<path class=\"bond-3\" d=\"M 65.2031,88.7755 L 62.5675,97.0261\" style=\"fill:none;fill-rule:evenodd;stroke:#000000;stroke-width:2.0px;stroke-linecap:butt;stroke-linejoin:miter;stroke-opacity:1\"/>\n<path class=\"bond-3\" d=\"M 62.5675,97.0261 L 59.9319,105.277\" style=\"fill:none;fill-rule:evenodd;stroke:#0000FF;stroke-width:2.0px;stroke-linecap:butt;stroke-linejoin:miter;stroke-opacity:1\"/>\n<path class=\"bond-19\" d=\"M 65.2031,88.7755 L 86.1973,88.6712\" style=\"fill:none;fill-rule:evenodd;stroke:#000000;stroke-width:2.0px;stroke-linecap:butt;stroke-linejoin:miter;stroke-opacity:1\"/>\n<path class=\"bond-19\" d=\"M 68.3731,92.9587 L 83.0691,92.8857\" style=\"fill:none;fill-rule:evenodd;stroke:#000000;stroke-width:2.0px;stroke-linecap:butt;stroke-linejoin:miter;stroke-opacity:1\"/>\n<path class=\"bond-4\" d=\"M 61.5943,110.773 L 68.7275,115.902\" style=\"fill:none;fill-rule:evenodd;stroke:#0000FF;stroke-width:2.0px;stroke-linecap:butt;stroke-linejoin:miter;stroke-opacity:1\"/>\n<path class=\"bond-4\" d=\"M 68.7275,115.902 L 75.8607,121.03\" style=\"fill:none;fill-rule:evenodd;stroke:#000000;stroke-width:2.0px;stroke-linecap:butt;stroke-linejoin:miter;stroke-opacity:1\"/>\n<path class=\"bond-5\" d=\"M 75.8607,121.03 L 78.1589,141.899\" style=\"fill:none;fill-rule:evenodd;stroke:#000000;stroke-width:2.0px;stroke-linecap:butt;stroke-linejoin:miter;stroke-opacity:1\"/>\n<path class=\"bond-5\" d=\"M 80.3791,123.701 L 81.9879,138.309\" style=\"fill:none;fill-rule:evenodd;stroke:#000000;stroke-width:2.0px;stroke-linecap:butt;stroke-linejoin:miter;stroke-opacity:1\"/>\n<path class=\"bond-20\" d=\"M 75.8607,121.03 L 92.7841,108.606\" style=\"fill:none;fill-rule:evenodd;stroke:#000000;stroke-width:2.0px;stroke-linecap:butt;stroke-linejoin:miter;stroke-opacity:1\"/>\n<path class=\"bond-6\" d=\"M 78.1589,141.899 L 97.3806,150.342\" style=\"fill:none;fill-rule:evenodd;stroke:#000000;stroke-width:2.0px;stroke-linecap:butt;stroke-linejoin:miter;stroke-opacity:1\"/>\n<path class=\"bond-7\" d=\"M 97.3806,150.342 L 114.304,137.918\" style=\"fill:none;fill-rule:evenodd;stroke:#000000;stroke-width:2.0px;stroke-linecap:butt;stroke-linejoin:miter;stroke-opacity:1\"/>\n<path class=\"bond-7\" d=\"M 97.4342,145.094 L 109.281,136.397\" style=\"fill:none;fill-rule:evenodd;stroke:#000000;stroke-width:2.0px;stroke-linecap:butt;stroke-linejoin:miter;stroke-opacity:1\"/>\n<path class=\"bond-8\" d=\"M 114.304,137.918 L 122.506,141.521\" style=\"fill:none;fill-rule:evenodd;stroke:#000000;stroke-width:2.0px;stroke-linecap:butt;stroke-linejoin:miter;stroke-opacity:1\"/>\n<path class=\"bond-8\" d=\"M 122.506,141.521 L 130.708,145.124\" style=\"fill:none;fill-rule:evenodd;stroke:#00CC00;stroke-width:2.0px;stroke-linecap:butt;stroke-linejoin:miter;stroke-opacity:1\"/>\n<path class=\"bond-9\" d=\"M 114.304,137.918 L 112.006,117.05\" style=\"fill:none;fill-rule:evenodd;stroke:#000000;stroke-width:2.0px;stroke-linecap:butt;stroke-linejoin:miter;stroke-opacity:1\"/>\n<path class=\"bond-10\" d=\"M 112.006,117.05 L 92.7841,108.606\" style=\"fill:none;fill-rule:evenodd;stroke:#000000;stroke-width:2.0px;stroke-linecap:butt;stroke-linejoin:miter;stroke-opacity:1\"/>\n<path class=\"bond-10\" d=\"M 107.434,119.627 L 93.9786,113.717\" style=\"fill:none;fill-rule:evenodd;stroke:#000000;stroke-width:2.0px;stroke-linecap:butt;stroke-linejoin:miter;stroke-opacity:1\"/>\n<path class=\"bond-11\" d=\"M 92.7841,108.606 L 86.1973,88.6712\" style=\"fill:none;fill-rule:evenodd;stroke:#000000;stroke-width:2.0px;stroke-linecap:butt;stroke-linejoin:miter;stroke-opacity:1\"/>\n<path class=\"bond-12\" d=\"M 86.1973,88.6712 L 91.1096,81.8389\" style=\"fill:none;fill-rule:evenodd;stroke:#000000;stroke-width:2.0px;stroke-linecap:butt;stroke-linejoin:miter;stroke-opacity:1\"/>\n<path class=\"bond-12\" d=\"M 91.1096,81.8389 L 96.0219,75.0065\" style=\"fill:none;fill-rule:evenodd;stroke:#CCCC00;stroke-width:2.0px;stroke-linecap:butt;stroke-linejoin:miter;stroke-opacity:1\"/>\n<path class=\"bond-13\" d=\"M 100.884,71.8684 L 110.114,72.7922\" style=\"fill:none;fill-rule:evenodd;stroke:#CCCC00;stroke-width:2.0px;stroke-linecap:butt;stroke-linejoin:miter;stroke-opacity:1\"/>\n<path class=\"bond-13\" d=\"M 110.114,72.7922 L 119.343,73.7159\" style=\"fill:none;fill-rule:evenodd;stroke:#000000;stroke-width:2.0px;stroke-linecap:butt;stroke-linejoin:miter;stroke-opacity:1\"/>\n<path class=\"bond-14\" d=\"M 119.343,73.7159 L 127.978,92.8527\" style=\"fill:none;fill-rule:evenodd;stroke:#000000;stroke-width:2.0px;stroke-linecap:butt;stroke-linejoin:miter;stroke-opacity:1\"/>\n<path class=\"bond-14\" d=\"M 124.466,74.8595 L 130.51,88.2553\" style=\"fill:none;fill-rule:evenodd;stroke:#000000;stroke-width:2.0px;stroke-linecap:butt;stroke-linejoin:miter;stroke-opacity:1\"/>\n<path class=\"bond-21\" d=\"M 119.343,73.7159 L 131.599,56.6699\" style=\"fill:none;fill-rule:evenodd;stroke:#000000;stroke-width:2.0px;stroke-linecap:butt;stroke-linejoin:miter;stroke-opacity:1\"/>\n<path class=\"bond-15\" d=\"M 127.978,92.8527 L 148.868,94.9435\" style=\"fill:none;fill-rule:evenodd;stroke:#000000;stroke-width:2.0px;stroke-linecap:butt;stroke-linejoin:miter;stroke-opacity:1\"/>\n<path class=\"bond-16\" d=\"M 148.868,94.9435 L 161.124,77.8975\" style=\"fill:none;fill-rule:evenodd;stroke:#000000;stroke-width:2.0px;stroke-linecap:butt;stroke-linejoin:miter;stroke-opacity:1\"/>\n<path class=\"bond-16\" d=\"M 147.297,89.9354 L 155.876,78.0032\" style=\"fill:none;fill-rule:evenodd;stroke:#000000;stroke-width:2.0px;stroke-linecap:butt;stroke-linejoin:miter;stroke-opacity:1\"/>\n<path class=\"bond-17\" d=\"M 161.124,77.8975 L 152.489,58.7606\" style=\"fill:none;fill-rule:evenodd;stroke:#000000;stroke-width:2.0px;stroke-linecap:butt;stroke-linejoin:miter;stroke-opacity:1\"/>\n<path class=\"bond-18\" d=\"M 152.489,58.7606 L 131.599,56.6699\" style=\"fill:none;fill-rule:evenodd;stroke:#000000;stroke-width:2.0px;stroke-linecap:butt;stroke-linejoin:miter;stroke-opacity:1\"/>\n<path class=\"bond-18\" d=\"M 148.938,62.6251 L 134.314,61.1615\" style=\"fill:none;fill-rule:evenodd;stroke:#000000;stroke-width:2.0px;stroke-linecap:butt;stroke-linejoin:miter;stroke-opacity:1\"/>\n<path class=\"atom-0\" d=\"M 59.9081 49.6575 L 61.8564 52.8067 Q 62.0496 53.1174, 62.3603 53.6801 Q 62.671 54.2427, 62.6878 54.2763 L 62.6878 49.6575 L 63.4772 49.6575 L 63.4772 55.6032 L 62.6626 55.6032 L 60.5716 52.1601 Q 60.328 51.757, 60.0677 51.2951 Q 59.8158 50.8332, 59.7402 50.6905 L 59.7402 55.6032 L 58.9676 55.6032 L 58.9676 49.6575 L 59.9081 49.6575 \" fill=\"#0000FF\"/>\n<path class=\"atom-0\" d=\"M 64.191 49.6575 L 64.9972 49.6575 L 64.9972 52.1853 L 68.0372 52.1853 L 68.0372 49.6575 L 68.8434 49.6575 L 68.8434 55.6032 L 68.0372 55.6032 L 68.0372 52.8571 L 64.9972 52.8571 L 64.9972 55.6032 L 64.191 55.6032 L 64.191 49.6575 \" fill=\"#0000FF\"/>\n<path class=\"atom-0\" d=\"M 69.1316 55.3946 Q 69.2758 55.0232, 69.6194 54.8182 Q 69.963 54.6075, 70.4397 54.6075 Q 71.0327 54.6075, 71.3653 54.929 Q 71.6979 55.2505, 71.6979 55.8214 Q 71.6979 56.4033, 71.2655 56.9465 Q 70.8388 57.4897, 69.9519 58.1326 L 71.7644 58.1326 L 71.7644 58.576 L 69.1206 58.576 L 69.1206 58.2047 Q 69.8522 57.6837, 70.2845 57.2957 Q 70.7224 56.9077, 70.933 56.5585 Q 71.1436 56.2093, 71.1436 55.8491 Q 71.1436 55.4722, 70.9551 55.2616 Q 70.7667 55.0509, 70.4397 55.0509 Q 70.1238 55.0509, 69.9131 55.1784 Q 69.7025 55.3059, 69.5529 55.5886 L 69.1316 55.3946 \" fill=\"#0000FF\"/>\n<path class=\"atom-2\" d=\"M 29.1809 74.167 Q 29.1809 72.7394, 29.8863 71.9416 Q 30.5917 71.1438, 31.9102 71.1438 Q 33.2286 71.1438, 33.934 71.9416 Q 34.6394 72.7394, 34.6394 74.167 Q 34.6394 75.6115, 33.9256 76.4345 Q 33.2118 77.249, 31.9102 77.249 Q 30.6001 77.249, 29.8863 76.4345 Q 29.1809 75.6199, 29.1809 74.167 M 31.9102 76.5772 Q 32.8171 76.5772, 33.3042 75.9726 Q 33.7997 75.3595, 33.7997 74.167 Q 33.7997 72.9997, 33.3042 72.4119 Q 32.8171 71.8157, 31.9102 71.8157 Q 31.0032 71.8157, 30.5077 72.4035 Q 30.0206 72.9913, 30.0206 74.167 Q 30.0206 75.3679, 30.5077 75.9726 Q 31.0032 76.5772, 31.9102 76.5772 \" fill=\"#FF0000\"/>\n<path class=\"atom-4\" d=\"M 51.2104 105.802 L 52.0166 105.802 L 52.0166 108.329 L 55.0566 108.329 L 55.0566 105.802 L 55.8628 105.802 L 55.8628 111.747 L 55.0566 111.747 L 55.0566 109.001 L 52.0166 109.001 L 52.0166 111.747 L 51.2104 111.747 L 51.2104 105.802 \" fill=\"#0000FF\"/>\n<path class=\"atom-4\" d=\"M 57.5004 105.802 L 59.4487 108.951 Q 59.6418 109.262, 59.9526 109.824 Q 60.2633 110.387, 60.2801 110.42 L 60.2801 105.802 L 61.0695 105.802 L 61.0695 111.747 L 60.2549 111.747 L 58.1638 108.304 Q 57.9203 107.901, 57.6599 107.439 Q 57.408 106.977, 57.3324 106.835 L 57.3324 111.747 L 56.5598 111.747 L 56.5598 105.802 L 57.5004 105.802 \" fill=\"#0000FF\"/>\n<path class=\"atom-9\" d=\"M 131.233 146.568 Q 131.233 145.09, 131.922 144.317 Q 132.619 143.536, 133.937 143.536 Q 135.163 143.536, 135.818 144.401 L 135.264 144.854 Q 134.785 144.225, 133.937 144.225 Q 133.039 144.225, 132.56 144.829 Q 132.09 145.425, 132.09 146.568 Q 132.09 147.743, 132.577 148.348 Q 133.072 148.953, 134.03 148.953 Q 134.685 148.953, 135.449 148.558 L 135.684 149.188 Q 135.373 149.389, 134.903 149.507 Q 134.433 149.624, 133.912 149.624 Q 132.619 149.624, 131.922 148.835 Q 131.233 148.046, 131.233 146.568 \" fill=\"#00CC00\"/>\n<path class=\"atom-9\" d=\"M 136.541 143.175 L 137.313 143.175 L 137.313 149.549 L 136.541 149.549 L 136.541 143.175 \" fill=\"#00CC00\"/>\n<path class=\"atom-13\" d=\"M 96.7735 73.6658 Q 96.8407 73.691, 97.1179 73.8086 Q 97.395 73.9261, 97.6973 74.0017 Q 98.008 74.0689, 98.3103 74.0689 Q 98.873 74.0689, 99.2005 73.8002 Q 99.528 73.523, 99.528 73.0444 Q 99.528 72.7168, 99.3601 72.5153 Q 99.2005 72.3137, 98.9486 72.2046 Q 98.6966 72.0954, 98.2768 71.9694 Q 97.7477 71.8099, 97.4286 71.6587 Q 97.1179 71.5076, 96.8911 71.1884 Q 96.6728 70.8693, 96.6728 70.3319 Q 96.6728 69.5845, 97.1766 69.1226 Q 97.6889 68.6607, 98.6966 68.6607 Q 99.3853 68.6607, 100.166 68.9882 L 99.9731 69.6348 Q 99.2593 69.3409, 98.7218 69.3409 Q 98.1424 69.3409, 97.8233 69.5845 Q 97.5042 69.8196, 97.5126 70.2311 Q 97.5126 70.5502, 97.6721 70.7433 Q 97.8401 70.9365, 98.0752 71.0457 Q 98.3187 71.1548, 98.7218 71.2808 Q 99.2593 71.4488, 99.5784 71.6167 Q 99.8975 71.7847, 100.124 72.129 Q 100.359 72.4649, 100.359 73.0444 Q 100.359 73.8673, 99.8052 74.3124 Q 99.2593 74.7491, 98.3439 74.7491 Q 97.8149 74.7491, 97.4118 74.6315 Q 97.0171 74.5224, 96.5468 74.3292 L 96.7735 73.6658 \" fill=\"#CCCC00\"/>\n<path class=\"bond-0\" d=\"M 209.091,100.594 L 216.792,105.04\" style=\"fill:none;fill-rule:evenodd;stroke:#000000;stroke-width:2.0px;stroke-linecap:butt;stroke-linejoin:miter;stroke-opacity:1\"/>\n<path class=\"bond-0\" d=\"M 216.792,105.04 L 224.493,109.486\" style=\"fill:none;fill-rule:evenodd;stroke:#0000FF;stroke-width:2.0px;stroke-linecap:butt;stroke-linejoin:miter;stroke-opacity:1\"/>\n<path class=\"bond-1\" d=\"M 227.273,114.589 L 227.273,123.337\" style=\"fill:none;fill-rule:evenodd;stroke:#0000FF;stroke-width:2.0px;stroke-linecap:butt;stroke-linejoin:miter;stroke-opacity:1\"/>\n<path class=\"bond-1\" d=\"M 227.273,123.337 L 227.273,132.086\" style=\"fill:none;fill-rule:evenodd;stroke:#000000;stroke-width:2.0px;stroke-linecap:butt;stroke-linejoin:miter;stroke-opacity:1\"/>\n<path class=\"bond-2\" d=\"M 230.052,109.486 L 237.753,105.04\" style=\"fill:none;fill-rule:evenodd;stroke:#0000FF;stroke-width:2.0px;stroke-linecap:butt;stroke-linejoin:miter;stroke-opacity:1\"/>\n<path class=\"bond-2\" d=\"M 237.753,105.04 L 245.455,100.594\" style=\"fill:none;fill-rule:evenodd;stroke:#000000;stroke-width:2.0px;stroke-linecap:butt;stroke-linejoin:miter;stroke-opacity:1\"/>\n<path class=\"bond-3\" d=\"M 245.455,100.594 L 245.455,79.5991\" style=\"fill:none;fill-rule:evenodd;stroke:#000000;stroke-width:2.0px;stroke-linecap:butt;stroke-linejoin:miter;stroke-opacity:1\"/>\n<path class=\"bond-3\" d=\"M 249.653,97.4445 L 249.653,82.7483\" style=\"fill:none;fill-rule:evenodd;stroke:#000000;stroke-width:2.0px;stroke-linecap:butt;stroke-linejoin:miter;stroke-opacity:1\"/>\n<path class=\"bond-18\" d=\"M 245.455,100.594 L 263.636,111.091\" style=\"fill:none;fill-rule:evenodd;stroke:#000000;stroke-width:2.0px;stroke-linecap:butt;stroke-linejoin:miter;stroke-opacity:1\"/>\n<path class=\"bond-4\" d=\"M 245.455,79.5991 L 263.636,69.1018\" style=\"fill:none;fill-rule:evenodd;stroke:#000000;stroke-width:2.0px;stroke-linecap:butt;stroke-linejoin:miter;stroke-opacity:1\"/>\n<path class=\"bond-5\" d=\"M 263.636,69.1018 L 281.818,79.5991\" style=\"fill:none;fill-rule:evenodd;stroke:#000000;stroke-width:2.0px;stroke-linecap:butt;stroke-linejoin:miter;stroke-opacity:1\"/>\n<path class=\"bond-5\" d=\"M 264.264,74.3128 L 276.991,81.6609\" style=\"fill:none;fill-rule:evenodd;stroke:#000000;stroke-width:2.0px;stroke-linecap:butt;stroke-linejoin:miter;stroke-opacity:1\"/>\n<path class=\"bond-6\" d=\"M 281.818,79.5991 L 289.519,75.1529\" style=\"fill:none;fill-rule:evenodd;stroke:#000000;stroke-width:2.0px;stroke-linecap:butt;stroke-linejoin:miter;stroke-opacity:1\"/>\n<path class=\"bond-6\" d=\"M 289.519,75.1529 L 297.22,70.7067\" style=\"fill:none;fill-rule:evenodd;stroke:#0000FF;stroke-width:2.0px;stroke-linecap:butt;stroke-linejoin:miter;stroke-opacity:1\"/>\n<path class=\"bond-16\" d=\"M 281.818,79.5991 L 281.818,100.594\" style=\"fill:none;fill-rule:evenodd;stroke:#000000;stroke-width:2.0px;stroke-linecap:butt;stroke-linejoin:miter;stroke-opacity:1\"/>\n<path class=\"bond-7\" d=\"M 302.78,70.7067 L 310.481,75.1529\" style=\"fill:none;fill-rule:evenodd;stroke:#0000FF;stroke-width:2.0px;stroke-linecap:butt;stroke-linejoin:miter;stroke-opacity:1\"/>\n<path class=\"bond-7\" d=\"M 310.481,75.1529 L 318.182,79.5991\" style=\"fill:none;fill-rule:evenodd;stroke:#000000;stroke-width:2.0px;stroke-linecap:butt;stroke-linejoin:miter;stroke-opacity:1\"/>\n<path class=\"bond-8\" d=\"M 318.182,79.5991 L 318.182,100.594\" style=\"fill:none;fill-rule:evenodd;stroke:#000000;stroke-width:2.0px;stroke-linecap:butt;stroke-linejoin:miter;stroke-opacity:1\"/>\n<path class=\"bond-8\" d=\"M 322.381,82.7483 L 322.381,97.4445\" style=\"fill:none;fill-rule:evenodd;stroke:#000000;stroke-width:2.0px;stroke-linecap:butt;stroke-linejoin:miter;stroke-opacity:1\"/>\n<path class=\"bond-19\" d=\"M 318.182,79.5991 L 336.364,69.1018\" style=\"fill:none;fill-rule:evenodd;stroke:#000000;stroke-width:2.0px;stroke-linecap:butt;stroke-linejoin:miter;stroke-opacity:1\"/>\n<path class=\"bond-9\" d=\"M 318.182,100.594 L 336.364,111.091\" style=\"fill:none;fill-rule:evenodd;stroke:#000000;stroke-width:2.0px;stroke-linecap:butt;stroke-linejoin:miter;stroke-opacity:1\"/>\n<path class=\"bond-10\" d=\"M 336.364,111.091 L 354.545,100.594\" style=\"fill:none;fill-rule:evenodd;stroke:#000000;stroke-width:2.0px;stroke-linecap:butt;stroke-linejoin:miter;stroke-opacity:1\"/>\n<path class=\"bond-10\" d=\"M 336.991,105.88 L 349.719,98.5319\" style=\"fill:none;fill-rule:evenodd;stroke:#000000;stroke-width:2.0px;stroke-linecap:butt;stroke-linejoin:miter;stroke-opacity:1\"/>\n<path class=\"bond-11\" d=\"M 354.545,100.594 L 354.545,79.5991\" style=\"fill:none;fill-rule:evenodd;stroke:#000000;stroke-width:2.0px;stroke-linecap:butt;stroke-linejoin:miter;stroke-opacity:1\"/>\n<path class=\"bond-13\" d=\"M 354.545,100.594 L 362.247,105.04\" style=\"fill:none;fill-rule:evenodd;stroke:#000000;stroke-width:2.0px;stroke-linecap:butt;stroke-linejoin:miter;stroke-opacity:1\"/>\n<path class=\"bond-13\" d=\"M 362.247,105.04 L 369.948,109.486\" style=\"fill:none;fill-rule:evenodd;stroke:#0000FF;stroke-width:2.0px;stroke-linecap:butt;stroke-linejoin:miter;stroke-opacity:1\"/>\n<path class=\"bond-12\" d=\"M 354.545,79.5991 L 336.364,69.1018\" style=\"fill:none;fill-rule:evenodd;stroke:#000000;stroke-width:2.0px;stroke-linecap:butt;stroke-linejoin:miter;stroke-opacity:1\"/>\n<path class=\"bond-12\" d=\"M 349.719,81.6609 L 336.991,74.3128\" style=\"fill:none;fill-rule:evenodd;stroke:#000000;stroke-width:2.0px;stroke-linecap:butt;stroke-linejoin:miter;stroke-opacity:1\"/>\n<path class=\"bond-14\" d=\"M 372.727,114.589 L 372.727,123.337\" style=\"fill:none;fill-rule:evenodd;stroke:#0000FF;stroke-width:2.0px;stroke-linecap:butt;stroke-linejoin:miter;stroke-opacity:1\"/>\n<path class=\"bond-14\" d=\"M 372.727,123.337 L 372.727,132.086\" style=\"fill:none;fill-rule:evenodd;stroke:#000000;stroke-width:2.0px;stroke-linecap:butt;stroke-linejoin:miter;stroke-opacity:1\"/>\n<path class=\"bond-15\" d=\"M 375.507,109.486 L 383.208,105.04\" style=\"fill:none;fill-rule:evenodd;stroke:#0000FF;stroke-width:2.0px;stroke-linecap:butt;stroke-linejoin:miter;stroke-opacity:1\"/>\n<path class=\"bond-15\" d=\"M 383.208,105.04 L 390.909,100.594\" style=\"fill:none;fill-rule:evenodd;stroke:#000000;stroke-width:2.0px;stroke-linecap:butt;stroke-linejoin:miter;stroke-opacity:1\"/>\n<path class=\"bond-17\" d=\"M 281.818,100.594 L 263.636,111.091\" style=\"fill:none;fill-rule:evenodd;stroke:#000000;stroke-width:2.0px;stroke-linecap:butt;stroke-linejoin:miter;stroke-opacity:1\"/>\n<path class=\"bond-17\" d=\"M 276.991,98.5319 L 264.264,105.88\" style=\"fill:none;fill-rule:evenodd;stroke:#000000;stroke-width:2.0px;stroke-linecap:butt;stroke-linejoin:miter;stroke-opacity:1\"/>\n<path class=\"atom-1\" d=\"M 225.958 108.118 L 227.907 111.267 Q 228.1 111.578, 228.411 112.141 Q 228.721 112.703, 228.738 112.737 L 228.738 108.118 L 229.528 108.118 L 229.528 114.064 L 228.713 114.064 L 226.622 110.621 Q 226.378 110.218, 226.118 109.756 Q 225.866 109.294, 225.791 109.151 L 225.791 114.064 L 225.018 114.064 L 225.018 108.118 L 225.958 108.118 \" fill=\"#0000FF\"/>\n<path class=\"atom-7\" d=\"M 298.686 66.129 L 300.634 69.2782 Q 300.827 69.5889, 301.138 70.1516 Q 301.449 70.7142, 301.465 70.7478 L 301.465 66.129 L 302.255 66.129 L 302.255 72.0747 L 301.44 72.0747 L 299.349 68.6316 Q 299.106 68.2285, 298.845 67.7666 Q 298.593 67.3047, 298.518 67.1619 L 298.518 72.0747 L 297.745 72.0747 L 297.745 66.129 L 298.686 66.129 \" fill=\"#0000FF\"/>\n<path class=\"atom-7\" d=\"M 297.674 59.5888 L 298.48 59.5888 L 298.48 62.1165 L 301.52 62.1165 L 301.52 59.5888 L 302.326 59.5888 L 302.326 65.5345 L 301.52 65.5345 L 301.52 62.7884 L 298.48 62.7884 L 298.48 65.5345 L 297.674 65.5345 L 297.674 59.5888 \" fill=\"#0000FF\"/>\n<path class=\"atom-14\" d=\"M 371.413 108.118 L 373.361 111.267 Q 373.554 111.578, 373.865 112.141 Q 374.176 112.703, 374.193 112.737 L 374.193 108.118 L 374.982 108.118 L 374.982 114.064 L 374.167 114.064 L 372.076 110.621 Q 371.833 110.218, 371.573 109.756 Q 371.321 109.294, 371.245 109.151 L 371.245 114.064 L 370.472 114.064 L 370.472 108.118 L 371.413 108.118 \" fill=\"#0000FF\"/>\n</svg>"
          },
          "metadata": {
            "tags": []
          },
          "execution_count": 16
        }
      ]
    },
    {
      "cell_type": "code",
      "metadata": {
        "id": "o_3LuviARM3v"
      },
      "source": [
        "MAX_LEN_selected = 250"
      ],
      "execution_count": 17,
      "outputs": []
    },
    {
      "cell_type": "code",
      "metadata": {
        "id": "T1fGPd8FRUUA"
      },
      "source": [
        "ds_full = ds_full[ds_full.canonical_smiles.apply(len) <= MAX_LEN_selected]"
      ],
      "execution_count": 18,
      "outputs": []
    },
    {
      "cell_type": "code",
      "metadata": {
        "colab": {
          "base_uri": "https://localhost:8080/"
        },
        "id": "4-qW1rMqRigX",
        "outputId": "7da5f5a3-ccf5-47e0-a828-a8f7b063d332"
      },
      "source": [
        "# get mord keys from the baseline paper\n",
        "!gdown --id 16S-QJGH0vWtmhB0ONF0cFyyoNmObusd8"
      ],
      "execution_count": 19,
      "outputs": [
        {
          "output_type": "stream",
          "text": [
            "Downloading...\n",
            "From: https://drive.google.com/uc?id=16S-QJGH0vWtmhB0ONF0cFyyoNmObusd8\n",
            "To: /content/mord_keys.csv\n",
            "\r  0% 0.00/6.21k [00:00<?, ?B/s]\r100% 6.21k/6.21k [00:00<00:00, 2.54MB/s]\n"
          ],
          "name": "stdout"
        }
      ]
    },
    {
      "cell_type": "code",
      "metadata": {
        "id": "rZLekQVKRkI5"
      },
      "source": [
        "custom_descriptors = pd.read_csv('mord_keys.csv')['mord_keys'].values.tolist()"
      ],
      "execution_count": 20,
      "outputs": []
    },
    {
      "cell_type": "code",
      "metadata": {
        "colab": {
          "base_uri": "https://localhost:8080/"
        },
        "id": "XFXzZMzBSPEd",
        "outputId": "61008641-a2c5-4b32-ea2b-a1208c7ea4f0"
      },
      "source": [
        "MAX_LEN = ds_full['canonical_smiles'].map(lambda x: len(str(x))).max()\n",
        "MAX_LEN"
      ],
      "execution_count": 21,
      "outputs": [
        {
          "output_type": "execute_result",
          "data": {
            "text/plain": [
              "250"
            ]
          },
          "metadata": {
            "tags": []
          },
          "execution_count": 21
        }
      ]
    },
    {
      "cell_type": "code",
      "metadata": {
        "id": "rXqJUuoKRuFa"
      },
      "source": [
        "get_smaller_version = ds_full.sample(frac=0.005)"
      ],
      "execution_count": 22,
      "outputs": []
    },
    {
      "cell_type": "code",
      "metadata": {
        "colab": {
          "base_uri": "https://localhost:8080/"
        },
        "id": "gho-gqH9W1QF",
        "outputId": "baca690b-d708-4824-e284-0623c0232ae3"
      },
      "source": [
        "get_smaller_version.species_id.value_counts()"
      ],
      "execution_count": 23,
      "outputs": [
        {
          "output_type": "execute_result",
          "data": {
            "text/plain": [
              "1620.0    391\n",
              "2938.0    170\n",
              "Name: species_id, dtype: int64"
            ]
          },
          "metadata": {
            "tags": []
          },
          "execution_count": 23
        }
      ]
    },
    {
      "cell_type": "code",
      "metadata": {
        "colab": {
          "base_uri": "https://localhost:8080/"
        },
        "id": "4510CF87bA3h",
        "outputId": "f0f05883-9b1e-4bbb-aafa-42a9760211b0"
      },
      "source": [
        "MAX_LEN = get_smaller_version['canonical_smiles'].map(lambda x: len(str(x))).max()\n",
        "MAX_LEN"
      ],
      "execution_count": 24,
      "outputs": [
        {
          "output_type": "execute_result",
          "data": {
            "text/plain": [
              "226"
            ]
          },
          "metadata": {
            "tags": []
          },
          "execution_count": 24
        }
      ]
    },
    {
      "cell_type": "code",
      "metadata": {
        "id": "CPPEnZRDR1WT"
      },
      "source": [
        "mols = [Chem.MolFromSmiles(i) for i in get_smaller_version.canonical_smiles.to_list()]\n",
        "calc = Calculator(descriptors, ignore_3D=True)"
      ],
      "execution_count": 25,
      "outputs": []
    },
    {
      "cell_type": "code",
      "metadata": {
        "id": "Cwk64ngoj90r"
      },
      "source": [
        "iso_smiles = [isomer_smiles(mol,-1) for mol in mols]"
      ],
      "execution_count": 26,
      "outputs": []
    },
    {
      "cell_type": "code",
      "metadata": {
        "colab": {
          "base_uri": "https://localhost:8080/"
        },
        "id": "Bupvfk4DkH7O",
        "outputId": "f1dd9013-0f52-4939-e368-f163f2f916a3"
      },
      "source": [
        "MAX_LEN = max([len(x) for x in iso_smiles])\n",
        "MAX_LEN"
      ],
      "execution_count": 27,
      "outputs": [
        {
          "output_type": "execute_result",
          "data": {
            "text/plain": [
              "280"
            ]
          },
          "metadata": {
            "tags": []
          },
          "execution_count": 27
        }
      ]
    },
    {
      "cell_type": "code",
      "metadata": {
        "colab": {
          "base_uri": "https://localhost:8080/"
        },
        "id": "q9BRfb3vU13y",
        "outputId": "4aa9c5d1-4c83-4093-cda8-3e36af7da5a7"
      },
      "source": [
        "md = calc.pandas(mols)"
      ],
      "execution_count": 28,
      "outputs": [
        {
          "output_type": "stream",
          "text": [
            " 22%|██▏       | 122/561 [00:55<05:42,  1.28it/s]"
          ],
          "name": "stderr"
        },
        {
          "output_type": "stream",
          "text": [
            "/usr/local/lib/python3.7/dist-packages/numpy/core/fromnumeric.py:87: RuntimeWarning: overflow encountered in reduce\n",
            "  return ufunc.reduce(obj, axis, dtype, out, **passkwargs)\n"
          ],
          "name": "stdout"
        },
        {
          "output_type": "stream",
          "text": [
            " 29%|██▊       | 161/561 [01:14<05:55,  1.13it/s]"
          ],
          "name": "stderr"
        },
        {
          "output_type": "stream",
          "text": [
            "/usr/local/lib/python3.7/dist-packages/numpy/core/fromnumeric.py:87: RuntimeWarning: overflow encountered in reduce\n",
            "  return ufunc.reduce(obj, axis, dtype, out, **passkwargs)\n"
          ],
          "name": "stdout"
        },
        {
          "output_type": "stream",
          "text": [
            " 34%|███▎      | 188/561 [01:26<04:19,  1.44it/s]"
          ],
          "name": "stderr"
        },
        {
          "output_type": "stream",
          "text": [
            "/usr/local/lib/python3.7/dist-packages/numpy/core/fromnumeric.py:87: RuntimeWarning: overflow encountered in reduce\n",
            "  return ufunc.reduce(obj, axis, dtype, out, **passkwargs)\n"
          ],
          "name": "stdout"
        },
        {
          "output_type": "stream",
          "text": [
            "100%|██████████| 561/561 [04:18<00:00,  2.17it/s]\n"
          ],
          "name": "stderr"
        }
      ]
    },
    {
      "cell_type": "code",
      "metadata": {
        "id": "UAPgliVTTChP"
      },
      "source": [
        "smile_ft = [mol_to_feature(mol,-1, MAX_LEN) for mol in mols]"
      ],
      "execution_count": 29,
      "outputs": []
    },
    {
      "cell_type": "code",
      "metadata": {
        "id": "QWst8YJxU3wL"
      },
      "source": [
        "md = md[custom_descriptors]"
      ],
      "execution_count": 30,
      "outputs": []
    },
    {
      "cell_type": "code",
      "metadata": {
        "id": "wldxu76vTNM_"
      },
      "source": [
        "md['active'] = get_smaller_version.species_id.apply(lambda x: 1 if x == id1 else 0).values.tolist()\n",
        "md['smile_ft'] = smile_ft\n",
        "md['smiles'] = get_smaller_version.canonical_smiles.values.tolist()\n",
        "md['iso_smiles'] = iso_smiles"
      ],
      "execution_count": 31,
      "outputs": []
    },
    {
      "cell_type": "code",
      "metadata": {
        "colab": {
          "base_uri": "https://localhost:8080/"
        },
        "id": "Pnwr0EhHVgt3",
        "outputId": "39fa867e-aa5e-4adc-8c0c-0004eb2d09b8"
      },
      "source": [
        "set([len(x) for x in smile_ft])"
      ],
      "execution_count": 32,
      "outputs": [
        {
          "output_type": "execute_result",
          "data": {
            "text/plain": [
              "{11760}"
            ]
          },
          "metadata": {
            "tags": []
          },
          "execution_count": 32
        }
      ]
    },
    {
      "cell_type": "code",
      "metadata": {
        "colab": {
          "base_uri": "https://localhost:8080/"
        },
        "id": "LgKQNJwhcf3q",
        "outputId": "1835291e-a401-46b7-9615-edab2cbd863a"
      },
      "source": [
        "from collections import Counter\n",
        "Counter([len(x) for x in smile_ft])"
      ],
      "execution_count": 33,
      "outputs": [
        {
          "output_type": "execute_result",
          "data": {
            "text/plain": [
              "Counter({11760: 561})"
            ]
          },
          "metadata": {
            "tags": []
          },
          "execution_count": 33
        }
      ]
    },
    {
      "cell_type": "code",
      "metadata": {
        "id": "Ee5-RjsxV5jc"
      },
      "source": [
        "md.to_csv('/content/small_hiv1_hcv.csv')"
      ],
      "execution_count": 34,
      "outputs": []
    }
  ]
}