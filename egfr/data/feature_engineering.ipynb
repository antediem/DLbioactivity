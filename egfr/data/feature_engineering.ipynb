{
 "cells": [
  {
   "cell_type": "code",
   "execution_count": 30,
   "metadata": {},
   "outputs": [],
   "source": [
    "from tqdm import tqdm\n",
    "from rdkit import Chem\n",
    "from feature import mol_to_feature\n",
    "import numpy as np\n",
    "import pandas as pd\n",
    "import pickle\n",
    "from mordred import Calculator, descriptors\n",
    "\n",
    "MAX_LEN = 150\n",
    "INPUT_SMILES = 'egfr.csv'\n",
    "OUTPUT = 'egfr.pickle'\n",
    "SMILE = 'smiles'\n",
    "ACTIVE = 'active'\n",
    "ID = 'id'\n",
    "DEBUG = False"
   ]
  },
  {
   "cell_type": "code",
   "execution_count": 31,
   "metadata": {},
   "outputs": [
    {
     "name": "stdout",
     "output_type": "stream",
     "text": [
      "                                              smiles  active\n",
      "0  c12c(ncnc1Cc1cccc(c1)I)cc1c(c2)O[C@@H]([C@H](O...       1\n",
      "1  c12c(cc(c(c1)CN1CCC[C@@H]1C(=O)N)OC)ncnc2Nc1cc...       1\n",
      "2  C1(CCN(CC1)C)(N(Cc1c(cc2c(c1)c(ncn2)Nc1cccc(c1...       1\n",
      "3          c12c(cnc(n1)NCCN1CCOCC1)ncnc2Nc1cccc(c1)C       1\n",
      "4   c12c(cc(c(c1)OC)OC)ncc(c2Nc1cccc(c1)C(F)(F)F)C#N       0\n",
      "Shape before dropping duplicates:  (3492, 2)\n",
      "Shape after dropping duplicates:  (3492, 2)\n"
     ]
    }
   ],
   "source": [
    "df = pd.read_csv(INPUT_SMILES)\n",
    "print(df.head())\n",
    "print ('Shape before dropping duplicates: ', df.shape)\n",
    "df = df.drop_duplicates(subset=[SMILE])\n",
    "print ('Shape after dropping duplicates: ', df.shape)\n",
    "\n",
    "if DEBUG:\n",
    "    df = df.head(10)"
   ]
  },
  {
   "cell_type": "code",
   "execution_count": 32,
   "metadata": {},
   "outputs": [],
   "source": [
    "mols = [Chem.MolFromSmiles(i) for i in df.smiles]"
   ]
  },
  {
   "cell_type": "code",
   "execution_count": 35,
   "metadata": {},
   "outputs": [
    {
     "name": "stderr",
     "output_type": "stream",
     "text": [
      "  8%|▊         | 277/3492 [01:16<14:12,  3.77it/s]  "
     ]
    },
    {
     "name": "stdout",
     "output_type": "stream",
     "text": [
      "/Users/huypham/anaconda3/envs/egfr/lib/python3.7/site-packages/numpy/core/fromnumeric.py:86: RuntimeWarning: overflow encountered in reduce\n",
      "  return ufunc.reduce(obj, axis, dtype, out, **passkwargs)\n"
     ]
    },
    {
     "name": "stderr",
     "output_type": "stream",
     "text": [
      "  8%|▊         | 288/3492 [01:20<20:56,  2.55it/s]"
     ]
    },
    {
     "name": "stdout",
     "output_type": "stream",
     "text": [
      "/Users/huypham/anaconda3/envs/egfr/lib/python3.7/site-packages/numpy/core/fromnumeric.py:86: RuntimeWarning: overflow encountered in reduce\n",
      "  return ufunc.reduce(obj, axis, dtype, out, **passkwargs)\n"
     ]
    },
    {
     "name": "stderr",
     "output_type": "stream",
     "text": [
      " 58%|█████▊    | 2026/3492 [07:27<06:45,  3.61it/s]"
     ]
    },
    {
     "name": "stdout",
     "output_type": "stream",
     "text": [
      "/Users/huypham/anaconda3/envs/egfr/lib/python3.7/site-packages/numpy/core/fromnumeric.py:86: RuntimeWarning: overflow encountered in reduce\n",
      "  return ufunc.reduce(obj, axis, dtype, out, **passkwargs)\n"
     ]
    },
    {
     "name": "stderr",
     "output_type": "stream",
     "text": [
      "100%|██████████| 3492/3492 [11:06<00:00,  5.24it/s]\n"
     ]
    }
   ],
   "source": [
    "calc = Calculator(descriptors, ignore_3D=True)\n",
    "md = calc.pandas(mols)"
   ]
  },
  {
   "cell_type": "code",
   "execution_count": 43,
   "metadata": {},
   "outputs": [],
   "source": [
    "smile_ft = [mol_to_feature(mol,-1, 150) for mol in mols]"
   ]
  },
  {
   "cell_type": "code",
   "execution_count": 47,
   "metadata": {},
   "outputs": [],
   "source": [
    "md['active'] = df.active\n",
    "md['smile'] = df.smiles\n",
    "md['smile_ft'] = smile_ft"
   ]
  },
  {
   "cell_type": "code",
   "execution_count": 48,
   "metadata": {},
   "outputs": [
    {
     "data": {
      "text/html": [
       "<div>\n",
       "<style scoped>\n",
       "    .dataframe tbody tr th:only-of-type {\n",
       "        vertical-align: middle;\n",
       "    }\n",
       "\n",
       "    .dataframe tbody tr th {\n",
       "        vertical-align: top;\n",
       "    }\n",
       "\n",
       "    .dataframe thead th {\n",
       "        text-align: right;\n",
       "    }\n",
       "</style>\n",
       "<table border=\"1\" class=\"dataframe\">\n",
       "  <thead>\n",
       "    <tr style=\"text-align: right;\">\n",
       "      <th></th>\n",
       "      <th>ABC</th>\n",
       "      <th>ABCGG</th>\n",
       "      <th>nAcid</th>\n",
       "      <th>nBase</th>\n",
       "      <th>SpAbs_A</th>\n",
       "      <th>SpMax_A</th>\n",
       "      <th>SpDiam_A</th>\n",
       "      <th>SpAD_A</th>\n",
       "      <th>SpMAD_A</th>\n",
       "      <th>LogEE_A</th>\n",
       "      <th>...</th>\n",
       "      <th>AMW</th>\n",
       "      <th>WPath</th>\n",
       "      <th>WPol</th>\n",
       "      <th>Zagreb1</th>\n",
       "      <th>Zagreb2</th>\n",
       "      <th>mZagreb1</th>\n",
       "      <th>mZagreb2</th>\n",
       "      <th>active</th>\n",
       "      <th>smile</th>\n",
       "      <th>smile_ft</th>\n",
       "    </tr>\n",
       "  </thead>\n",
       "  <tbody>\n",
       "    <tr>\n",
       "      <th>0</th>\n",
       "      <td>21.867940</td>\n",
       "      <td>16.082486</td>\n",
       "      <td>0</td>\n",
       "      <td>0</td>\n",
       "      <td>36.5002</td>\n",
       "      <td>2.48437</td>\n",
       "      <td>4.96874</td>\n",
       "      <td>36.5002</td>\n",
       "      <td>1.30358</td>\n",
       "      <td>4.26828</td>\n",
       "      <td>...</td>\n",
       "      <td>10.041931</td>\n",
       "      <td>2083</td>\n",
       "      <td>46</td>\n",
       "      <td>148.0</td>\n",
       "      <td>175.0</td>\n",
       "      <td>8</td>\n",
       "      <td>6.277778</td>\n",
       "      <td>1</td>\n",
       "      <td>c12c(ncnc1Cc1cccc(c1)I)cc1c(c2)O[C@@H]([C@H](O...</td>\n",
       "      <td>[0, 1, 0, 0, 0, 0.375, 1.0, 0.0, 0.5, 0, 0, 0,...</td>\n",
       "    </tr>\n",
       "    <tr>\n",
       "      <th>1</th>\n",
       "      <td>23.529442</td>\n",
       "      <td>18.570548</td>\n",
       "      <td>0</td>\n",
       "      <td>1</td>\n",
       "      <td>38.8182</td>\n",
       "      <td>2.46021</td>\n",
       "      <td>4.91238</td>\n",
       "      <td>38.8182</td>\n",
       "      <td>1.29394</td>\n",
       "      <td>4.33701</td>\n",
       "      <td>...</td>\n",
       "      <td>8.414447</td>\n",
       "      <td>2503</td>\n",
       "      <td>49</td>\n",
       "      <td>160.0</td>\n",
       "      <td>190.0</td>\n",
       "      <td>9.72222</td>\n",
       "      <td>6.583333</td>\n",
       "      <td>1</td>\n",
       "      <td>c12c(cc(c(c1)CN1CCC[C@@H]1C(=O)N)OC)ncnc2Nc1cc...</td>\n",
       "      <td>[0, 1, 0, 0, 0, 0.375, 1.0, 0.0, 0.5, 0, 0, 0,...</td>\n",
       "    </tr>\n",
       "    <tr>\n",
       "      <th>2</th>\n",
       "      <td>26.493870</td>\n",
       "      <td>20.693006</td>\n",
       "      <td>0</td>\n",
       "      <td>2</td>\n",
       "      <td>43.49</td>\n",
       "      <td>2.48122</td>\n",
       "      <td>4.96244</td>\n",
       "      <td>43.49</td>\n",
       "      <td>1.27912</td>\n",
       "      <td>4.45683</td>\n",
       "      <td>...</td>\n",
       "      <td>7.841849</td>\n",
       "      <td>3438</td>\n",
       "      <td>62</td>\n",
       "      <td>182.0</td>\n",
       "      <td>219.0</td>\n",
       "      <td>12.0347</td>\n",
       "      <td>7.472222</td>\n",
       "      <td>1</td>\n",
       "      <td>C1(CCN(CC1)C)(N(Cc1c(cc2c(c1)c(ncn2)Nc1cccc(c1...</td>\n",
       "      <td>[0, 1, 0, 0, 0, 0.375, 1.0, 0.0, 0.5, 0, 0, 0,...</td>\n",
       "    </tr>\n",
       "    <tr>\n",
       "      <th>3</th>\n",
       "      <td>21.241713</td>\n",
       "      <td>15.127499</td>\n",
       "      <td>0</td>\n",
       "      <td>1</td>\n",
       "      <td>35.8767</td>\n",
       "      <td>2.41424</td>\n",
       "      <td>4.82848</td>\n",
       "      <td>35.8767</td>\n",
       "      <td>1.32877</td>\n",
       "      <td>4.22902</td>\n",
       "      <td>...</td>\n",
       "      <td>7.303928</td>\n",
       "      <td>2088</td>\n",
       "      <td>39</td>\n",
       "      <td>140.0</td>\n",
       "      <td>161.0</td>\n",
       "      <td>6.52778</td>\n",
       "      <td>5.972222</td>\n",
       "      <td>1</td>\n",
       "      <td>c12c(cnc(n1)NCCN1CCOCC1)ncnc2Nc1cccc(c1)C</td>\n",
       "      <td>[0, 1, 0, 0, 0, 0.375, 1.0, 0.0, 0.5, 0, 0, 0,...</td>\n",
       "    </tr>\n",
       "    <tr>\n",
       "      <th>4</th>\n",
       "      <td>20.759483</td>\n",
       "      <td>16.820563</td>\n",
       "      <td>0</td>\n",
       "      <td>0</td>\n",
       "      <td>34.2001</td>\n",
       "      <td>2.4737</td>\n",
       "      <td>4.94741</td>\n",
       "      <td>34.2001</td>\n",
       "      <td>1.26667</td>\n",
       "      <td>4.22028</td>\n",
       "      <td>...</td>\n",
       "      <td>9.100093</td>\n",
       "      <td>1802</td>\n",
       "      <td>46</td>\n",
       "      <td>142.0</td>\n",
       "      <td>168.0</td>\n",
       "      <td>9.95139</td>\n",
       "      <td>6.027778</td>\n",
       "      <td>0</td>\n",
       "      <td>c12c(cc(c(c1)OC)OC)ncc(c2Nc1cccc(c1)C(F)(F)F)C#N</td>\n",
       "      <td>[0, 1, 0, 0, 0, 0.375, 1.0, 0.0, 0.5, 0, 0, 0,...</td>\n",
       "    </tr>\n",
       "  </tbody>\n",
       "</table>\n",
       "<p>5 rows × 1616 columns</p>\n",
       "</div>"
      ],
      "text/plain": [
       "         ABC      ABCGG  nAcid  nBase  SpAbs_A  SpMax_A SpDiam_A   SpAD_A  \\\n",
       "0  21.867940  16.082486      0      0  36.5002  2.48437  4.96874  36.5002   \n",
       "1  23.529442  18.570548      0      1  38.8182  2.46021  4.91238  38.8182   \n",
       "2  26.493870  20.693006      0      2    43.49  2.48122  4.96244    43.49   \n",
       "3  21.241713  15.127499      0      1  35.8767  2.41424  4.82848  35.8767   \n",
       "4  20.759483  16.820563      0      0  34.2001   2.4737  4.94741  34.2001   \n",
       "\n",
       "   SpMAD_A  LogEE_A  ...        AMW WPath WPol Zagreb1 Zagreb2 mZagreb1  \\\n",
       "0  1.30358  4.26828  ...  10.041931  2083   46   148.0   175.0        8   \n",
       "1  1.29394  4.33701  ...   8.414447  2503   49   160.0   190.0  9.72222   \n",
       "2  1.27912  4.45683  ...   7.841849  3438   62   182.0   219.0  12.0347   \n",
       "3  1.32877  4.22902  ...   7.303928  2088   39   140.0   161.0  6.52778   \n",
       "4  1.26667  4.22028  ...   9.100093  1802   46   142.0   168.0  9.95139   \n",
       "\n",
       "   mZagreb2  active                                              smile  \\\n",
       "0  6.277778       1  c12c(ncnc1Cc1cccc(c1)I)cc1c(c2)O[C@@H]([C@H](O...   \n",
       "1  6.583333       1  c12c(cc(c(c1)CN1CCC[C@@H]1C(=O)N)OC)ncnc2Nc1cc...   \n",
       "2  7.472222       1  C1(CCN(CC1)C)(N(Cc1c(cc2c(c1)c(ncn2)Nc1cccc(c1...   \n",
       "3  5.972222       1          c12c(cnc(n1)NCCN1CCOCC1)ncnc2Nc1cccc(c1)C   \n",
       "4  6.027778       0   c12c(cc(c(c1)OC)OC)ncc(c2Nc1cccc(c1)C(F)(F)F)C#N   \n",
       "\n",
       "                                            smile_ft  \n",
       "0  [0, 1, 0, 0, 0, 0.375, 1.0, 0.0, 0.5, 0, 0, 0,...  \n",
       "1  [0, 1, 0, 0, 0, 0.375, 1.0, 0.0, 0.5, 0, 0, 0,...  \n",
       "2  [0, 1, 0, 0, 0, 0.375, 1.0, 0.0, 0.5, 0, 0, 0,...  \n",
       "3  [0, 1, 0, 0, 0, 0.375, 1.0, 0.0, 0.5, 0, 0, 0,...  \n",
       "4  [0, 1, 0, 0, 0, 0.375, 1.0, 0.0, 0.5, 0, 0, 0,...  \n",
       "\n",
       "[5 rows x 1616 columns]"
      ]
     },
     "execution_count": 48,
     "metadata": {},
     "output_type": "execute_result"
    }
   ],
   "source": [
    "md.head()"
   ]
  }
 ],
 "metadata": {
  "kernelspec": {
   "display_name": "Python 3",
   "language": "python",
   "name": "python3"
  },
  "language_info": {
   "codemirror_mode": {
    "name": "ipython",
    "version": 3
   },
   "file_extension": ".py",
   "mimetype": "text/x-python",
   "name": "python",
   "nbconvert_exporter": "python",
   "pygments_lexer": "ipython3",
   "version": "3.7.4"
  }
 },
 "nbformat": 4,
 "nbformat_minor": 4
}
