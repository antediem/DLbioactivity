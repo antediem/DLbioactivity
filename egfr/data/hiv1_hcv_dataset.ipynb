{
  "nbformat": 4,
  "nbformat_minor": 0,
  "metadata": {
    "colab": {
      "name": "hiv1_hcv_dataset.ipynb",
      "provenance": [],
      "collapsed_sections": [],
      "toc_visible": true
    },
    "kernelspec": {
      "name": "python3",
      "display_name": "Python 3"
    },
    "language_info": {
      "name": "python"
    }
  },
  "cells": [
    {
      "cell_type": "code",
      "metadata": {
        "colab": {
          "base_uri": "https://localhost:8080/"
        },
        "id": "RszO4iL4IY44",
        "outputId": "e38f35ec-7769-4571-8718-db4c687590e5"
      },
      "source": [
        "!python --version"
      ],
      "execution_count": 1,
      "outputs": [
        {
          "output_type": "stream",
          "text": [
            "Python 3.7.10\n"
          ],
          "name": "stdout"
        }
      ]
    },
    {
      "cell_type": "code",
      "metadata": {
        "colab": {
          "base_uri": "https://localhost:8080/"
        },
        "id": "6xZUw9oZG2d8",
        "outputId": "90e0b886-1db3-4d4b-f792-6251cd781bd4"
      },
      "source": [
        "import sys\n",
        "import os\n",
        "import requests\n",
        "import subprocess\n",
        "import shutil\n",
        "from logging import getLogger, StreamHandler, INFO\n",
        "import matplotlib.pyplot as plt\n",
        "\n",
        "\n",
        "logger = getLogger(__name__)\n",
        "logger.addHandler(StreamHandler())\n",
        "logger.setLevel(INFO)\n",
        "\n",
        "\n",
        "def install(\n",
        "        chunk_size=4096,\n",
        "        file_name=\"Miniconda3-latest-Linux-x86_64.sh\",\n",
        "        url_base=\"https://repo.continuum.io/miniconda/\",\n",
        "        conda_path=os.path.expanduser(os.path.join(\"~\", \"miniconda\")),\n",
        "        rdkit_version=None,\n",
        "        add_python_path=True,\n",
        "        force=False):\n",
        "    \"\"\"install rdkit from miniconda\n",
        "    ```\n",
        "    import rdkit_installer\n",
        "    rdkit_installer.install()\n",
        "    ```\n",
        "    \"\"\"\n",
        "\n",
        "    python_path = os.path.join(\n",
        "        conda_path,\n",
        "        \"lib\",\n",
        "        \"python{0}.{1}\".format(*sys.version_info),\n",
        "        \"site-packages\",\n",
        "    )\n",
        "\n",
        "    if add_python_path and python_path not in sys.path:\n",
        "        logger.info(\"add {} to PYTHONPATH\".format(python_path))\n",
        "        sys.path.append(python_path)\n",
        "\n",
        "    if os.path.isdir(os.path.join(python_path, \"rdkit\")):\n",
        "        logger.info(\"rdkit is already installed\")\n",
        "        if not force:\n",
        "            return\n",
        "\n",
        "        logger.info(\"force re-install\")\n",
        "\n",
        "    url = url_base + file_name\n",
        "    python_version = \"{0}.{1}.{2}\".format(*sys.version_info)\n",
        "\n",
        "    logger.info(\"python version: {}\".format(python_version))\n",
        "\n",
        "    if os.path.isdir(conda_path):\n",
        "        logger.warning(\"remove current miniconda\")\n",
        "        shutil.rmtree(conda_path)\n",
        "    elif os.path.isfile(conda_path):\n",
        "        logger.warning(\"remove {}\".format(conda_path))\n",
        "        os.remove(conda_path)\n",
        "\n",
        "    logger.info('fetching installer from {}'.format(url))\n",
        "    res = requests.get(url, stream=True)\n",
        "    res.raise_for_status()\n",
        "    with open(file_name, 'wb') as f:\n",
        "        for chunk in res.iter_content(chunk_size):\n",
        "            f.write(chunk)\n",
        "    logger.info('done')\n",
        "\n",
        "    logger.info('installing miniconda to {}'.format(conda_path))\n",
        "    subprocess.check_call([\"bash\", file_name, \"-b\", \"-p\", conda_path])\n",
        "    logger.info('done')\n",
        "\n",
        "    logger.info(\"installing rdkit\")\n",
        "    subprocess.check_call([\n",
        "        os.path.join(conda_path, \"bin\", \"conda\"),\n",
        "        \"install\",\n",
        "        \"--yes\",\n",
        "        \"-c\", \"rdkit\",\n",
        "        \"python=={}\".format(python_version),\n",
        "        \"rdkit\" if rdkit_version is None else \"rdkit=={}\".format(rdkit_version)])\n",
        "    logger.info(\"done\")\n",
        "\n",
        "    import rdkit\n",
        "    logger.info(\"rdkit-{} installation finished!\".format(rdkit.__version__))\n",
        "\n",
        "\n",
        "if __name__ == \"__main__\":\n",
        "    install()"
      ],
      "execution_count": 2,
      "outputs": [
        {
          "output_type": "stream",
          "text": [
            "add /root/miniconda/lib/python3.7/site-packages to PYTHONPATH\n",
            "python version: 3.7.10\n",
            "fetching installer from https://repo.continuum.io/miniconda/Miniconda3-latest-Linux-x86_64.sh\n",
            "done\n",
            "installing miniconda to /root/miniconda\n",
            "done\n",
            "installing rdkit\n",
            "done\n",
            "rdkit-2020.09.1 installation finished!\n"
          ],
          "name": "stderr"
        }
      ]
    },
    {
      "cell_type": "code",
      "metadata": {
        "id": "sB-9y_-aGYtl"
      },
      "source": [
        "from rdkit import Chem\n",
        "from rdkit.Chem.Draw import IPythonConsole\n",
        "from rdkit.Chem import rdchem\n",
        "from rdkit.Chem import Draw\n",
        "\n",
        "import re\n"
      ],
      "execution_count": 3,
      "outputs": []
    },
    {
      "cell_type": "code",
      "metadata": {
        "colab": {
          "base_uri": "https://localhost:8080/"
        },
        "id": "2DGAvrmAP_ZQ",
        "outputId": "ebd98bcf-f613-4d6b-b8c6-a6e5462ecb9e"
      },
      "source": [
        "!pip install mordred"
      ],
      "execution_count": 4,
      "outputs": [
        {
          "output_type": "stream",
          "text": [
            "Collecting mordred\n",
            "\u001b[?25l  Downloading https://files.pythonhosted.org/packages/93/3d/26c908ece761adafcea06320bf8fe73f4de69979273fb164226dc6038c39/mordred-1.2.0.tar.gz (128kB)\n",
            "\r\u001b[K     |██▌                             | 10kB 11.7MB/s eta 0:00:01\r\u001b[K     |█████                           | 20kB 17.1MB/s eta 0:00:01\r\u001b[K     |███████▋                        | 30kB 11.7MB/s eta 0:00:01\r\u001b[K     |██████████▏                     | 40kB 8.8MB/s eta 0:00:01\r\u001b[K     |████████████▊                   | 51kB 5.5MB/s eta 0:00:01\r\u001b[K     |███████████████▎                | 61kB 6.1MB/s eta 0:00:01\r\u001b[K     |█████████████████▉              | 71kB 5.9MB/s eta 0:00:01\r\u001b[K     |████████████████████▍           | 81kB 6.6MB/s eta 0:00:01\r\u001b[K     |███████████████████████         | 92kB 6.3MB/s eta 0:00:01\r\u001b[K     |█████████████████████████▌      | 102kB 6.8MB/s eta 0:00:01\r\u001b[K     |████████████████████████████    | 112kB 6.8MB/s eta 0:00:01\r\u001b[K     |██████████████████████████████▌ | 122kB 6.8MB/s eta 0:00:01\r\u001b[K     |████████████████████████████████| 133kB 6.8MB/s \n",
            "\u001b[?25hRequirement already satisfied: six==1.* in /usr/local/lib/python3.7/dist-packages (from mordred) (1.15.0)\n",
            "Requirement already satisfied: numpy==1.* in /usr/local/lib/python3.7/dist-packages (from mordred) (1.19.5)\n",
            "Requirement already satisfied: networkx==2.* in /usr/local/lib/python3.7/dist-packages (from mordred) (2.5.1)\n",
            "Requirement already satisfied: decorator<5,>=4.3 in /usr/local/lib/python3.7/dist-packages (from networkx==2.*->mordred) (4.4.2)\n",
            "Building wheels for collected packages: mordred\n",
            "  Building wheel for mordred (setup.py) ... \u001b[?25l\u001b[?25hdone\n",
            "  Created wheel for mordred: filename=mordred-1.2.0-cp37-none-any.whl size=176721 sha256=62038b4a5319f155f7d9491b0f8e0a77d44bb8db6519bfd7108986dab38a303d\n",
            "  Stored in directory: /root/.cache/pip/wheels/ac/74/3f/2fd81b1187013f2eadb15620434813f1824c4c03b7bd1f94f6\n",
            "Successfully built mordred\n",
            "Installing collected packages: mordred\n",
            "Successfully installed mordred-1.2.0\n"
          ],
          "name": "stdout"
        }
      ]
    },
    {
      "cell_type": "markdown",
      "metadata": {
        "id": "gbSCBnvrga1v"
      },
      "source": [
        "# feature.py code"
      ]
    },
    {
      "cell_type": "code",
      "metadata": {
        "id": "nEKOgpipgVdU"
      },
      "source": [
        "# Credit: http://www.dna.bio.keio.ac.jp/smiles/\n",
        "\n",
        "#import numpy as np\n",
        "#import cupy as cp\n",
        "#import pandas as pd\n",
        "from rdkit import Chem\n",
        "from rdkit.Chem import rdchem\n",
        "#from rdkit.Chem import AllChem\n",
        "import re\n",
        "\n",
        "# xp = np\n",
        "\n",
        "#\n",
        "Chiral = {\"CHI_UNSPECIFIED\":0,  \"CHI_TETRAHEDRAL_CW\":1, \"CHI_TETRAHEDRAL_CCW\":2, \"CHI_OTHER\":3}\n",
        "Hybridization = {\"UNSPECIFIED\":0, \"S\":1, \"SP\":2, \"SP2\":3, \"SP3\":4, \"SP3D\":5, \"SP3D2\":6, \"OTHER\":7}\n",
        "\n",
        " # featurevector\n",
        "atomInfo = 21\n",
        "structInfo = 21\n",
        "lensize= atomInfo + structInfo\n",
        "\n",
        "H_Vector = [0]*atomInfo\n",
        "H_Vector[0]= 1\n",
        "\n",
        "#\n",
        "lowerReg = re.compile(r'^[a-z]+$')\n",
        "def islower(s):\n",
        "    return lowerReg.match(s) is not None\n",
        "\n",
        "#\n",
        "upperReg = re.compile(r'^[A-Z]+$')\n",
        "def isupper(s):\n",
        "    return upperReg.match(s) is not None\n",
        "\n",
        "#\n",
        "def calc_atom_feature(atom):\n",
        "    \n",
        "    if atom.GetSymbol() == 'H':   feature = [1,0,0,0,0]\n",
        "    elif atom.GetSymbol() == 'C': feature = [0,1,0,0,0]\n",
        "    elif atom.GetSymbol() == 'O': feature = [0,0,1,0,0]\n",
        "    elif atom.GetSymbol() == 'N': feature = [0,0,0,1,0]\n",
        "    else: feature = [0,0,0,0,1]\n",
        "        \n",
        "    feature.append(atom.GetTotalNumHs()/8)\n",
        "    feature.append(atom.GetTotalDegree()/4)\n",
        "    feature.append(atom.GetFormalCharge()/8)\n",
        "    feature.append(atom.GetTotalValence()/8)\n",
        "    feature.append(atom.IsInRing()*1)\n",
        "    feature.append(atom.GetIsAromatic()*1)\n",
        "\n",
        "    f =  [0]*(len(Chiral)-1)\n",
        "    if Chiral.get(str(atom.GetChiralTag()), 0) != 0:\n",
        "        f[Chiral.get(str(atom.GetChiralTag()), 0)] = 1\n",
        "    feature.extend(f)\n",
        "\n",
        "    f =  [0]*(len(Hybridization)-1)\n",
        "    if Hybridization.get(str(atom.GetHybridization()), 0) != 0:\n",
        "        f[Hybridization.get(str(atom.GetHybridization()), 0)] = 1\n",
        "    feature.extend(f)\n",
        "    \n",
        "    return(feature)\n",
        "\n",
        "\n",
        "def calc_structure_feature(c,flag,label):\n",
        "    feature = [0]*structInfo\n",
        "\n",
        "    if c== '(' :\n",
        "        feature[0] = 1\n",
        "        flag = 0\n",
        "    elif c== ')' :\n",
        "        feature[1] = 1\n",
        "        flag = 0\n",
        "    elif c== '[' :\n",
        "        feature[2] = 1\n",
        "        flag = 0\n",
        "    elif c== ']' :\n",
        "        feature[3] = 1\n",
        "        flag = 0\n",
        "    elif c== '.' :\n",
        "        feature[4] = 1\n",
        "        flag = 0\n",
        "    elif c== ':' :\n",
        "        feature[5] = 1\n",
        "        flag = 0\n",
        "    elif c== '=' :\n",
        "        feature[6] = 1\n",
        "        flag = 0\n",
        "    elif c== '#' :\n",
        "        feature[7] = 1\n",
        "        flag = 0\n",
        "    elif c== '\\\\':\n",
        "        feature[8] = 1\n",
        "        flag = 0\n",
        "    elif c== '/' :\n",
        "        feature[9] = 1\n",
        "        flag = 0  \n",
        "    elif c== '@' :\n",
        "        feature[10] = 1\n",
        "        flag = 0\n",
        "    elif c== '+' :\n",
        "        feature[11] = 1\n",
        "        flag = 1\n",
        "    elif c== '-' :\n",
        "        feature[12] = 1\n",
        "        flag = 1\n",
        "    elif c.isdigit() == True:\n",
        "        if flag == 0:\n",
        "            if c in label:\n",
        "                feature[20] = 1\n",
        "            else:\n",
        "                label.append(c)\n",
        "                feature[19] = 1\n",
        "        else:\n",
        "            feature[int(c)-1+12] = 1\n",
        "            flag = 0\n",
        "    return(feature,flag,label)\n",
        "\n",
        "\n",
        "def calc_featurevector(mol, smiles,atomsize):\n",
        "    flag = 0\n",
        "    label = []\n",
        "    molfeature=[]\n",
        "    idx = 0\n",
        "    j = 0\n",
        "            \n",
        "    for c in smiles:\n",
        "        if islower(c) == True: continue\n",
        "        elif isupper(c) == True:\n",
        "            if c == 'H':\n",
        "                molfeature.extend(H_Vector)\n",
        "            else:\n",
        "                molfeature.extend(calc_atom_feature(rdchem.Mol.GetAtomWithIdx(mol, idx)))\n",
        "                idx = idx + 1\n",
        "            molfeature.extend([0]*structInfo)\n",
        "            j = j +1\n",
        "            \n",
        "        else:   \n",
        "            molfeature.extend([0]*atomInfo)\n",
        "            f,flag,label = calc_structure_feature(c,flag,label)\n",
        "            molfeature.extend(f)\n",
        "            j = j +1\n",
        "\n",
        "    #0-Padding\n",
        "    molfeature.extend([0]*(atomsize-j)*lensize)        \n",
        "    return(molfeature)\n",
        "\n",
        "\n",
        "def mol_to_feature(mol,n,atomsize):\n",
        "    try: defaultSMILES = Chem.MolToSmiles(mol, kekuleSmiles=False, isomericSmiles=True, rootedAtAtom=int(n))\n",
        "    except: defaultSMILES = Chem.MolToSmiles(mol, kekuleSmiles=False, isomericSmiles=True)\n",
        "    try: isomerSMILES = Chem.MolToSmiles(mol, kekuleSmiles=True, isomericSmiles=True, rootedAtAtom=int(n))\n",
        "    except: isomerSMILES = Chem.MolToSmiles(mol, kekuleSmiles=True, isomericSmiles=True)\n",
        "    return calc_featurevector(Chem.MolFromSmiles(defaultSMILES), isomerSMILES,atomsize)\n",
        "\n",
        "def mol_to_allSMILESfeature(mol, atomsize):\n",
        "    idx, features =0,  []\n",
        "    while idx < mol.GetNumAtoms():\n",
        "        try: defaultSMILES = Chem.MolToSmiles(mol, kekuleSmiles=False, isomericSmiles=True, rootedAtAtom=int(idx))\n",
        "        except: break\n",
        "        isomerSMILES = Chem.MolToSmiles(mol, kekuleSmiles=True, isomericSmiles=True, rootedAtAtom=int(idx))\n",
        "        features.append(calc_featurevector(Chem.MolFromSmiles(defaultSMILES), isomerSMILES,atomsize))\n",
        "        idx = idx + 1\n",
        "    return(features)\n",
        "\n",
        "\n",
        "def atom_flag(smiles,atomsize):\n",
        "    flag=[]\n",
        "    j = 0\n",
        "            \n",
        "    for c in smiles:\n",
        "        if islower(c) == True: \n",
        "            if c in ['c', 'n', 's', 'o']:\n",
        "                flag.append(1)\n",
        "            else:\n",
        "                flag.append(0)\n",
        "        elif isupper(c) == True:\n",
        "            if c in ['H',]:\n",
        "                flag.append(0)\n",
        "            else:\n",
        "                flag.append(1)\n",
        "        else:   \n",
        "            flag.append(0)           \n",
        "\n",
        "    #0-Padding\n",
        "    flag.extend([0]*(atomsize-len(smiles)))        \n",
        "    return(flag)"
      ],
      "execution_count": 5,
      "outputs": []
    },
    {
      "cell_type": "code",
      "metadata": {
        "id": "4KQDGS-VdNZH"
      },
      "source": [
        "from tqdm import tqdm\n",
        "from rdkit import Chem\n",
        "import numpy as np\n",
        "import pandas as pd\n",
        "import pickle\n",
        "from mordred import Calculator, descriptors"
      ],
      "execution_count": 6,
      "outputs": []
    },
    {
      "cell_type": "markdown",
      "metadata": {
        "id": "-xOVufdDgiys"
      },
      "source": [
        "# Import dataset"
      ]
    },
    {
      "cell_type": "code",
      "metadata": {
        "colab": {
          "base_uri": "https://localhost:8080/"
        },
        "id": "DHehqFmrfUQ9",
        "outputId": "a46093ef-649c-4abd-8e26-96496c645e4b"
      },
      "source": [
        "!gdown --id 1EM5skz4TfnLk3JZSt-tKKadYFoPeYty7"
      ],
      "execution_count": 7,
      "outputs": [
        {
          "output_type": "stream",
          "text": [
            "Downloading...\n",
            "From: https://drive.google.com/uc?id=1EM5skz4TfnLk3JZSt-tKKadYFoPeYty7\n",
            "To: /content/SF17_ViralChEMBL_dataset.csv\n",
            "251MB [00:02, 113MB/s]\n"
          ],
          "name": "stdout"
        }
      ]
    },
    {
      "cell_type": "code",
      "metadata": {
        "colab": {
          "base_uri": "https://localhost:8080/"
        },
        "id": "MqZQ-zjCdO9e",
        "outputId": "81aa0250-dc4e-4ae8-9be3-da09059ed8a4"
      },
      "source": [
        "db = pd.read_csv('SF17_ViralChEMBL_dataset.csv')"
      ],
      "execution_count": 8,
      "outputs": [
        {
          "output_type": "stream",
          "text": [
            "/usr/local/lib/python3.7/dist-packages/IPython/core/interactiveshell.py:2718: DtypeWarning: Columns (2,21) have mixed types.Specify dtype option on import or set low_memory=False.\n",
            "  interactivity=interactivity, compiler=compiler, result=result)\n"
          ],
          "name": "stderr"
        }
      ]
    },
    {
      "cell_type": "code",
      "metadata": {
        "colab": {
          "base_uri": "https://localhost:8080/",
          "height": 867
        },
        "id": "F4yc0-rQfguw",
        "outputId": "dc3e52b2-1375-421c-d92e-c9307a678be2"
      },
      "source": [
        "db.head(10)"
      ],
      "execution_count": 9,
      "outputs": [
        {
          "output_type": "execute_result",
          "data": {
            "text/html": [
              "<div>\n",
              "<style scoped>\n",
              "    .dataframe tbody tr th:only-of-type {\n",
              "        vertical-align: middle;\n",
              "    }\n",
              "\n",
              "    .dataframe tbody tr th {\n",
              "        vertical-align: top;\n",
              "    }\n",
              "\n",
              "    .dataframe thead th {\n",
              "        text-align: right;\n",
              "    }\n",
              "</style>\n",
              "<table border=\"1\" class=\"dataframe\">\n",
              "  <thead>\n",
              "    <tr style=\"text-align: right;\">\n",
              "      <th></th>\n",
              "      <th>activity_id</th>\n",
              "      <th>standard_type</th>\n",
              "      <th>standard_relation</th>\n",
              "      <th>standard_value</th>\n",
              "      <th>standard_units</th>\n",
              "      <th>av_value</th>\n",
              "      <th>av_units</th>\n",
              "      <th>av_act50</th>\n",
              "      <th>assay_chembl_id</th>\n",
              "      <th>description</th>\n",
              "      <th>assay_type</th>\n",
              "      <th>findec_a</th>\n",
              "      <th>mapping_conf</th>\n",
              "      <th>stdstr_id</th>\n",
              "      <th>molregno</th>\n",
              "      <th>canonical_smiles</th>\n",
              "      <th>std_smiles</th>\n",
              "      <th>species_id</th>\n",
              "      <th>species_name</th>\n",
              "      <th>path_flag</th>\n",
              "      <th>genus_name</th>\n",
              "      <th>subfamily_name</th>\n",
              "      <th>family_name</th>\n",
              "      <th>order_name</th>\n",
              "    </tr>\n",
              "  </thead>\n",
              "  <tbody>\n",
              "    <tr>\n",
              "      <th>0</th>\n",
              "      <td>147811</td>\n",
              "      <td>CC50</td>\n",
              "      <td>=</td>\n",
              "      <td>1000000.0</td>\n",
              "      <td>nM</td>\n",
              "      <td>NaN</td>\n",
              "      <td>NaN</td>\n",
              "      <td>NaN</td>\n",
              "      <td>CHEMBL615126</td>\n",
              "      <td>In vitro cell cytotoxicity against 143B-LTK ce...</td>\n",
              "      <td>F</td>\n",
              "      <td>480</td>\n",
              "      <td>1</td>\n",
              "      <td>1397206</td>\n",
              "      <td>1633264</td>\n",
              "      <td>CC1=CN([C@H]2C[C@H](O[N+](=O)[O-])[C@@H](CO)O2...</td>\n",
              "      <td>CC1=CN([C@H]2C[C@H](O[N+]([O-])=O)[C@@H](CO)O2...</td>\n",
              "      <td>480.0</td>\n",
              "      <td>Human herpesvirus 1</td>\n",
              "      <td>1.0</td>\n",
              "      <td>Simplexvirus</td>\n",
              "      <td>Alphaherpesvirinae</td>\n",
              "      <td>Herpesviridae</td>\n",
              "      <td>Herpesvirales</td>\n",
              "    </tr>\n",
              "    <tr>\n",
              "      <th>1</th>\n",
              "      <td>158768</td>\n",
              "      <td>CC50</td>\n",
              "      <td>=</td>\n",
              "      <td>200000.0</td>\n",
              "      <td>nM</td>\n",
              "      <td>NaN</td>\n",
              "      <td>NaN</td>\n",
              "      <td>NaN</td>\n",
              "      <td>CHEMBL615126</td>\n",
              "      <td>In vitro cell cytotoxicity against 143B-LTK ce...</td>\n",
              "      <td>F</td>\n",
              "      <td>480</td>\n",
              "      <td>1</td>\n",
              "      <td>1397576</td>\n",
              "      <td>1633676</td>\n",
              "      <td>NC1=NC(=O)N(C=C1)[C@H]2C[C@H](O[N+](=O)[O-])[C...</td>\n",
              "      <td>NC1=NC(=O)N(C=C1)[C@H]1C[C@H](O[N+]([O-])=O)[C...</td>\n",
              "      <td>480.0</td>\n",
              "      <td>Human herpesvirus 1</td>\n",
              "      <td>1.0</td>\n",
              "      <td>Simplexvirus</td>\n",
              "      <td>Alphaherpesvirinae</td>\n",
              "      <td>Herpesviridae</td>\n",
              "      <td>Herpesvirales</td>\n",
              "    </tr>\n",
              "    <tr>\n",
              "      <th>2</th>\n",
              "      <td>161153</td>\n",
              "      <td>CC50</td>\n",
              "      <td>=</td>\n",
              "      <td>700000.0</td>\n",
              "      <td>nM</td>\n",
              "      <td>NaN</td>\n",
              "      <td>NaN</td>\n",
              "      <td>NaN</td>\n",
              "      <td>CHEMBL615126</td>\n",
              "      <td>In vitro cell cytotoxicity against 143B-LTK ce...</td>\n",
              "      <td>F</td>\n",
              "      <td>480</td>\n",
              "      <td>1</td>\n",
              "      <td>166147</td>\n",
              "      <td>556</td>\n",
              "      <td>[O-][N+](=O)O[C@H]1CO[C@@H]2[C@@H](CO[C@H]12)O...</td>\n",
              "      <td>[O-][N+](=O)O[C@@H]1CO[C@@H]2[C@H](CO[C@H]12)O...</td>\n",
              "      <td>480.0</td>\n",
              "      <td>Human herpesvirus 1</td>\n",
              "      <td>1.0</td>\n",
              "      <td>Simplexvirus</td>\n",
              "      <td>Alphaherpesvirinae</td>\n",
              "      <td>Herpesviridae</td>\n",
              "      <td>Herpesvirales</td>\n",
              "    </tr>\n",
              "    <tr>\n",
              "      <th>3</th>\n",
              "      <td>162405</td>\n",
              "      <td>CC50</td>\n",
              "      <td>=</td>\n",
              "      <td>100000.0</td>\n",
              "      <td>nM</td>\n",
              "      <td>NaN</td>\n",
              "      <td>NaN</td>\n",
              "      <td>NaN</td>\n",
              "      <td>CHEMBL615126</td>\n",
              "      <td>In vitro cell cytotoxicity against 143B-LTK ce...</td>\n",
              "      <td>F</td>\n",
              "      <td>480</td>\n",
              "      <td>1</td>\n",
              "      <td>230956</td>\n",
              "      <td>82983</td>\n",
              "      <td>OC[C@H]1O[C@H](C[C@@H]1O)N2C=C(F)C(=O)NC2=O</td>\n",
              "      <td>OC[C@H]1O[C@H](C[C@@H]1O)N1C=C(F)C(=O)NC1=O</td>\n",
              "      <td>480.0</td>\n",
              "      <td>Human herpesvirus 1</td>\n",
              "      <td>1.0</td>\n",
              "      <td>Simplexvirus</td>\n",
              "      <td>Alphaherpesvirinae</td>\n",
              "      <td>Herpesviridae</td>\n",
              "      <td>Herpesvirales</td>\n",
              "    </tr>\n",
              "    <tr>\n",
              "      <th>4</th>\n",
              "      <td>164805</td>\n",
              "      <td>CC50</td>\n",
              "      <td>=</td>\n",
              "      <td>21000.0</td>\n",
              "      <td>nM</td>\n",
              "      <td>NaN</td>\n",
              "      <td>NaN</td>\n",
              "      <td>NaN</td>\n",
              "      <td>CHEMBL615126</td>\n",
              "      <td>In vitro cell cytotoxicity against 143B-LTK ce...</td>\n",
              "      <td>F</td>\n",
              "      <td>480</td>\n",
              "      <td>1</td>\n",
              "      <td>1397165</td>\n",
              "      <td>1633207</td>\n",
              "      <td>O[C@H]1C[C@@H](O[C@@H]1CO[N+](=O)[O-])N2C=C(I)...</td>\n",
              "      <td>O[C@H]1C[C@@H](O[C@@H]1CO[N+]([O-])=O)N1C=C(I)...</td>\n",
              "      <td>480.0</td>\n",
              "      <td>Human herpesvirus 1</td>\n",
              "      <td>1.0</td>\n",
              "      <td>Simplexvirus</td>\n",
              "      <td>Alphaherpesvirinae</td>\n",
              "      <td>Herpesviridae</td>\n",
              "      <td>Herpesvirales</td>\n",
              "    </tr>\n",
              "    <tr>\n",
              "      <th>5</th>\n",
              "      <td>166047</td>\n",
              "      <td>CC50</td>\n",
              "      <td>=</td>\n",
              "      <td>74000.0</td>\n",
              "      <td>nM</td>\n",
              "      <td>NaN</td>\n",
              "      <td>NaN</td>\n",
              "      <td>NaN</td>\n",
              "      <td>CHEMBL615126</td>\n",
              "      <td>In vitro cell cytotoxicity against 143B-LTK ce...</td>\n",
              "      <td>F</td>\n",
              "      <td>480</td>\n",
              "      <td>1</td>\n",
              "      <td>1397575</td>\n",
              "      <td>1633675</td>\n",
              "      <td>OC[C@H]1O[C@H](C[C@@H]1O[N+](=O)[O-])N2C=C(F)C...</td>\n",
              "      <td>OC[C@H]1O[C@H](C[C@@H]1O[N+]([O-])=O)N1C=C(F)C...</td>\n",
              "      <td>480.0</td>\n",
              "      <td>Human herpesvirus 1</td>\n",
              "      <td>1.0</td>\n",
              "      <td>Simplexvirus</td>\n",
              "      <td>Alphaherpesvirinae</td>\n",
              "      <td>Herpesviridae</td>\n",
              "      <td>Herpesvirales</td>\n",
              "    </tr>\n",
              "    <tr>\n",
              "      <th>6</th>\n",
              "      <td>166058</td>\n",
              "      <td>CC50</td>\n",
              "      <td>=</td>\n",
              "      <td>7400000.0</td>\n",
              "      <td>nM</td>\n",
              "      <td>NaN</td>\n",
              "      <td>NaN</td>\n",
              "      <td>NaN</td>\n",
              "      <td>CHEMBL615126</td>\n",
              "      <td>In vitro cell cytotoxicity against 143B-LTK ce...</td>\n",
              "      <td>F</td>\n",
              "      <td>480</td>\n",
              "      <td>1</td>\n",
              "      <td>203297</td>\n",
              "      <td>47675</td>\n",
              "      <td>OC[C@H]1O[C@H](C[C@@H]1O)N2C=C(I)C(=O)NC2=O</td>\n",
              "      <td>OC[C@H]1O[C@H](C[C@@H]1O)N1C=C(I)C(=O)NC1=O</td>\n",
              "      <td>480.0</td>\n",
              "      <td>Human herpesvirus 1</td>\n",
              "      <td>1.0</td>\n",
              "      <td>Simplexvirus</td>\n",
              "      <td>Alphaherpesvirinae</td>\n",
              "      <td>Herpesviridae</td>\n",
              "      <td>Herpesvirales</td>\n",
              "    </tr>\n",
              "    <tr>\n",
              "      <th>7</th>\n",
              "      <td>151529</td>\n",
              "      <td>CC50</td>\n",
              "      <td>=</td>\n",
              "      <td>850000.0</td>\n",
              "      <td>nM</td>\n",
              "      <td>NaN</td>\n",
              "      <td>NaN</td>\n",
              "      <td>NaN</td>\n",
              "      <td>CHEMBL615127</td>\n",
              "      <td>In vitro cell cytotoxicity against 143B-LTK ce...</td>\n",
              "      <td>F</td>\n",
              "      <td>480</td>\n",
              "      <td>1</td>\n",
              "      <td>1397164</td>\n",
              "      <td>1633206</td>\n",
              "      <td>OC[C@H]1O[C@H](C[C@@H]1O[N+](=O)[O-])N2C=CC(=O...</td>\n",
              "      <td>OC[C@H]1O[C@H](C[C@@H]1O[N+]([O-])=O)N1C=CC(=O...</td>\n",
              "      <td>480.0</td>\n",
              "      <td>Human herpesvirus 1</td>\n",
              "      <td>1.0</td>\n",
              "      <td>Simplexvirus</td>\n",
              "      <td>Alphaherpesvirinae</td>\n",
              "      <td>Herpesviridae</td>\n",
              "      <td>Herpesvirales</td>\n",
              "    </tr>\n",
              "    <tr>\n",
              "      <th>8</th>\n",
              "      <td>158813</td>\n",
              "      <td>CC50</td>\n",
              "      <td>=</td>\n",
              "      <td>200000.0</td>\n",
              "      <td>nM</td>\n",
              "      <td>NaN</td>\n",
              "      <td>NaN</td>\n",
              "      <td>NaN</td>\n",
              "      <td>CHEMBL615127</td>\n",
              "      <td>In vitro cell cytotoxicity against 143B-LTK ce...</td>\n",
              "      <td>F</td>\n",
              "      <td>480</td>\n",
              "      <td>1</td>\n",
              "      <td>1397210</td>\n",
              "      <td>1633268</td>\n",
              "      <td>NC1=NC(=O)N(C=C1I)[C@H]2C[C@H](O[N+](=O)[O-])[...</td>\n",
              "      <td>NC1=NC(=O)N(C=C1I)[C@H]1C[C@H](O[N+]([O-])=O)[...</td>\n",
              "      <td>480.0</td>\n",
              "      <td>Human herpesvirus 1</td>\n",
              "      <td>1.0</td>\n",
              "      <td>Simplexvirus</td>\n",
              "      <td>Alphaherpesvirinae</td>\n",
              "      <td>Herpesviridae</td>\n",
              "      <td>Herpesvirales</td>\n",
              "    </tr>\n",
              "    <tr>\n",
              "      <th>9</th>\n",
              "      <td>161189</td>\n",
              "      <td>CC50</td>\n",
              "      <td>=</td>\n",
              "      <td>410000.0</td>\n",
              "      <td>nM</td>\n",
              "      <td>NaN</td>\n",
              "      <td>NaN</td>\n",
              "      <td>NaN</td>\n",
              "      <td>CHEMBL615127</td>\n",
              "      <td>In vitro cell cytotoxicity against 143B-LTK ce...</td>\n",
              "      <td>F</td>\n",
              "      <td>480</td>\n",
              "      <td>1</td>\n",
              "      <td>1397552</td>\n",
              "      <td>1633652</td>\n",
              "      <td>OC[C@H]1O[C@H](C[C@@H]1O[N+](=O)[O-])N2C=C(I)C...</td>\n",
              "      <td>OC[C@H]1O[C@H](C[C@@H]1O[N+]([O-])=O)N1C=C(I)C...</td>\n",
              "      <td>480.0</td>\n",
              "      <td>Human herpesvirus 1</td>\n",
              "      <td>1.0</td>\n",
              "      <td>Simplexvirus</td>\n",
              "      <td>Alphaherpesvirinae</td>\n",
              "      <td>Herpesviridae</td>\n",
              "      <td>Herpesvirales</td>\n",
              "    </tr>\n",
              "  </tbody>\n",
              "</table>\n",
              "</div>"
            ],
            "text/plain": [
              "   activity_id standard_type  ...    family_name     order_name\n",
              "0       147811          CC50  ...  Herpesviridae  Herpesvirales\n",
              "1       158768          CC50  ...  Herpesviridae  Herpesvirales\n",
              "2       161153          CC50  ...  Herpesviridae  Herpesvirales\n",
              "3       162405          CC50  ...  Herpesviridae  Herpesvirales\n",
              "4       164805          CC50  ...  Herpesviridae  Herpesvirales\n",
              "5       166047          CC50  ...  Herpesviridae  Herpesvirales\n",
              "6       166058          CC50  ...  Herpesviridae  Herpesvirales\n",
              "7       151529          CC50  ...  Herpesviridae  Herpesvirales\n",
              "8       158813          CC50  ...  Herpesviridae  Herpesvirales\n",
              "9       161189          CC50  ...  Herpesviridae  Herpesvirales\n",
              "\n",
              "[10 rows x 24 columns]"
            ]
          },
          "metadata": {
            "tags": []
          },
          "execution_count": 9
        }
      ]
    },
    {
      "cell_type": "markdown",
      "metadata": {
        "id": "fzjOs9pno2PQ"
      },
      "source": [
        "# HIV-1/HIV-2"
      ]
    },
    {
      "cell_type": "code",
      "metadata": {
        "id": "N7m27HeiV0Mw"
      },
      "source": [
        "HIV1 = 2938\n",
        "HIV2 = 2939"
      ],
      "execution_count": 10,
      "outputs": []
    },
    {
      "cell_type": "code",
      "metadata": {
        "id": "1_jLhZi5WH3z"
      },
      "source": [
        "hiv1_ds = db[(db.species_id == HIV1) & (db.av_act50.notna())]"
      ],
      "execution_count": 11,
      "outputs": []
    },
    {
      "cell_type": "code",
      "metadata": {
        "colab": {
          "base_uri": "https://localhost:8080/"
        },
        "id": "8hJFYsA2Wwla",
        "outputId": "21f77363-3106-4bd2-ed5e-5e18e2a9a4d5"
      },
      "source": [
        "# we have some sources, where av_act50 can be both 0 and 1\n",
        "(hiv1_ds.groupby(['assay_chembl_id', 'molregno']).av_act50.nunique() > 1).sum()"
      ],
      "execution_count": 12,
      "outputs": [
        {
          "output_type": "execute_result",
          "data": {
            "text/plain": [
              "56"
            ]
          },
          "metadata": {
            "tags": []
          },
          "execution_count": 12
        }
      ]
    },
    {
      "cell_type": "code",
      "metadata": {
        "colab": {
          "base_uri": "https://localhost:8080/",
          "height": 1000
        },
        "id": "-bDxFUVHXQmy",
        "outputId": "4d39ee06-8aec-4cae-bcc9-63a265ce5a7d"
      },
      "source": [
        "# in these sources, the molecule is the same\n",
        "hiv1_assays_data = hiv1_ds.groupby(['assay_chembl_id', 'molregno'])[['av_act50', 'canonical_smiles']].nunique() \n",
        "hiv1_assays_data[hiv1_assays_data.av_act50 > 1]"
      ],
      "execution_count": 13,
      "outputs": [
        {
          "output_type": "execute_result",
          "data": {
            "text/html": [
              "<div>\n",
              "<style scoped>\n",
              "    .dataframe tbody tr th:only-of-type {\n",
              "        vertical-align: middle;\n",
              "    }\n",
              "\n",
              "    .dataframe tbody tr th {\n",
              "        vertical-align: top;\n",
              "    }\n",
              "\n",
              "    .dataframe thead th {\n",
              "        text-align: right;\n",
              "    }\n",
              "</style>\n",
              "<table border=\"1\" class=\"dataframe\">\n",
              "  <thead>\n",
              "    <tr style=\"text-align: right;\">\n",
              "      <th></th>\n",
              "      <th></th>\n",
              "      <th>av_act50</th>\n",
              "      <th>canonical_smiles</th>\n",
              "    </tr>\n",
              "    <tr>\n",
              "      <th>assay_chembl_id</th>\n",
              "      <th>molregno</th>\n",
              "      <th></th>\n",
              "      <th></th>\n",
              "    </tr>\n",
              "  </thead>\n",
              "  <tbody>\n",
              "    <tr>\n",
              "      <th>CHEMBL1004248</th>\n",
              "      <th>465352</th>\n",
              "      <td>2</td>\n",
              "      <td>1</td>\n",
              "    </tr>\n",
              "    <tr>\n",
              "      <th>CHEMBL1033994</th>\n",
              "      <th>132377</th>\n",
              "      <td>2</td>\n",
              "      <td>1</td>\n",
              "    </tr>\n",
              "    <tr>\n",
              "      <th>CHEMBL1108869</th>\n",
              "      <th>619344</th>\n",
              "      <td>2</td>\n",
              "      <td>1</td>\n",
              "    </tr>\n",
              "    <tr>\n",
              "      <th>CHEMBL1685113</th>\n",
              "      <th>1072061</th>\n",
              "      <td>2</td>\n",
              "      <td>1</td>\n",
              "    </tr>\n",
              "    <tr>\n",
              "      <th>CHEMBL1686816</th>\n",
              "      <th>1072268</th>\n",
              "      <td>2</td>\n",
              "      <td>1</td>\n",
              "    </tr>\n",
              "    <tr>\n",
              "      <th>CHEMBL1831786</th>\n",
              "      <th>27307</th>\n",
              "      <td>2</td>\n",
              "      <td>1</td>\n",
              "    </tr>\n",
              "    <tr>\n",
              "      <th rowspan=\"4\" valign=\"top\">CHEMBL2114836</th>\n",
              "      <th>826304</th>\n",
              "      <td>2</td>\n",
              "      <td>1</td>\n",
              "    </tr>\n",
              "    <tr>\n",
              "      <th>857546</th>\n",
              "      <td>2</td>\n",
              "      <td>1</td>\n",
              "    </tr>\n",
              "    <tr>\n",
              "      <th>991212</th>\n",
              "      <td>2</td>\n",
              "      <td>1</td>\n",
              "    </tr>\n",
              "    <tr>\n",
              "      <th>1413500</th>\n",
              "      <td>2</td>\n",
              "      <td>1</td>\n",
              "    </tr>\n",
              "    <tr>\n",
              "      <th rowspan=\"2\" valign=\"top\">CHEMBL2169594</th>\n",
              "      <th>1427232</th>\n",
              "      <td>2</td>\n",
              "      <td>1</td>\n",
              "    </tr>\n",
              "    <tr>\n",
              "      <th>1427239</th>\n",
              "      <td>2</td>\n",
              "      <td>1</td>\n",
              "    </tr>\n",
              "    <tr>\n",
              "      <th>CHEMBL653896</th>\n",
              "      <th>1386795</th>\n",
              "      <td>2</td>\n",
              "      <td>1</td>\n",
              "    </tr>\n",
              "    <tr>\n",
              "      <th>CHEMBL656774</th>\n",
              "      <th>1386795</th>\n",
              "      <td>2</td>\n",
              "      <td>1</td>\n",
              "    </tr>\n",
              "    <tr>\n",
              "      <th>CHEMBL659220</th>\n",
              "      <th>93844</th>\n",
              "      <td>2</td>\n",
              "      <td>1</td>\n",
              "    </tr>\n",
              "    <tr>\n",
              "      <th rowspan=\"2\" valign=\"top\">CHEMBL683470</th>\n",
              "      <th>858</th>\n",
              "      <td>2</td>\n",
              "      <td>1</td>\n",
              "    </tr>\n",
              "    <tr>\n",
              "      <th>211835</th>\n",
              "      <td>2</td>\n",
              "      <td>1</td>\n",
              "    </tr>\n",
              "    <tr>\n",
              "      <th rowspan=\"6\" valign=\"top\">CHEMBL683828</th>\n",
              "      <th>241857</th>\n",
              "      <td>2</td>\n",
              "      <td>1</td>\n",
              "    </tr>\n",
              "    <tr>\n",
              "      <th>322589</th>\n",
              "      <td>2</td>\n",
              "      <td>1</td>\n",
              "    </tr>\n",
              "    <tr>\n",
              "      <th>322590</th>\n",
              "      <td>2</td>\n",
              "      <td>1</td>\n",
              "    </tr>\n",
              "    <tr>\n",
              "      <th>519395</th>\n",
              "      <td>2</td>\n",
              "      <td>1</td>\n",
              "    </tr>\n",
              "    <tr>\n",
              "      <th>1387258</th>\n",
              "      <td>2</td>\n",
              "      <td>1</td>\n",
              "    </tr>\n",
              "    <tr>\n",
              "      <th>1387259</th>\n",
              "      <td>2</td>\n",
              "      <td>1</td>\n",
              "    </tr>\n",
              "    <tr>\n",
              "      <th>CHEMBL688519</th>\n",
              "      <th>2127</th>\n",
              "      <td>2</td>\n",
              "      <td>1</td>\n",
              "    </tr>\n",
              "    <tr>\n",
              "      <th>CHEMBL689125</th>\n",
              "      <th>44003</th>\n",
              "      <td>2</td>\n",
              "      <td>1</td>\n",
              "    </tr>\n",
              "    <tr>\n",
              "      <th>CHEMBL691374</th>\n",
              "      <th>210170</th>\n",
              "      <td>2</td>\n",
              "      <td>1</td>\n",
              "    </tr>\n",
              "    <tr>\n",
              "      <th>CHEMBL691375</th>\n",
              "      <th>209873</th>\n",
              "      <td>2</td>\n",
              "      <td>1</td>\n",
              "    </tr>\n",
              "    <tr>\n",
              "      <th>CHEMBL691959</th>\n",
              "      <th>194308</th>\n",
              "      <td>2</td>\n",
              "      <td>1</td>\n",
              "    </tr>\n",
              "    <tr>\n",
              "      <th>CHEMBL692262</th>\n",
              "      <th>132486</th>\n",
              "      <td>2</td>\n",
              "      <td>1</td>\n",
              "    </tr>\n",
              "    <tr>\n",
              "      <th>CHEMBL692940</th>\n",
              "      <th>2127</th>\n",
              "      <td>2</td>\n",
              "      <td>1</td>\n",
              "    </tr>\n",
              "    <tr>\n",
              "      <th rowspan=\"3\" valign=\"top\">CHEMBL699301</th>\n",
              "      <th>72977</th>\n",
              "      <td>2</td>\n",
              "      <td>1</td>\n",
              "    </tr>\n",
              "    <tr>\n",
              "      <th>73699</th>\n",
              "      <td>2</td>\n",
              "      <td>1</td>\n",
              "    </tr>\n",
              "    <tr>\n",
              "      <th>73772</th>\n",
              "      <td>2</td>\n",
              "      <td>1</td>\n",
              "    </tr>\n",
              "    <tr>\n",
              "      <th rowspan=\"2\" valign=\"top\">CHEMBL701116</th>\n",
              "      <th>132379</th>\n",
              "      <td>2</td>\n",
              "      <td>1</td>\n",
              "    </tr>\n",
              "    <tr>\n",
              "      <th>132543</th>\n",
              "      <td>2</td>\n",
              "      <td>1</td>\n",
              "    </tr>\n",
              "    <tr>\n",
              "      <th rowspan=\"4\" valign=\"top\">CHEMBL701718</th>\n",
              "      <th>132042</th>\n",
              "      <td>2</td>\n",
              "      <td>1</td>\n",
              "    </tr>\n",
              "    <tr>\n",
              "      <th>132073</th>\n",
              "      <td>2</td>\n",
              "      <td>1</td>\n",
              "    </tr>\n",
              "    <tr>\n",
              "      <th>132543</th>\n",
              "      <td>2</td>\n",
              "      <td>1</td>\n",
              "    </tr>\n",
              "    <tr>\n",
              "      <th>133032</th>\n",
              "      <td>2</td>\n",
              "      <td>1</td>\n",
              "    </tr>\n",
              "    <tr>\n",
              "      <th>CHEMBL702112</th>\n",
              "      <th>269683</th>\n",
              "      <td>2</td>\n",
              "      <td>1</td>\n",
              "    </tr>\n",
              "    <tr>\n",
              "      <th rowspan=\"2\" valign=\"top\">CHEMBL711808</th>\n",
              "      <th>1632053</th>\n",
              "      <td>2</td>\n",
              "      <td>1</td>\n",
              "    </tr>\n",
              "    <tr>\n",
              "      <th>1632493</th>\n",
              "      <td>2</td>\n",
              "      <td>1</td>\n",
              "    </tr>\n",
              "    <tr>\n",
              "      <th>CHEMBL712341</th>\n",
              "      <th>194308</th>\n",
              "      <td>2</td>\n",
              "      <td>1</td>\n",
              "    </tr>\n",
              "    <tr>\n",
              "      <th>CHEMBL713267</th>\n",
              "      <th>65494</th>\n",
              "      <td>2</td>\n",
              "      <td>1</td>\n",
              "    </tr>\n",
              "    <tr>\n",
              "      <th>CHEMBL765299</th>\n",
              "      <th>295745</th>\n",
              "      <td>2</td>\n",
              "      <td>1</td>\n",
              "    </tr>\n",
              "    <tr>\n",
              "      <th>CHEMBL769358</th>\n",
              "      <th>190647</th>\n",
              "      <td>2</td>\n",
              "      <td>1</td>\n",
              "    </tr>\n",
              "    <tr>\n",
              "      <th>CHEMBL800045</th>\n",
              "      <th>27307</th>\n",
              "      <td>2</td>\n",
              "      <td>1</td>\n",
              "    </tr>\n",
              "    <tr>\n",
              "      <th rowspan=\"4\" valign=\"top\">CHEMBL804233</th>\n",
              "      <th>507934</th>\n",
              "      <td>2</td>\n",
              "      <td>1</td>\n",
              "    </tr>\n",
              "    <tr>\n",
              "      <th>1368022</th>\n",
              "      <td>2</td>\n",
              "      <td>1</td>\n",
              "    </tr>\n",
              "    <tr>\n",
              "      <th>1368023</th>\n",
              "      <td>2</td>\n",
              "      <td>1</td>\n",
              "    </tr>\n",
              "    <tr>\n",
              "      <th>1368024</th>\n",
              "      <td>2</td>\n",
              "      <td>1</td>\n",
              "    </tr>\n",
              "    <tr>\n",
              "      <th>CHEMBL854584</th>\n",
              "      <th>355030</th>\n",
              "      <td>2</td>\n",
              "      <td>1</td>\n",
              "    </tr>\n",
              "    <tr>\n",
              "      <th>CHEMBL854586</th>\n",
              "      <th>355030</th>\n",
              "      <td>2</td>\n",
              "      <td>1</td>\n",
              "    </tr>\n",
              "    <tr>\n",
              "      <th>CHEMBL876242</th>\n",
              "      <th>1386711</th>\n",
              "      <td>2</td>\n",
              "      <td>1</td>\n",
              "    </tr>\n",
              "    <tr>\n",
              "      <th>CHEMBL884233</th>\n",
              "      <th>2127</th>\n",
              "      <td>2</td>\n",
              "      <td>1</td>\n",
              "    </tr>\n",
              "    <tr>\n",
              "      <th>CHEMBL918147</th>\n",
              "      <th>374732</th>\n",
              "      <td>2</td>\n",
              "      <td>1</td>\n",
              "    </tr>\n",
              "  </tbody>\n",
              "</table>\n",
              "</div>"
            ],
            "text/plain": [
              "                          av_act50  canonical_smiles\n",
              "assay_chembl_id molregno                            \n",
              "CHEMBL1004248   465352           2                 1\n",
              "CHEMBL1033994   132377           2                 1\n",
              "CHEMBL1108869   619344           2                 1\n",
              "CHEMBL1685113   1072061          2                 1\n",
              "CHEMBL1686816   1072268          2                 1\n",
              "CHEMBL1831786   27307            2                 1\n",
              "CHEMBL2114836   826304           2                 1\n",
              "                857546           2                 1\n",
              "                991212           2                 1\n",
              "                1413500          2                 1\n",
              "CHEMBL2169594   1427232          2                 1\n",
              "                1427239          2                 1\n",
              "CHEMBL653896    1386795          2                 1\n",
              "CHEMBL656774    1386795          2                 1\n",
              "CHEMBL659220    93844            2                 1\n",
              "CHEMBL683470    858              2                 1\n",
              "                211835           2                 1\n",
              "CHEMBL683828    241857           2                 1\n",
              "                322589           2                 1\n",
              "                322590           2                 1\n",
              "                519395           2                 1\n",
              "                1387258          2                 1\n",
              "                1387259          2                 1\n",
              "CHEMBL688519    2127             2                 1\n",
              "CHEMBL689125    44003            2                 1\n",
              "CHEMBL691374    210170           2                 1\n",
              "CHEMBL691375    209873           2                 1\n",
              "CHEMBL691959    194308           2                 1\n",
              "CHEMBL692262    132486           2                 1\n",
              "CHEMBL692940    2127             2                 1\n",
              "CHEMBL699301    72977            2                 1\n",
              "                73699            2                 1\n",
              "                73772            2                 1\n",
              "CHEMBL701116    132379           2                 1\n",
              "                132543           2                 1\n",
              "CHEMBL701718    132042           2                 1\n",
              "                132073           2                 1\n",
              "                132543           2                 1\n",
              "                133032           2                 1\n",
              "CHEMBL702112    269683           2                 1\n",
              "CHEMBL711808    1632053          2                 1\n",
              "                1632493          2                 1\n",
              "CHEMBL712341    194308           2                 1\n",
              "CHEMBL713267    65494            2                 1\n",
              "CHEMBL765299    295745           2                 1\n",
              "CHEMBL769358    190647           2                 1\n",
              "CHEMBL800045    27307            2                 1\n",
              "CHEMBL804233    507934           2                 1\n",
              "                1368022          2                 1\n",
              "                1368023          2                 1\n",
              "                1368024          2                 1\n",
              "CHEMBL854584    355030           2                 1\n",
              "CHEMBL854586    355030           2                 1\n",
              "CHEMBL876242    1386711          2                 1\n",
              "CHEMBL884233    2127             2                 1\n",
              "CHEMBL918147    374732           2                 1"
            ]
          },
          "metadata": {
            "tags": []
          },
          "execution_count": 13
        }
      ]
    },
    {
      "cell_type": "code",
      "metadata": {
        "colab": {
          "base_uri": "https://localhost:8080/"
        },
        "id": "6zMzL4jGdxS4",
        "outputId": "2337cac2-2a63-4e00-a72d-e3de8064a399"
      },
      "source": [
        "# the ratio is small, so I'll drop them\n",
        "hiv1_assays_data[hiv1_assays_data.av_act50 > 1].shape[0] / hiv1_assays_data.shape[0]"
      ],
      "execution_count": 14,
      "outputs": [
        {
          "output_type": "execute_result",
          "data": {
            "text/plain": [
              "0.0006316050663749252"
            ]
          },
          "metadata": {
            "tags": []
          },
          "execution_count": 14
        }
      ]
    },
    {
      "cell_type": "code",
      "metadata": {
        "id": "o6jw1GJOe8Lc"
      },
      "source": [
        "for (chembl_id, mol) in (hiv1_assays_data[hiv1_assays_data.av_act50 > 1]).index.values:\n",
        "    hiv1_ds = hiv1_ds[~((hiv1_ds.assay_chembl_id == chembl_id) & (hiv1_ds.molregno == mol))]"
      ],
      "execution_count": 15,
      "outputs": []
    },
    {
      "cell_type": "code",
      "metadata": {
        "colab": {
          "base_uri": "https://localhost:8080/"
        },
        "id": "bPqYaVhUg6lZ",
        "outputId": "1d4ac05f-5e95-40bf-9818-a8c8e78a7673"
      },
      "source": [
        "# all gone!\n",
        "(hiv1_ds.groupby(['assay_chembl_id', 'molregno']).av_act50.nunique() > 1).sum()"
      ],
      "execution_count": 16,
      "outputs": [
        {
          "output_type": "execute_result",
          "data": {
            "text/plain": [
              "0"
            ]
          },
          "metadata": {
            "tags": []
          },
          "execution_count": 16
        }
      ]
    },
    {
      "cell_type": "code",
      "metadata": {
        "id": "obWTZxAdiWEV"
      },
      "source": [
        "hiv2_ds = db[(db.species_id == HIV2) & (db.av_act50.notna())]"
      ],
      "execution_count": 17,
      "outputs": []
    },
    {
      "cell_type": "code",
      "metadata": {
        "colab": {
          "base_uri": "https://localhost:8080/"
        },
        "id": "T3aw3DqIiqoc",
        "outputId": "19439b72-5fb2-4f30-b653-d53b45f20f52"
      },
      "source": [
        "# no controversial data for HIV2\n",
        "(hiv2_ds.groupby(['assay_chembl_id', 'molregno']).av_act50.nunique() > 1).sum()"
      ],
      "execution_count": 18,
      "outputs": [
        {
          "output_type": "execute_result",
          "data": {
            "text/plain": [
              "0"
            ]
          },
          "metadata": {
            "tags": []
          },
          "execution_count": 18
        }
      ]
    },
    {
      "cell_type": "code",
      "metadata": {
        "colab": {
          "base_uri": "https://localhost:8080/",
          "height": 281
        },
        "id": "EzYX5fNsnFxL",
        "outputId": "82e71ec1-a79a-4f32-ca32-64d294607835"
      },
      "source": [
        "hiv1_ds.groupby('molregno').av_act50.mean().hist(bins=10)"
      ],
      "execution_count": 19,
      "outputs": [
        {
          "output_type": "execute_result",
          "data": {
            "text/plain": [
              "<matplotlib.axes._subplots.AxesSubplot at 0x7ffa87404290>"
            ]
          },
          "metadata": {
            "tags": []
          },
          "execution_count": 19
        },
        {
          "output_type": "display_data",
          "data": {
            "image/png": "[encoded data removed]",
            "text/plain": [
              "<Figure size 432x288 with 1 Axes>"
            ]
          },
          "metadata": {
            "tags": [],
            "needs_background": "light"
          }
        }
      ]
    },
    {
      "cell_type": "code",
      "metadata": {
        "colab": {
          "base_uri": "https://localhost:8080/",
          "height": 281
        },
        "id": "5gWhzbmEnjve",
        "outputId": "10bb3bc9-6228-4c7b-d190-0e87db5c2098"
      },
      "source": [
        "hiv2_ds.groupby('molregno').av_act50.mean().hist(bins=10)"
      ],
      "execution_count": 20,
      "outputs": [
        {
          "output_type": "execute_result",
          "data": {
            "text/plain": [
              "<matplotlib.axes._subplots.AxesSubplot at 0x7ffa8740fb90>"
            ]
          },
          "metadata": {
            "tags": []
          },
          "execution_count": 20
        },
        {
          "output_type": "display_data",
          "data": {
            "image/png": "[encoded data removed]",
            "text/plain": [
              "<Figure size 432x288 with 1 Axes>"
            ]
          },
          "metadata": {
            "tags": [],
            "needs_background": "light"
          }
        }
      ]
    },
    {
      "cell_type": "code",
      "metadata": {
        "id": "kDW6m_7ooT_h"
      },
      "source": [
        "hiv1_indices = hiv1_ds.groupby('molregno').av_act50.mean()[hiv1_ds.groupby('molregno').av_act50.mean() > 0.5].index.values\n",
        "hiv2_indices = hiv2_ds.groupby('molregno').av_act50.mean()[hiv2_ds.groupby('molregno').av_act50.mean() > 0.5].index.values"
      ],
      "execution_count": 21,
      "outputs": []
    },
    {
      "cell_type": "code",
      "metadata": {
        "id": "79PTgOy3oMdx"
      },
      "source": [
        "hiv1_ds_final = hiv1_ds[hiv1_ds.molregno.isin(hiv1_indices)]\n",
        "hiv2_ds_final = hiv2_ds[hiv2_ds.molregno.isin(hiv2_indices)]"
      ],
      "execution_count": 22,
      "outputs": []
    },
    {
      "cell_type": "code",
      "metadata": {
        "colab": {
          "base_uri": "https://localhost:8080/"
        },
        "id": "0cw7A0Fiimtb",
        "outputId": "77439af3-5345-42d9-a89d-6d86dee73e74"
      },
      "source": [
        "hiv1_ds.molregno.nunique(), hiv2_ds.molregno.nunique()"
      ],
      "execution_count": 23,
      "outputs": [
        {
          "output_type": "execute_result",
          "data": {
            "text/plain": [
              "(48553, 2700)"
            ]
          },
          "metadata": {
            "tags": []
          },
          "execution_count": 23
        }
      ]
    },
    {
      "cell_type": "code",
      "metadata": {
        "colab": {
          "base_uri": "https://localhost:8080/"
        },
        "id": "1v7BToIXooFy",
        "outputId": "7ebce45e-b16b-4e42-8ec4-d460dea287fe"
      },
      "source": [
        "hiv1_ds_final.molregno.nunique(), hiv2_ds_final.molregno.nunique()"
      ],
      "execution_count": 24,
      "outputs": [
        {
          "output_type": "execute_result",
          "data": {
            "text/plain": [
              "(33932, 775)"
            ]
          },
          "metadata": {
            "tags": []
          },
          "execution_count": 24
        }
      ]
    },
    {
      "cell_type": "code",
      "metadata": {
        "id": "39FzSWSVjZd5"
      },
      "source": [
        "import matplotlib\n",
        "from matplotlib_venn import venn2, venn2_circles"
      ],
      "execution_count": 25,
      "outputs": []
    },
    {
      "cell_type": "code",
      "metadata": {
        "colab": {
          "base_uri": "https://localhost:8080/",
          "height": 465
        },
        "id": "dp74FW7Ujmgp",
        "outputId": "137c672a-c905-4208-e601-a054798aa012"
      },
      "source": [
        "font = {'size'   : 12}\n",
        "matplotlib.rc('font', **font)\n",
        "plt.figure(figsize=(8,8))\n",
        "out = venn2([set(hiv1_ds.molregno.values), set(hiv2_ds.molregno.values)], \n",
        "      # set_colors=('#3E64AF', '#3EAF5D'), \n",
        "      set_labels = ('HIV-1', \n",
        "                    'HIV-2'),\n",
        "      alpha=0.75)\n",
        "plt.show()"
      ],
      "execution_count": 26,
      "outputs": [
        {
          "output_type": "display_data",
          "data": {
            "image/png": "[encoded data removed]",
            "text/plain": [
              "<Figure size 576x576 with 1 Axes>"
            ]
          },
          "metadata": {
            "tags": []
          }
        }
      ]
    },
    {
      "cell_type": "code",
      "metadata": {
        "colab": {
          "base_uri": "https://localhost:8080/",
          "height": 465
        },
        "id": "QyzpgvH3mffV",
        "outputId": "2c32b47d-feb9-43a3-d3f4-baa8c5b5df25"
      },
      "source": [
        "font = {'size'   : 12}\n",
        "matplotlib.rc('font', **font)\n",
        "plt.figure(figsize=(8,8))\n",
        "out = venn2([set(hiv1_ds_final.molregno.values), set(hiv2_ds_final.molregno.values)], \n",
        "      # set_colors=('#3E64AF', '#3EAF5D'), \n",
        "      set_labels = ('HIV-1', \n",
        "                    'HIV-2'),\n",
        "      alpha=0.75)\n",
        "plt.show()"
      ],
      "execution_count": 27,
      "outputs": [
        {
          "output_type": "display_data",
          "data": {
            "image/png": "[encoded data removed]",
            "text/plain": [
              "<Figure size 576x576 with 1 Axes>"
            ]
          },
          "metadata": {
            "tags": []
          }
        }
      ]
    },
    {
      "cell_type": "markdown",
      "metadata": {
        "id": "09J0egNdsHkm"
      },
      "source": [
        "# HIV-1/HCV"
      ]
    },
    {
      "cell_type": "code",
      "metadata": {
        "id": "5Pay3udHqRkf"
      },
      "source": [
        "HCV = 1620"
      ],
      "execution_count": 28,
      "outputs": []
    },
    {
      "cell_type": "code",
      "metadata": {
        "id": "Zo-8POsnsRpw"
      },
      "source": [
        "hcv_ds = db[(db.species_id == HCV) & (db.av_act50.notna())]"
      ],
      "execution_count": 29,
      "outputs": []
    },
    {
      "cell_type": "code",
      "metadata": {
        "colab": {
          "base_uri": "https://localhost:8080/"
        },
        "id": "-N8ai7OXsV6o",
        "outputId": "0076bc7f-3fd1-4a54-e87d-595a7784bce8"
      },
      "source": [
        "(hcv_ds.groupby(['assay_chembl_id', 'molregno']).av_act50.nunique() > 1).sum()"
      ],
      "execution_count": 30,
      "outputs": [
        {
          "output_type": "execute_result",
          "data": {
            "text/plain": [
              "71"
            ]
          },
          "metadata": {
            "tags": []
          },
          "execution_count": 30
        }
      ]
    },
    {
      "cell_type": "code",
      "metadata": {
        "colab": {
          "base_uri": "https://localhost:8080/"
        },
        "id": "RpcaHPRSsZm4",
        "outputId": "bd5e7317-0a57-4606-d566-a18f0c8e057c"
      },
      "source": [
        "# ratio of controversial assays\n",
        "hcv_assays_data = hcv_ds.groupby(['assay_chembl_id', 'molregno'])[['av_act50', 'canonical_smiles']].nunique()\n",
        "hcv_assays_data[hcv_assays_data.av_act50 > 1].shape[0] / hcv_assays_data.shape[0]"
      ],
      "execution_count": 31,
      "outputs": [
        {
          "output_type": "execute_result",
          "data": {
            "text/plain": [
              "0.000735020083647356"
            ]
          },
          "metadata": {
            "tags": []
          },
          "execution_count": 31
        }
      ]
    },
    {
      "cell_type": "code",
      "metadata": {
        "id": "9vP7Vxwpsmwp"
      },
      "source": [
        "for (chembl_id, mol) in (hcv_assays_data[hcv_assays_data.av_act50 > 1]).index.values:\n",
        "    hcv_ds = hcv_ds[~((hcv_ds.assay_chembl_id == chembl_id) & (hcv_ds.molregno == mol))]"
      ],
      "execution_count": 32,
      "outputs": []
    },
    {
      "cell_type": "code",
      "metadata": {
        "colab": {
          "base_uri": "https://localhost:8080/",
          "height": 284
        },
        "id": "D4vu_69Gs2uI",
        "outputId": "4c56a068-4764-48ed-c260-23374f1255d6"
      },
      "source": [
        "hcv_ds.groupby('molregno').av_act50.mean().hist(bins=10)"
      ],
      "execution_count": 33,
      "outputs": [
        {
          "output_type": "execute_result",
          "data": {
            "text/plain": [
              "<matplotlib.axes._subplots.AxesSubplot at 0x7ffa6f6a50d0>"
            ]
          },
          "metadata": {
            "tags": []
          },
          "execution_count": 33
        },
        {
          "output_type": "display_data",
          "data": {
            "image/png": "[encoded data removed]",
            "text/plain": [
              "<Figure size 432x288 with 1 Axes>"
            ]
          },
          "metadata": {
            "tags": [],
            "needs_background": "light"
          }
        }
      ]
    },
    {
      "cell_type": "code",
      "metadata": {
        "id": "SgXFO2a9s5Kd"
      },
      "source": [
        "hcv_indices = hcv_ds.groupby('molregno').av_act50.mean()[hcv_ds.groupby('molregno').av_act50.mean() > 0.5].index.values\n",
        "hcv_ds_final = hcv_ds[hcv_ds.molregno.isin(hcv_indices)]"
      ],
      "execution_count": 34,
      "outputs": []
    },
    {
      "cell_type": "code",
      "metadata": {
        "colab": {
          "base_uri": "https://localhost:8080/"
        },
        "id": "y8EXvWKDtIWS",
        "outputId": "35695bc5-1692-4472-c61d-438e58f6c648"
      },
      "source": [
        "hiv1_ds_final.molregno.nunique(), hcv_ds_final.molregno.nunique()"
      ],
      "execution_count": 35,
      "outputs": [
        {
          "output_type": "execute_result",
          "data": {
            "text/plain": [
              "(33932, 83938)"
            ]
          },
          "metadata": {
            "tags": []
          },
          "execution_count": 35
        }
      ]
    },
    {
      "cell_type": "code",
      "metadata": {
        "colab": {
          "base_uri": "https://localhost:8080/",
          "height": 344
        },
        "id": "kFlSH_hQtNiY",
        "outputId": "a1dfc81a-760f-479b-dfbc-d77d3722fc76"
      },
      "source": [
        "font = {'size'   : 12}\n",
        "matplotlib.rc('font', **font)\n",
        "plt.figure(figsize=(8,8))\n",
        "out = venn2([set(hiv1_ds_final.molregno.values), set(hcv_ds_final.molregno.values)], \n",
        "      # set_colors=('#3E64AF', '#3EAF5D'), \n",
        "      set_labels = ('HIV-1', \n",
        "                    'HCV'),\n",
        "      alpha=0.75)\n",
        "plt.show()"
      ],
      "execution_count": 36,
      "outputs": [
        {
          "output_type": "display_data",
          "data": {
            "image/png": "[encoded data removed]",
            "text/plain": [
              "<Figure size 576x576 with 1 Axes>"
            ]
          },
          "metadata": {
            "tags": []
          }
        }
      ]
    },
    {
      "cell_type": "markdown",
      "metadata": {
        "id": "5TcPLzvotnKb"
      },
      "source": [
        "# Datasets\n"
      ]
    },
    {
      "cell_type": "code",
      "metadata": {
        "id": "ESwsB3uTuOw1"
      },
      "source": [
        "hiv1_hcv = pd.concat([hiv1_ds_final[['canonical_smiles', 'species_id']].drop_duplicates(),\n",
        "                      hcv_ds_final[['canonical_smiles', 'species_id']].drop_duplicates()])\n"
      ],
      "execution_count": 46,
      "outputs": []
    },
    {
      "cell_type": "code",
      "metadata": {
        "id": "EjIiRoR1hTu5"
      },
      "source": [
        "intersec = hiv1_hcv.groupby('canonical_smiles').species_id.nunique()\n",
        "intersec = intersec[intersec > 1]"
      ],
      "execution_count": 47,
      "outputs": []
    },
    {
      "cell_type": "code",
      "metadata": {
        "id": "2XcWR-aihUpf"
      },
      "source": [
        "hiv1_hcv = hiv1_hcv[~hiv1_hcv.canonical_smiles.isin(intersec.index.values)]"
      ],
      "execution_count": 48,
      "outputs": []
    },
    {
      "cell_type": "code",
      "metadata": {
        "colab": {
          "base_uri": "https://localhost:8080/"
        },
        "id": "3o26uks-hWl7",
        "outputId": "7d8f0855-d43a-4974-e4ce-c067bc78e4b8"
      },
      "source": [
        "hiv1_hcv.canonical_smiles.apply(len).max()"
      ],
      "execution_count": 49,
      "outputs": [
        {
          "output_type": "execute_result",
          "data": {
            "text/plain": [
              "1966"
            ]
          },
          "metadata": {
            "tags": []
          },
          "execution_count": 49
        }
      ]
    },
    {
      "cell_type": "code",
      "metadata": {
        "colab": {
          "base_uri": "https://localhost:8080/",
          "height": 284
        },
        "id": "EqgiZ0SxhY6o",
        "outputId": "669cd484-ab3f-4304-de00-f55c132acb23"
      },
      "source": [
        "# HIV-1 molecules length distribution\n",
        "hiv1_hcv[hiv1_hcv.species_id == HIV1].canonical_smiles.apply(len).hist(bins=100)"
      ],
      "execution_count": 50,
      "outputs": [
        {
          "output_type": "execute_result",
          "data": {
            "text/plain": [
              "<matplotlib.axes._subplots.AxesSubplot at 0x7ffa6f148590>"
            ]
          },
          "metadata": {
            "tags": []
          },
          "execution_count": 50
        },
        {
          "output_type": "display_data",
          "data": {
            "image/png": "[encoded data removed]",
            "text/plain": [
              "<Figure size 432x288 with 1 Axes>"
            ]
          },
          "metadata": {
            "tags": [],
            "needs_background": "light"
          }
        }
      ]
    },
    {
      "cell_type": "code",
      "metadata": {
        "colab": {
          "base_uri": "https://localhost:8080/",
          "height": 284
        },
        "id": "HFoIwHshheWV",
        "outputId": "1d2a404d-23d3-4684-ea24-c05b95f7c66e"
      },
      "source": [
        "# HCV molecules length distribution\n",
        "hiv1_hcv[hiv1_hcv.species_id == HCV].canonical_smiles.apply(len).hist(bins=100)"
      ],
      "execution_count": 51,
      "outputs": [
        {
          "output_type": "execute_result",
          "data": {
            "text/plain": [
              "<matplotlib.axes._subplots.AxesSubplot at 0x7ffa6f129f10>"
            ]
          },
          "metadata": {
            "tags": []
          },
          "execution_count": 51
        },
        {
          "output_type": "display_data",
          "data": {
            "image/png": "[encoded data removed]",
            "text/plain": [
              "<Figure size 432x288 with 1 Axes>"
            ]
          },
          "metadata": {
            "tags": [],
            "needs_background": "light"
          }
        }
      ]
    },
    {
      "cell_type": "code",
      "metadata": {
        "id": "xwmVRSlUvCyQ"
      },
      "source": [
        "MAX_LEN = 250\n",
        "DEBUG = False"
      ],
      "execution_count": 52,
      "outputs": []
    },
    {
      "cell_type": "code",
      "metadata": {
        "id": "iaYi7bBhic4x"
      },
      "source": [
        "hiv1_hcv = hiv1_hcv[hiv1_hcv.canonical_smiles.apply(len) < MAX_LEN]"
      ],
      "execution_count": 53,
      "outputs": []
    },
    {
      "cell_type": "code",
      "metadata": {
        "colab": {
          "base_uri": "https://localhost:8080/"
        },
        "id": "nZLY3aPwja7f",
        "outputId": "8d92db69-1a0d-493a-ffea-952eb2b469dc"
      },
      "source": [
        "!gdown --id 16S-QJGH0vWtmhB0ONF0cFyyoNmObusd8"
      ],
      "execution_count": 59,
      "outputs": [
        {
          "output_type": "stream",
          "text": [
            "Downloading...\n",
            "From: https://drive.google.com/uc?id=16S-QJGH0vWtmhB0ONF0cFyyoNmObusd8\n",
            "To: /content/mord_keys.csv\n",
            "\r  0% 0.00/6.21k [00:00<?, ?B/s]\r100% 6.21k/6.21k [00:00<00:00, 2.34MB/s]\n"
          ],
          "name": "stdout"
        }
      ]
    },
    {
      "cell_type": "code",
      "metadata": {
        "id": "AY1pckLNjrIW"
      },
      "source": [
        "custom_descriptors = pd.read_csv('mord_keys.csv')['mord_keys'].values.tolist()"
      ],
      "execution_count": 60,
      "outputs": []
    },
    {
      "cell_type": "code",
      "metadata": {
        "id": "KS0uVzHbhu2C"
      },
      "source": [
        "# !!!the following code can take a long time and a lot of memory \n",
        "# running on subset "
      ],
      "execution_count": 44,
      "outputs": []
    },
    {
      "cell_type": "code",
      "metadata": {
        "id": "awNwnVGdiRzF"
      },
      "source": [
        "hiv1_hcv = hiv1_hcv.head(200) # comment this line to get a full dataset"
      ],
      "execution_count": 54,
      "outputs": []
    },
    {
      "cell_type": "code",
      "metadata": {
        "id": "SyC8ffUfvYs5"
      },
      "source": [
        "mols = [Chem.MolFromSmiles(i) for i in hiv1_hcv.canonical_smiles]\n",
        "calc = Calculator(descriptors, ignore_3D=True)"
      ],
      "execution_count": 63,
      "outputs": []
    },
    {
      "cell_type": "code",
      "metadata": {
        "colab": {
          "base_uri": "https://localhost:8080/"
        },
        "id": "izasYbRwJm7m",
        "outputId": "7d2e73d9-d1d9-4626-e0aa-b1bb8dde64ab"
      },
      "source": [
        "md = calc.pandas(mols)"
      ],
      "execution_count": 65,
      "outputs": [
        {
          "output_type": "stream",
          "text": [
            " 18%|█▊        | 36/200 [00:27<03:06,  1.14s/it]"
          ],
          "name": "stderr"
        },
        {
          "output_type": "stream",
          "text": [
            "/usr/local/lib/python3.7/dist-packages/numpy/core/fromnumeric.py:87: RuntimeWarning: overflow encountered in reduce\n",
            "  return ufunc.reduce(obj, axis, dtype, out, **passkwargs)\n"
          ],
          "name": "stdout"
        },
        {
          "output_type": "stream",
          "text": [
            " 44%|████▎     | 87/200 [01:06<01:30,  1.25it/s]"
          ],
          "name": "stderr"
        },
        {
          "output_type": "stream",
          "text": [
            "/usr/local/lib/python3.7/dist-packages/numpy/core/fromnumeric.py:87: RuntimeWarning: overflow encountered in reduce\n",
            "  return ufunc.reduce(obj, axis, dtype, out, **passkwargs)\n"
          ],
          "name": "stdout"
        },
        {
          "output_type": "stream",
          "text": [
            "100%|██████████| 200/200 [02:21<00:00,  1.41it/s]\n"
          ],
          "name": "stderr"
        }
      ]
    },
    {
      "cell_type": "code",
      "metadata": {
        "id": "auDj0cITiiyn"
      },
      "source": [
        "smile_ft = [mol_to_feature(mol,-1, MAX_LEN) for mol in mols]"
      ],
      "execution_count": 66,
      "outputs": []
    },
    {
      "cell_type": "code",
      "metadata": {
        "id": "RZrwOpZ1lE_z"
      },
      "source": [
        "md = md[custom_descriptors]"
      ],
      "execution_count": 67,
      "outputs": []
    },
    {
      "cell_type": "code",
      "metadata": {
        "id": "ybaKcttOlH5N"
      },
      "source": [
        "md['active'] = hiv1_hcv.species_id.apply(lambda x: 1 if x == HIV1 else 0).values.tolist()\n",
        "md['smile_ft'] = smile_ft\n",
        "md['smiles'] = hiv1_hcv.canonical_smiles.values.tolist()"
      ],
      "execution_count": 68,
      "outputs": []
    },
    {
      "cell_type": "code",
      "metadata": {
        "id": "-U9UT4dBikeR"
      },
      "source": [
        "md.to_csv('hiv1_hcv_temp.csv', index=False)\n",
        "hiv1_hcv_final = pd.read_csv('hiv1_hcv_temp.csv')"
      ],
      "execution_count": 69,
      "outputs": []
    },
    {
      "cell_type": "code",
      "metadata": {
        "id": "fNaFDqfjl8qh"
      },
      "source": [
        "# when working with full dataset, reading hiv1_hcv_final will return you warning\n",
        "# DtypeWarning: Columns (4,5,6, ...) have mixed types. Specify dtype option on import or set low_memory=False.\n",
        "# copy all the listed columns to bad_cols list \n",
        "bad_cols = []"
      ],
      "execution_count": 73,
      "outputs": []
    },
    {
      "cell_type": "code",
      "metadata": {
        "id": "-GqMpuzJmTbk"
      },
      "source": [
        "for c in bad_cols:\n",
        "    col = hiv1_hcv_final.columns.values[c]\n",
        "    # col contains numbers and string - the error message\n",
        "    # taking max value will return you this error message\n",
        "    bad_val = max(hiv1_hcv_final[col].apply(str).values)\n",
        "    to_drop = hiv1_hcv_final[hiv1_hcv_final[col] == bad_val].index.values.tolist()\n",
        "    hiv1_hcv_final = hiv1_hcv_final.drop(to_drop, axis=0)"
      ],
      "execution_count": 74,
      "outputs": []
    },
    {
      "cell_type": "code",
      "metadata": {
        "id": "fkAEUgaEmxJA"
      },
      "source": [
        "hiv1_hcv_final.to_csv('hiv1_hcv.csv', index=False)"
      ],
      "execution_count": 75,
      "outputs": []
    }
  ]
}